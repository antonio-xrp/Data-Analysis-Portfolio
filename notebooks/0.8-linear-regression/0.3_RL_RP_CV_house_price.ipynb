{
 "cells": [
  {
   "cell_type": "markdown",
   "metadata": {},
   "source": [
    "### Cross Validation"
   ]
  },
  {
   "cell_type": "code",
   "execution_count": 1,
   "metadata": {},
   "outputs": [],
   "source": [
    "import numpy as np\n",
    "import pickle\n",
    "import pandas as pd \n",
    "import matplotlib.pyplot as plt\n",
    "\n",
    "from sklearn.preprocessing import StandardScaler, PolynomialFeatures\n",
    "from sklearn.model_selection import KFold, cross_val_predict\n",
    "from sklearn.linear_model import LinearRegression, Lasso, Ridge\n",
    "from sklearn.metrics import r2_score\n",
    "from sklearn.pipeline import Pipeline\n",
    "\n",
    "import warnings\n",
    "def warn(*args, **kwargs):\n",
    "    pass\n",
    "\n",
    "warnings.warn = warn"
   ]
  },
  {
   "cell_type": "code",
   "execution_count": 2,
   "metadata": {},
   "outputs": [
    {
     "data": {
      "text/html": [
       "<div>\n",
       "<style scoped>\n",
       "    .dataframe tbody tr th:only-of-type {\n",
       "        vertical-align: middle;\n",
       "    }\n",
       "\n",
       "    .dataframe tbody tr th {\n",
       "        vertical-align: top;\n",
       "    }\n",
       "\n",
       "    .dataframe thead th {\n",
       "        text-align: right;\n",
       "    }\n",
       "</style>\n",
       "<table border=\"1\" class=\"dataframe\">\n",
       "  <thead>\n",
       "    <tr style=\"text-align: right;\">\n",
       "      <th></th>\n",
       "      <th>CRIM</th>\n",
       "      <th>ZN</th>\n",
       "      <th>INDUS</th>\n",
       "      <th>CHAS</th>\n",
       "      <th>NOX</th>\n",
       "      <th>RM</th>\n",
       "      <th>AGE</th>\n",
       "      <th>DIS</th>\n",
       "      <th>RAD</th>\n",
       "      <th>TAX</th>\n",
       "      <th>PTRATIO</th>\n",
       "      <th>B</th>\n",
       "      <th>LSTAT</th>\n",
       "      <th>MEDV</th>\n",
       "    </tr>\n",
       "  </thead>\n",
       "  <tbody>\n",
       "    <tr>\n",
       "      <th>0</th>\n",
       "      <td>0.00632</td>\n",
       "      <td>18.0</td>\n",
       "      <td>2.31</td>\n",
       "      <td>0.0</td>\n",
       "      <td>0.538</td>\n",
       "      <td>6.575</td>\n",
       "      <td>65.2</td>\n",
       "      <td>4.0900</td>\n",
       "      <td>1.0</td>\n",
       "      <td>296.0</td>\n",
       "      <td>15.3</td>\n",
       "      <td>396.90</td>\n",
       "      <td>4.98</td>\n",
       "      <td>24.0</td>\n",
       "    </tr>\n",
       "    <tr>\n",
       "      <th>1</th>\n",
       "      <td>0.02731</td>\n",
       "      <td>0.0</td>\n",
       "      <td>7.07</td>\n",
       "      <td>0.0</td>\n",
       "      <td>0.469</td>\n",
       "      <td>6.421</td>\n",
       "      <td>78.9</td>\n",
       "      <td>4.9671</td>\n",
       "      <td>2.0</td>\n",
       "      <td>242.0</td>\n",
       "      <td>17.8</td>\n",
       "      <td>396.90</td>\n",
       "      <td>9.14</td>\n",
       "      <td>21.6</td>\n",
       "    </tr>\n",
       "    <tr>\n",
       "      <th>2</th>\n",
       "      <td>0.02729</td>\n",
       "      <td>0.0</td>\n",
       "      <td>7.07</td>\n",
       "      <td>0.0</td>\n",
       "      <td>0.469</td>\n",
       "      <td>7.185</td>\n",
       "      <td>61.1</td>\n",
       "      <td>4.9671</td>\n",
       "      <td>2.0</td>\n",
       "      <td>242.0</td>\n",
       "      <td>17.8</td>\n",
       "      <td>392.83</td>\n",
       "      <td>4.03</td>\n",
       "      <td>34.7</td>\n",
       "    </tr>\n",
       "    <tr>\n",
       "      <th>3</th>\n",
       "      <td>0.03237</td>\n",
       "      <td>0.0</td>\n",
       "      <td>2.18</td>\n",
       "      <td>0.0</td>\n",
       "      <td>0.458</td>\n",
       "      <td>6.998</td>\n",
       "      <td>45.8</td>\n",
       "      <td>6.0622</td>\n",
       "      <td>3.0</td>\n",
       "      <td>222.0</td>\n",
       "      <td>18.7</td>\n",
       "      <td>394.63</td>\n",
       "      <td>2.94</td>\n",
       "      <td>33.4</td>\n",
       "    </tr>\n",
       "    <tr>\n",
       "      <th>4</th>\n",
       "      <td>0.06905</td>\n",
       "      <td>0.0</td>\n",
       "      <td>2.18</td>\n",
       "      <td>0.0</td>\n",
       "      <td>0.458</td>\n",
       "      <td>7.147</td>\n",
       "      <td>54.2</td>\n",
       "      <td>6.0622</td>\n",
       "      <td>3.0</td>\n",
       "      <td>222.0</td>\n",
       "      <td>18.7</td>\n",
       "      <td>396.90</td>\n",
       "      <td>5.33</td>\n",
       "      <td>36.2</td>\n",
       "    </tr>\n",
       "  </tbody>\n",
       "</table>\n",
       "</div>"
      ],
      "text/plain": [
       "      CRIM    ZN  INDUS  CHAS    NOX     RM   AGE     DIS  RAD    TAX  \\\n",
       "0  0.00632  18.0   2.31   0.0  0.538  6.575  65.2  4.0900  1.0  296.0   \n",
       "1  0.02731   0.0   7.07   0.0  0.469  6.421  78.9  4.9671  2.0  242.0   \n",
       "2  0.02729   0.0   7.07   0.0  0.469  7.185  61.1  4.9671  2.0  242.0   \n",
       "3  0.03237   0.0   2.18   0.0  0.458  6.998  45.8  6.0622  3.0  222.0   \n",
       "4  0.06905   0.0   2.18   0.0  0.458  7.147  54.2  6.0622  3.0  222.0   \n",
       "\n",
       "   PTRATIO       B  LSTAT  MEDV  \n",
       "0     15.3  396.90   4.98  24.0  \n",
       "1     17.8  396.90   9.14  21.6  \n",
       "2     17.8  392.83   4.03  34.7  \n",
       "3     18.7  394.63   2.94  33.4  \n",
       "4     18.7  396.90   5.33  36.2  "
      ]
     },
     "execution_count": 2,
     "metadata": {},
     "output_type": "execute_result"
    }
   ],
   "source": [
    "df = pickle.load(open('./../boston_housing_clean.pickle', \"rb\" ))\n",
    "\n",
    "df.keys()\n",
    "\n",
    "df_data = df['dataframe']\n",
    "df_description = df['description']\n",
    "\n",
    "df_data.head()"
   ]
  },
  {
   "cell_type": "markdown",
   "metadata": {},
   "source": [
    "### Coding this up\n",
    "\n",
    "The Kfold object in Scikit Learn tells the cross validation object (see below) how to split up the data."
   ]
  },
  {
   "cell_type": "code",
   "execution_count": 3,
   "metadata": {},
   "outputs": [],
   "source": [
    "X = df_data.drop('MEDV', axis=1)\n",
    "y = df_data.MEDV"
   ]
  },
  {
   "cell_type": "code",
   "execution_count": 4,
   "metadata": {},
   "outputs": [
    {
     "name": "stdout",
     "output_type": "stream",
     "text": [
      "Train index:  [ 1  3  4  5  7  8 10 11 12 13] 337\n",
      "Test index:  [ 0  2  6  9 15 17 19 23 25 26] 169\n",
      "\n",
      "Train index:  [ 0  2  6  9 10 11 12 13 15 17] 337\n",
      "Test index:  [ 1  3  4  5  7  8 14 16 22 27] 169\n",
      "\n",
      "Train index:  [0 1 2 3 4 5 6 7 8 9] 338\n",
      "Test index:  [10 11 12 13 18 20 21 24 28 31] 168\n",
      "\n"
     ]
    }
   ],
   "source": [
    "kf = KFold(shuffle=True, random_state=72018, n_splits=3)\n",
    "\n",
    "# Prueba de conjuntos o pliegues con KF para las 10 primeras unidades\n",
    "\n",
    "for train_index, test_index in kf.split(X):\n",
    "    print(f'Train index: ', train_index[:10], len(train_index))\n",
    "    print(f'Test index: ', test_index[:10], len(test_index))\n",
    "    print('')"
   ]
  },
  {
   "cell_type": "code",
   "execution_count": 5,
   "metadata": {},
   "outputs": [
    {
     "data": {
      "text/plain": [
       "[0.6719348798472742, 0.7485020059212377, 0.6976807323597771]"
      ]
     },
     "execution_count": 5,
     "metadata": {},
     "output_type": "execute_result"
    }
   ],
   "source": [
    "scores = []\n",
    "lr = LinearRegression()\n",
    "\n",
    "# Predecir para las 3 folds la r2\n",
    "\n",
    "for train_index, test_index in kf.split(X):\n",
    "    X_train, X_test, y_train, y_test = (X.iloc[train_index, :],\n",
    "                                        X.iloc[test_index, :],\n",
    "                                        y[train_index],\n",
    "                                        y[test_index])\n",
    "    \n",
    "    lr.fit(X_train, y_train)\n",
    "    y_pred =lr.predict(X_test)\n",
    "    score = r2_score(y_test.values, y_pred)\n",
    "    scores.append(score)\n",
    "\n",
    "scores"
   ]
  },
  {
   "cell_type": "markdown",
   "metadata": {},
   "source": [
    "### Discussion (Part 2):\n",
    "\n",
    "Now suppose we want to do the same, but appropriately scaling our data as we go through the folds.\n",
    "\n",
    "What would the steps be now?\n",
    "\n",
    "### Coding this up"
   ]
  },
  {
   "cell_type": "code",
   "execution_count": 6,
   "metadata": {},
   "outputs": [
    {
     "data": {
      "text/plain": [
       "[0.6719348798472715, 0.748502005921238, 0.6976807323597745]"
      ]
     },
     "execution_count": 6,
     "metadata": {},
     "output_type": "execute_result"
    }
   ],
   "source": [
    "scores = []\n",
    "lr = LinearRegression()\n",
    "s = StandardScaler()\n",
    "\n",
    "for train_index, test_index in kf.split(X):\n",
    "    X_train, X_test, y_train, y_test = (X.iloc[train_index, :],\n",
    "                                        X.iloc[test_index, :],\n",
    "                                        y[train_index],\n",
    "                                        y[test_index])\n",
    "    \n",
    "    X_train_s = s.fit_transform(X_train)\n",
    "    lr.fit(X_train_s, y_train)\n",
    "    X_test_s = s.transform(X_test)\n",
    "    y_pred = lr.predict(X_test_s)\n",
    "    score = r2_score(y_test.values, y_pred)\n",
    "    scores.append(score)\n",
    "\n",
    "scores"
   ]
  },
  {
   "cell_type": "markdown",
   "metadata": {},
   "source": [
    "(same scores, because for vanilla linear regression with no regularization, *scaling actually doesn't matter for performance*)\n",
    "\n",
    "This is getting quite cumbersome!\n",
    "\n",
    "Very luckily, SciKit Learn has some wonderful functions that handle a lot of this for us.\n",
    "\n",
    "### Pipeline and Cross_val_predict\n",
    "\n",
    "Pipeline lets you chain together multiple operators on your data that both have a fit method.\n",
    "\n"
   ]
  },
  {
   "cell_type": "code",
   "execution_count": 7,
   "metadata": {},
   "outputs": [],
   "source": [
    "s = StandardScaler()\n",
    "lr = LinearRegression()\n",
    "\n",
    "#Combine multiple processing steps into a Pipeline\n",
    "estimator = Pipeline([('scaler',s),\n",
    "                      ('regression', lr)])"
   ]
  },
  {
   "cell_type": "markdown",
   "metadata": {},
   "source": [
    "cross_val_predict is a function that does K-fold cross validation for us, appropriately fitting and transforming at every step of the way."
   ]
  },
  {
   "cell_type": "code",
   "execution_count": 8,
   "metadata": {},
   "outputs": [
    {
     "data": {
      "text/plain": [
       "KFold(n_splits=3, random_state=72018, shuffle=True)"
      ]
     },
     "execution_count": 8,
     "metadata": {},
     "output_type": "execute_result"
    }
   ],
   "source": [
    "kf"
   ]
  },
  {
   "cell_type": "code",
   "execution_count": 9,
   "metadata": {},
   "outputs": [
    {
     "data": {
      "text/plain": [
       "0.7063531064161561"
      ]
     },
     "execution_count": 9,
     "metadata": {},
     "output_type": "execute_result"
    }
   ],
   "source": [
    "predictions = cross_val_predict(estimator, X, y, cv=kf)\n",
    "\n",
    "r2_score(y,predictions)"
   ]
  },
  {
   "cell_type": "code",
   "execution_count": 10,
   "metadata": {},
   "outputs": [
    {
     "data": {
      "text/plain": [
       "0.7060392060427613"
      ]
     },
     "execution_count": 10,
     "metadata": {},
     "output_type": "execute_result"
    }
   ],
   "source": [
    "np.mean(scores)"
   ]
  },
  {
   "cell_type": "markdown",
   "metadata": {},
   "source": [
    "Note that `cross_val_predict` doesn't use the same model for all steps; the predictions for each row are made when that row is in the validation set. We really have the collected results of 3 (i.e. kf.num_splits) different models.\n",
    "\n",
    "When we are done, `estimator` is still not fitted. If we want to predict on new data, we still have to train our `estimator`.\n",
    "\n",
    "### Hyperparameter"
   ]
  },
  {
   "cell_type": "code",
   "execution_count": 11,
   "metadata": {},
   "outputs": [
    {
     "data": {
      "text/plain": [
       "[(1e-09, 0.7063531064981925),\n",
       " (1e-08, 0.7063531072356071),\n",
       " (1e-07, 0.7063531145602442),\n",
       " (1e-06, 0.7063531882052064),\n",
       " (1e-05, 0.7063539165191507),\n",
       " (0.0001, 0.706361268093463),\n",
       " (0.001, 0.706433467041546),\n",
       " (0.01, 0.7070865958083233),\n",
       " (0.1, 0.705838151167185),\n",
       " (1.0, 0.6512724532884887)]"
      ]
     },
     "execution_count": 11,
     "metadata": {},
     "output_type": "execute_result"
    }
   ],
   "source": [
    "# lasso alpha\n",
    "alphas = np.geomspace(1e-9, 1e0, num=10)\n",
    "\n",
    "scores = []\n",
    "coefs = []\n",
    "\n",
    "# The code below tunes alpha hyperparameter for Lasso Regression\n",
    "for alpha in alphas:\n",
    "    las = Lasso(alpha=alpha, max_iter=100000)\n",
    "\n",
    "    estimator = Pipeline([('scaler', s),\n",
    "                          ('lass_regression', las)])\n",
    "    \n",
    "    predictions = cross_val_predict(estimator, X, y, cv = kf)\n",
    "\n",
    "    score = r2_score(y, predictions)\n",
    "    scores.append(score)\n",
    "\n",
    "list(zip(alphas, scores))"
   ]
  },
  {
   "cell_type": "code",
   "execution_count": 12,
   "metadata": {},
   "outputs": [
    {
     "data": {
      "text/plain": [
       "array([-1.07170372e-01,  4.63952623e-02,  2.08588308e-02,  2.68854318e+00,\n",
       "       -1.77954207e+01,  3.80475296e+00,  7.50802707e-04, -1.47575348e+00,\n",
       "        3.05654279e-01, -1.23293755e-02, -9.53459908e-01,  9.39253013e-03,\n",
       "       -5.25467196e-01])"
      ]
     },
     "execution_count": 12,
     "metadata": {},
     "output_type": "execute_result"
    }
   ],
   "source": [
    "# ajustamos lasso y ontemos los ceficientes para un alpha específico\n",
    "Lasso(alpha=1e-6).fit(X,y).coef_"
   ]
  },
  {
   "cell_type": "code",
   "execution_count": 13,
   "metadata": {},
   "outputs": [
    {
     "data": {
      "text/plain": [
       "array([-0.06342255,  0.04916867, -0.        ,  0.        , -0.        ,\n",
       "        0.94678567,  0.02092737, -0.66900864,  0.26417501, -0.01520915,\n",
       "       -0.72319901,  0.00829117, -0.76143296])"
      ]
     },
     "execution_count": 13,
     "metadata": {},
     "output_type": "execute_result"
    }
   ],
   "source": [
    "Lasso(alpha=1.0).fit(X,y).coef_"
   ]
  },
  {
   "cell_type": "code",
   "execution_count": 14,
   "metadata": {},
   "outputs": [
    {
     "data": {
      "image/png": "[encoded data removed]",
      "text/plain": [
       "<Figure size 640x480 with 1 Axes>"
      ]
     },
     "metadata": {},
     "output_type": "display_data"
    }
   ],
   "source": [
    "plt.semilogx(alphas, scores, '-o')\n",
    "plt.title('Lasso Regression')\n",
    "plt.xlabel('$\\\\alpha$')\n",
    "plt.ylabel('$R²$')\n",
    "plt.show()"
   ]
  },
  {
   "cell_type": "markdown",
   "metadata": {},
   "source": [
    "### Using PolynomialFeatures"
   ]
  },
  {
   "cell_type": "code",
   "execution_count": 15,
   "metadata": {},
   "outputs": [
    {
     "data": {
      "text/plain": [
       "[0.8465056899967264,\n",
       " 0.8552553819994723,\n",
       " 0.8124536477296069,\n",
       " 0.7090474482089187,\n",
       " -0.000616160136140298]"
      ]
     },
     "execution_count": 15,
     "metadata": {},
     "output_type": "execute_result"
    }
   ],
   "source": [
    "pf = PolynomialFeatures(degree=2)\n",
    "scores = []\n",
    "alphas = np.geomspace(0.001, 10, 5)\n",
    "\n",
    "for alpha in alphas:\n",
    "    las = Lasso(alpha=alpha, max_iter=100000)\n",
    "    estimator = Pipeline([(\"make_higher_degree\", pf),\n",
    "                          (\"scaler\", s),\n",
    "                          (\"lasso_regression\", las)])\n",
    "    \n",
    "    predictions = cross_val_predict(estimator, X,y, cv=kf)\n",
    "    score = r2_score(y, predictions)\n",
    "    scores.append(score)\n",
    "\n",
    "scores"
   ]
  },
  {
   "cell_type": "code",
   "execution_count": 16,
   "metadata": {},
   "outputs": [
    {
     "data": {
      "image/png": "[encoded data removed]",
      "text/plain": [
       "<Figure size 640x480 with 1 Axes>"
      ]
     },
     "metadata": {},
     "output_type": "display_data"
    }
   ],
   "source": [
    "plt.semilogx(alphas, scores, '-o')\n",
    "plt.title('Lasso Regression')\n",
    "plt.xlabel('$\\\\alpha$')\n",
    "plt.ylabel('$R²$')\n",
    "plt.show()"
   ]
  },
  {
   "cell_type": "code",
   "execution_count": 17,
   "metadata": {},
   "outputs": [
    {
     "data": {
      "text/plain": [
       "0.9032551408154241"
      ]
     },
     "execution_count": 17,
     "metadata": {},
     "output_type": "execute_result"
    }
   ],
   "source": [
    "# Once we have found the hyperparameter (alpha~1e-2=0.01)\n",
    "# make the model and train it on ALL the data\n",
    "# Then release it into the wild .....\n",
    "best_estimator = Pipeline([('make_higher_degree', PolynomialFeatures(degree=2)),\n",
    "                           ('scaler', s),\n",
    "                           ('lasso_regression', Lasso(alpha=0.01, max_iter=100000))])\n",
    "\n",
    "best_estimator.fit(X,y)\n",
    "best_estimator.score(X,y)"
   ]
  },
  {
   "cell_type": "code",
   "execution_count": 18,
   "metadata": {},
   "outputs": [
    {
     "data": {
      "text/plain": [
       "array([ 0.00000000e+00, -0.00000000e+00, -0.00000000e+00,  0.00000000e+00,\n",
       "        4.61127587e+00,  0.00000000e+00,  6.24240557e-01,  0.00000000e+00,\n",
       "       -7.22878514e+00,  9.74968793e+00,  0.00000000e+00,  0.00000000e+00,\n",
       "        6.34548325e-01,  0.00000000e+00,  9.95741679e-01, -5.51374291e-03,\n",
       "       -0.00000000e+00,  2.44370838e+00, -2.40444044e+00, -0.00000000e+00,\n",
       "       -0.00000000e+00, -2.23044443e-01, -0.00000000e+00, -0.00000000e+00,\n",
       "       -0.00000000e+00, -2.88128934e-01,  5.17203914e-01,  3.07715719e-01,\n",
       "       -3.39853933e-01, -9.86590910e-02, -0.00000000e+00,  2.72847487e-01,\n",
       "       -0.00000000e+00, -6.39829763e-01, -3.16474346e-01,  1.44555554e+00,\n",
       "        0.00000000e+00, -0.00000000e+00, -8.84630187e-01,  1.32081558e+00,\n",
       "        0.00000000e+00,  0.00000000e+00, -0.00000000e+00,  2.63148300e+00,\n",
       "       -2.62941147e-01,  0.00000000e+00,  9.08410143e-01, -8.17144528e-01,\n",
       "        0.00000000e+00, -4.31628234e+00,  5.53254405e-01, -2.91912598e+00,\n",
       "       -4.68486241e+00,  5.80360142e-01,  6.93705854e-01, -1.43087388e+00,\n",
       "       -0.00000000e+00,  0.00000000e+00,  1.80219873e+00, -7.93324201e-01,\n",
       "        0.00000000e+00, -2.99366807e-01, -0.00000000e+00, -0.00000000e+00,\n",
       "       -9.26619562e-01, -0.00000000e+00, -1.52207140e+00,  0.00000000e+00,\n",
       "        1.59132103e-01,  8.59406852e+00, -1.79580442e+00,  0.00000000e+00,\n",
       "       -4.43064063e+00, -6.67704537e+00, -2.78398024e+00,  4.36511083e-01,\n",
       "       -2.07418701e+00, -0.00000000e+00,  4.42278783e-01,  1.97121461e+00,\n",
       "        0.00000000e+00, -0.00000000e+00, -5.63885266e-01, -1.90366836e+00,\n",
       "        3.79255941e+00, -0.00000000e+00, -3.58998427e-01,  3.99107900e-01,\n",
       "       -0.00000000e+00,  8.70546159e-01, -0.00000000e+00,  0.00000000e+00,\n",
       "        0.00000000e+00,  0.00000000e+00, -4.54568143e+00,  0.00000000e+00,\n",
       "        5.12959518e+00,  0.00000000e+00, -6.41075173e-01,  3.19584847e-01,\n",
       "        1.08275771e+00,  0.00000000e+00, -4.07836880e-01, -1.15427697e+00,\n",
       "        5.63522883e+00])"
      ]
     },
     "execution_count": 18,
     "metadata": {},
     "output_type": "execute_result"
    }
   ],
   "source": [
    "best_estimator.named_steps['lasso_regression'].coef_"
   ]
  },
  {
   "cell_type": "markdown",
   "metadata": {},
   "source": [
    "### Regression Ridge"
   ]
  },
  {
   "cell_type": "markdown",
   "metadata": {},
   "source": [
    "Which model, Ridge or Lasso, performs best with its optimal hyperparameters on the Boston dataset?\n",
    "\n"
   ]
  },
  {
   "cell_type": "code",
   "execution_count": 19,
   "metadata": {},
   "outputs": [
    {
     "data": {
      "text/plain": [
       "[0.8542799099367075,\n",
       " 0.8533435447722383,\n",
       " 0.8523239993862886,\n",
       " 0.851216427877795,\n",
       " 0.8500160637574418,\n",
       " 0.848718337788122,\n",
       " 0.847319007171533,\n",
       " 0.8458142923258459,\n",
       " 0.8442010166574796,\n",
       " 0.8424767440382863,\n",
       " 0.8406399082220848,\n",
       " 0.8386899282277978,\n",
       " 0.8366273038238183,\n",
       " 0.8344536856939685,\n",
       " 0.8321719156512526,\n",
       " 0.8297860333680591,\n",
       " 0.8273012474619004,\n",
       " 0.8247238703424089,\n",
       " 0.8220612178978945,\n",
       " 0.8193214767757384]"
      ]
     },
     "execution_count": 19,
     "metadata": {},
     "output_type": "execute_result"
    }
   ],
   "source": [
    "pf = PolynomialFeatures(degree=2)\n",
    "scores = []\n",
    "alphas = np.geomspace(4,20,20)\n",
    "\n",
    "for alpha in alphas:\n",
    "    ridge = Ridge(alpha=alpha, max_iter=100000)\n",
    "    estimator = Pipeline([('polynomial_features', pf),\n",
    "                          ('scaler', s),\n",
    "                          ('ridge_regression', ridge)])\n",
    "    \n",
    "    predictions = cross_val_predict(estimator, X, y, cv=kf)\n",
    "    score = r2_score(y,predictions)\n",
    "    scores.append(score)\n",
    "\n",
    "scores"
   ]
  },
  {
   "cell_type": "code",
   "execution_count": 20,
   "metadata": {},
   "outputs": [
    {
     "data": {
      "image/png": "[encoded data removed]",
      "text/plain": [
       "<Figure size 640x480 with 1 Axes>"
      ]
     },
     "metadata": {},
     "output_type": "display_data"
    }
   ],
   "source": [
    "plt.plot(alphas, scores)\n",
    "plt.title('Ridge Regression')\n",
    "plt.xlabel('$\\\\alpha$')\n",
    "plt.ylabel('$R²$')\n",
    "plt.show()"
   ]
  },
  {
   "cell_type": "markdown",
   "metadata": {},
   "source": [
    "**Conclusion**: Both Lasso and Ridge with proper hyperparameter tuning give better results than plain ol' Linear Regression!\n",
    "\n"
   ]
  },
  {
   "cell_type": "code",
   "execution_count": 22,
   "metadata": {},
   "outputs": [
    {
     "data": {
      "text/plain": [
       "0.9032551408154241"
      ]
     },
     "execution_count": 22,
     "metadata": {},
     "output_type": "execute_result"
    }
   ],
   "source": [
    "# Once we have found the hyperparameter (alpha~1e-2=0.01)\n",
    "# make the model and train it on ALL the data\n",
    "# Then release it into the wild .....\n",
    "best_estimator = Pipeline([('make_higher_degree', PolynomialFeatures(degree=2)),\n",
    "                           ('scaler', s),\n",
    "                           ('lasso_regression', Lasso(alpha=0.01, max_iter=100000))])\n",
    "\n",
    "best_estimator.fit(X,y)\n",
    "best_estimator.score(X,y)"
   ]
  },
  {
   "cell_type": "code",
   "execution_count": 30,
   "metadata": {},
   "outputs": [
    {
     "data": {
      "text/html": [
       "<div>\n",
       "<style scoped>\n",
       "    .dataframe tbody tr th:only-of-type {\n",
       "        vertical-align: middle;\n",
       "    }\n",
       "\n",
       "    .dataframe tbody tr th {\n",
       "        vertical-align: top;\n",
       "    }\n",
       "\n",
       "    .dataframe thead th {\n",
       "        text-align: right;\n",
       "    }\n",
       "</style>\n",
       "<table border=\"1\" class=\"dataframe\">\n",
       "  <thead>\n",
       "    <tr style=\"text-align: right;\">\n",
       "      <th></th>\n",
       "      <th>0</th>\n",
       "      <th>1</th>\n",
       "    </tr>\n",
       "  </thead>\n",
       "  <tbody>\n",
       "    <tr>\n",
       "      <th>8</th>\n",
       "      <td>DIS</td>\n",
       "      <td>-7.228785</td>\n",
       "    </tr>\n",
       "    <tr>\n",
       "      <th>73</th>\n",
       "      <td>RM TAX</td>\n",
       "      <td>-6.677045</td>\n",
       "    </tr>\n",
       "    <tr>\n",
       "      <th>52</th>\n",
       "      <td>CHAS RM</td>\n",
       "      <td>-4.684862</td>\n",
       "    </tr>\n",
       "    <tr>\n",
       "      <th>94</th>\n",
       "      <td>RAD LSTAT</td>\n",
       "      <td>-4.545681</td>\n",
       "    </tr>\n",
       "    <tr>\n",
       "      <th>72</th>\n",
       "      <td>RM RAD</td>\n",
       "      <td>-4.430641</td>\n",
       "    </tr>\n",
       "    <tr>\n",
       "      <th>...</th>\n",
       "      <td>...</td>\n",
       "      <td>...</td>\n",
       "    </tr>\n",
       "    <tr>\n",
       "      <th>4</th>\n",
       "      <td>CHAS</td>\n",
       "      <td>4.611276</td>\n",
       "    </tr>\n",
       "    <tr>\n",
       "      <th>96</th>\n",
       "      <td>TAX PTRATIO</td>\n",
       "      <td>5.129595</td>\n",
       "    </tr>\n",
       "    <tr>\n",
       "      <th>104</th>\n",
       "      <td>LSTAT^2</td>\n",
       "      <td>5.635229</td>\n",
       "    </tr>\n",
       "    <tr>\n",
       "      <th>69</th>\n",
       "      <td>RM^2</td>\n",
       "      <td>8.594069</td>\n",
       "    </tr>\n",
       "    <tr>\n",
       "      <th>9</th>\n",
       "      <td>RAD</td>\n",
       "      <td>9.749688</td>\n",
       "    </tr>\n",
       "  </tbody>\n",
       "</table>\n",
       "<p>105 rows × 2 columns</p>\n",
       "</div>"
      ],
      "text/plain": [
       "               0         1\n",
       "8            DIS -7.228785\n",
       "73        RM TAX -6.677045\n",
       "52       CHAS RM -4.684862\n",
       "94     RAD LSTAT -4.545681\n",
       "72        RM RAD -4.430641\n",
       "..           ...       ...\n",
       "4           CHAS  4.611276\n",
       "96   TAX PTRATIO  5.129595\n",
       "104      LSTAT^2  5.635229\n",
       "69          RM^2  8.594069\n",
       "9            RAD  9.749688\n",
       "\n",
       "[105 rows x 2 columns]"
      ]
     },
     "execution_count": 30,
     "metadata": {},
     "output_type": "execute_result"
    }
   ],
   "source": [
    "df_importances = pd.DataFrame(zip(best_estimator.named_steps['make_higher_degree'].get_feature_names_out(),\n",
    "                                  best_estimator.named_steps['lasso_regression'].coef_))\n",
    "df_importances.sort_values(by=1)\n"
   ]
  },
  {
   "cell_type": "code",
   "execution_count": 29,
   "metadata": {},
   "outputs": [
    {
     "data": {
      "text/plain": [
       "{0: 'CRIM',\n",
       " 1: 'ZN',\n",
       " 2: 'INDUS',\n",
       " 3: 'CHAS',\n",
       " 4: 'NOX',\n",
       " 5: 'RM',\n",
       " 6: 'AGE',\n",
       " 7: 'DIS',\n",
       " 8: 'RAD',\n",
       " 9: 'TAX',\n",
       " 10: 'PTRATIO',\n",
       " 11: 'B',\n",
       " 12: 'LSTAT'}"
      ]
     },
     "execution_count": 29,
     "metadata": {},
     "output_type": "execute_result"
    }
   ],
   "source": [
    "col_names_dict = dict(zip(list(range(len(X.columns.values))), X.columns.values))\n",
    "\n",
    "col_names_dict"
   ]
  },
  {
   "cell_type": "markdown",
   "metadata": {},
   "source": [
    "### Grid Search CV"
   ]
  },
  {
   "cell_type": "markdown",
   "metadata": {},
   "source": [
    "To do cross-validation, we used two techniques:\n",
    "\n",
    "- use `KFolds` and manually create a loop to do cross-validation\n",
    "- use `cross_val_predict` and score to get a cross-valiated score in a couple of lines.\n",
    "\n",
    "To do hyper-parameter tuning, we see a general pattern:\n",
    "\n",
    "- use `cross_val_predict` and score in a manually written loop over hyperparemeters, then select the best one.\n",
    "\n",
    "Perhaps not surprisingly, there is a function that does this for us -- `GridSearchCV`"
   ]
  },
  {
   "cell_type": "code",
   "execution_count": 34,
   "metadata": {},
   "outputs": [],
   "source": [
    "from sklearn.model_selection import GridSearchCV"
   ]
  },
  {
   "cell_type": "code",
   "execution_count": 39,
   "metadata": {},
   "outputs": [
    {
     "data": {
      "text/html": [
       "<style>#sk-container-id-2 {color: black;background-color: white;}#sk-container-id-2 pre{padding: 0;}#sk-container-id-2 div.sk-toggleable {background-color: white;}#sk-container-id-2 label.sk-toggleable__label {cursor: pointer;display: block;width: 100%;margin-bottom: 0;padding: 0.3em;box-sizing: border-box;text-align: center;}#sk-container-id-2 label.sk-toggleable__label-arrow:before {content: \"▸\";float: left;margin-right: 0.25em;color: #696969;}#sk-container-id-2 label.sk-toggleable__label-arrow:hover:before {color: black;}#sk-container-id-2 div.sk-estimator:hover label.sk-toggleable__label-arrow:before {color: black;}#sk-container-id-2 div.sk-toggleable__content {max-height: 0;max-width: 0;overflow: hidden;text-align: left;background-color: #f0f8ff;}#sk-container-id-2 div.sk-toggleable__content pre {margin: 0.2em;color: black;border-radius: 0.25em;background-color: #f0f8ff;}#sk-container-id-2 input.sk-toggleable__control:checked~div.sk-toggleable__content {max-height: 200px;max-width: 100%;overflow: auto;}#sk-container-id-2 input.sk-toggleable__control:checked~label.sk-toggleable__label-arrow:before {content: \"▾\";}#sk-container-id-2 div.sk-estimator input.sk-toggleable__control:checked~label.sk-toggleable__label {background-color: #d4ebff;}#sk-container-id-2 div.sk-label input.sk-toggleable__control:checked~label.sk-toggleable__label {background-color: #d4ebff;}#sk-container-id-2 input.sk-hidden--visually {border: 0;clip: rect(1px 1px 1px 1px);clip: rect(1px, 1px, 1px, 1px);height: 1px;margin: -1px;overflow: hidden;padding: 0;position: absolute;width: 1px;}#sk-container-id-2 div.sk-estimator {font-family: monospace;background-color: #f0f8ff;border: 1px dotted black;border-radius: 0.25em;box-sizing: border-box;margin-bottom: 0.5em;}#sk-container-id-2 div.sk-estimator:hover {background-color: #d4ebff;}#sk-container-id-2 div.sk-parallel-item::after {content: \"\";width: 100%;border-bottom: 1px solid gray;flex-grow: 1;}#sk-container-id-2 div.sk-label:hover label.sk-toggleable__label {background-color: #d4ebff;}#sk-container-id-2 div.sk-serial::before {content: \"\";position: absolute;border-left: 1px solid gray;box-sizing: border-box;top: 0;bottom: 0;left: 50%;z-index: 0;}#sk-container-id-2 div.sk-serial {display: flex;flex-direction: column;align-items: center;background-color: white;padding-right: 0.2em;padding-left: 0.2em;position: relative;}#sk-container-id-2 div.sk-item {position: relative;z-index: 1;}#sk-container-id-2 div.sk-parallel {display: flex;align-items: stretch;justify-content: center;background-color: white;position: relative;}#sk-container-id-2 div.sk-item::before, #sk-container-id-2 div.sk-parallel-item::before {content: \"\";position: absolute;border-left: 1px solid gray;box-sizing: border-box;top: 0;bottom: 0;left: 50%;z-index: -1;}#sk-container-id-2 div.sk-parallel-item {display: flex;flex-direction: column;z-index: 1;position: relative;background-color: white;}#sk-container-id-2 div.sk-parallel-item:first-child::after {align-self: flex-end;width: 50%;}#sk-container-id-2 div.sk-parallel-item:last-child::after {align-self: flex-start;width: 50%;}#sk-container-id-2 div.sk-parallel-item:only-child::after {width: 0;}#sk-container-id-2 div.sk-dashed-wrapped {border: 1px dashed gray;margin: 0 0.4em 0.5em 0.4em;box-sizing: border-box;padding-bottom: 0.4em;background-color: white;}#sk-container-id-2 div.sk-label label {font-family: monospace;font-weight: bold;display: inline-block;line-height: 1.2em;}#sk-container-id-2 div.sk-label-container {text-align: center;}#sk-container-id-2 div.sk-container {/* jupyter's `normalize.less` sets `[hidden] { display: none; }` but bootstrap.min.css set `[hidden] { display: none !important; }` so we also need the `!important` here to be able to override the default hidden behavior on the sphinx rendered scikit-learn.org. See: https://github.com/scikit-learn/scikit-learn/issues/21755 */display: inline-block !important;position: relative;}#sk-container-id-2 div.sk-text-repr-fallback {display: none;}</style><div id=\"sk-container-id-2\" class=\"sk-top-container\"><div class=\"sk-text-repr-fallback\"><pre>GridSearchCV(cv=KFold(n_splits=3, random_state=72018, shuffle=True),\n",
       "             estimator=Pipeline(steps=[(&#x27;polynomial_features&#x27;,\n",
       "                                        PolynomialFeatures()),\n",
       "                                       (&#x27;scaler&#x27;, StandardScaler()),\n",
       "                                       (&#x27;ridge_regression&#x27;, Ridge())]),\n",
       "             param_grid={&#x27;polynomial_features__degree&#x27;: [1, 2, 3],\n",
       "                         &#x27;ridge_regression__alpha&#x27;: array([ 4.        ,  4.3535936 ,  4.73844431,  5.15731521,  5.61321363,\n",
       "        6.10941274,  6.64947505,  7.23727802,  7.87704182,  8.57335972,\n",
       "        9.331231  , 10.1560969 , 11.05387963, 12.03102491, 13.09454827,\n",
       "       14.25208539, 15.51194695, 16.88317825, 18.37562421, 20.        ])})</pre><b>In a Jupyter environment, please rerun this cell to show the HTML representation or trust the notebook. <br />On GitHub, the HTML representation is unable to render, please try loading this page with nbviewer.org.</b></div><div class=\"sk-container\" hidden><div class=\"sk-item sk-dashed-wrapped\"><div class=\"sk-label-container\"><div class=\"sk-label sk-toggleable\"><input class=\"sk-toggleable__control sk-hidden--visually\" id=\"sk-estimator-id-6\" type=\"checkbox\" ><label for=\"sk-estimator-id-6\" class=\"sk-toggleable__label sk-toggleable__label-arrow\">GridSearchCV</label><div class=\"sk-toggleable__content\"><pre>GridSearchCV(cv=KFold(n_splits=3, random_state=72018, shuffle=True),\n",
       "             estimator=Pipeline(steps=[(&#x27;polynomial_features&#x27;,\n",
       "                                        PolynomialFeatures()),\n",
       "                                       (&#x27;scaler&#x27;, StandardScaler()),\n",
       "                                       (&#x27;ridge_regression&#x27;, Ridge())]),\n",
       "             param_grid={&#x27;polynomial_features__degree&#x27;: [1, 2, 3],\n",
       "                         &#x27;ridge_regression__alpha&#x27;: array([ 4.        ,  4.3535936 ,  4.73844431,  5.15731521,  5.61321363,\n",
       "        6.10941274,  6.64947505,  7.23727802,  7.87704182,  8.57335972,\n",
       "        9.331231  , 10.1560969 , 11.05387963, 12.03102491, 13.09454827,\n",
       "       14.25208539, 15.51194695, 16.88317825, 18.37562421, 20.        ])})</pre></div></div></div><div class=\"sk-parallel\"><div class=\"sk-parallel-item\"><div class=\"sk-item\"><div class=\"sk-label-container\"><div class=\"sk-label sk-toggleable\"><input class=\"sk-toggleable__control sk-hidden--visually\" id=\"sk-estimator-id-7\" type=\"checkbox\" ><label for=\"sk-estimator-id-7\" class=\"sk-toggleable__label sk-toggleable__label-arrow\">estimator: Pipeline</label><div class=\"sk-toggleable__content\"><pre>Pipeline(steps=[(&#x27;polynomial_features&#x27;, PolynomialFeatures()),\n",
       "                (&#x27;scaler&#x27;, StandardScaler()), (&#x27;ridge_regression&#x27;, Ridge())])</pre></div></div></div><div class=\"sk-serial\"><div class=\"sk-item\"><div class=\"sk-serial\"><div class=\"sk-item\"><div class=\"sk-estimator sk-toggleable\"><input class=\"sk-toggleable__control sk-hidden--visually\" id=\"sk-estimator-id-8\" type=\"checkbox\" ><label for=\"sk-estimator-id-8\" class=\"sk-toggleable__label sk-toggleable__label-arrow\">PolynomialFeatures</label><div class=\"sk-toggleable__content\"><pre>PolynomialFeatures()</pre></div></div></div><div class=\"sk-item\"><div class=\"sk-estimator sk-toggleable\"><input class=\"sk-toggleable__control sk-hidden--visually\" id=\"sk-estimator-id-9\" type=\"checkbox\" ><label for=\"sk-estimator-id-9\" class=\"sk-toggleable__label sk-toggleable__label-arrow\">StandardScaler</label><div class=\"sk-toggleable__content\"><pre>StandardScaler()</pre></div></div></div><div class=\"sk-item\"><div class=\"sk-estimator sk-toggleable\"><input class=\"sk-toggleable__control sk-hidden--visually\" id=\"sk-estimator-id-10\" type=\"checkbox\" ><label for=\"sk-estimator-id-10\" class=\"sk-toggleable__label sk-toggleable__label-arrow\">Ridge</label><div class=\"sk-toggleable__content\"><pre>Ridge()</pre></div></div></div></div></div></div></div></div></div></div></div></div>"
      ],
      "text/plain": [
       "GridSearchCV(cv=KFold(n_splits=3, random_state=72018, shuffle=True),\n",
       "             estimator=Pipeline(steps=[('polynomial_features',\n",
       "                                        PolynomialFeatures()),\n",
       "                                       ('scaler', StandardScaler()),\n",
       "                                       ('ridge_regression', Ridge())]),\n",
       "             param_grid={'polynomial_features__degree': [1, 2, 3],\n",
       "                         'ridge_regression__alpha': array([ 4.        ,  4.3535936 ,  4.73844431,  5.15731521,  5.61321363,\n",
       "        6.10941274,  6.64947505,  7.23727802,  7.87704182,  8.57335972,\n",
       "        9.331231  , 10.1560969 , 11.05387963, 12.03102491, 13.09454827,\n",
       "       14.25208539, 15.51194695, 16.88317825, 18.37562421, 20.        ])})"
      ]
     },
     "execution_count": 39,
     "metadata": {},
     "output_type": "execute_result"
    }
   ],
   "source": [
    "estimator = Pipeline([('polynomial_features', PolynomialFeatures()),\n",
    "                      ('scaler', StandardScaler()),\n",
    "                      ('ridge_regression', Ridge())])\n",
    "\n",
    "\n",
    "params = {'polynomial_features__degree': [1,2,3],\n",
    "          'ridge_regression__alpha': np.geomspace(4,20,20)}\n",
    "\n",
    "grid = GridSearchCV(estimator, params, cv=kf)\n",
    "grid.fit(X,y)"
   ]
  },
  {
   "cell_type": "code",
   "execution_count": 45,
   "metadata": {},
   "outputs": [
    {
     "name": "stdout",
     "output_type": "stream",
     "text": [
      "{'polynomial_features__degree': 2, 'ridge_regression__alpha': 4.0}\n",
      "0.8546333782070406\n",
      "\n",
      "\n",
      "Columnas durante el ajuste:  ['1' 'CRIM' 'ZN' 'INDUS' 'CHAS' 'NOX' 'RM' 'AGE' 'DIS' 'RAD' 'TAX'\n",
      " 'PTRATIO' 'B' 'LSTAT' 'CRIM^2' 'CRIM ZN' 'CRIM INDUS' 'CRIM CHAS'\n",
      " 'CRIM NOX' 'CRIM RM' 'CRIM AGE' 'CRIM DIS' 'CRIM RAD' 'CRIM TAX'\n",
      " 'CRIM PTRATIO' 'CRIM B' 'CRIM LSTAT' 'ZN^2' 'ZN INDUS' 'ZN CHAS' 'ZN NOX'\n",
      " 'ZN RM' 'ZN AGE' 'ZN DIS' 'ZN RAD' 'ZN TAX' 'ZN PTRATIO' 'ZN B'\n",
      " 'ZN LSTAT' 'INDUS^2' 'INDUS CHAS' 'INDUS NOX' 'INDUS RM' 'INDUS AGE'\n",
      " 'INDUS DIS' 'INDUS RAD' 'INDUS TAX' 'INDUS PTRATIO' 'INDUS B'\n",
      " 'INDUS LSTAT' 'CHAS^2' 'CHAS NOX' 'CHAS RM' 'CHAS AGE' 'CHAS DIS'\n",
      " 'CHAS RAD' 'CHAS TAX' 'CHAS PTRATIO' 'CHAS B' 'CHAS LSTAT' 'NOX^2'\n",
      " 'NOX RM' 'NOX AGE' 'NOX DIS' 'NOX RAD' 'NOX TAX' 'NOX PTRATIO' 'NOX B'\n",
      " 'NOX LSTAT' 'RM^2' 'RM AGE' 'RM DIS' 'RM RAD' 'RM TAX' 'RM PTRATIO'\n",
      " 'RM B' 'RM LSTAT' 'AGE^2' 'AGE DIS' 'AGE RAD' 'AGE TAX' 'AGE PTRATIO'\n",
      " 'AGE B' 'AGE LSTAT' 'DIS^2' 'DIS RAD' 'DIS TAX' 'DIS PTRATIO' 'DIS B'\n",
      " 'DIS LSTAT' 'RAD^2' 'RAD TAX' 'RAD PTRATIO' 'RAD B' 'RAD LSTAT' 'TAX^2'\n",
      " 'TAX PTRATIO' 'TAX B' 'TAX LSTAT' 'PTRATIO^2' 'PTRATIO B' 'PTRATIO LSTAT'\n",
      " 'B^2' 'B LSTAT' 'LSTAT^2']\n",
      "Columnas durante la predicción: Index(['CRIM', 'ZN', 'INDUS', 'CHAS', 'NOX', 'RM', 'AGE', 'DIS', 'RAD', 'TAX',\n",
      "       'PTRATIO', 'B', 'LSTAT'],\n",
      "      dtype='object')\n"
     ]
    }
   ],
   "source": [
    "print(grid.best_params_)\n",
    "print(grid.best_score_)\n",
    "print('\\n')\n",
    "print(\"Columnas durante el ajuste: \", grid.best_estimator_.named_steps['polynomial_features'].get_feature_names_out())\n",
    "print(f'Columnas durante la predicción: {X.columns}')"
   ]
  },
  {
   "cell_type": "code",
   "execution_count": 46,
   "metadata": {},
   "outputs": [
    {
     "data": {
      "text/plain": [
       "0.8964707714558122"
      ]
     },
     "execution_count": 46,
     "metadata": {},
     "output_type": "execute_result"
    }
   ],
   "source": [
    "y_predict = grid.predict(X)\n",
    "\n",
    "# This includes both in-sample and out-of-sample\n",
    "r2_score(y,y_predict)"
   ]
  },
  {
   "cell_type": "code",
   "execution_count": 47,
   "metadata": {},
   "outputs": [
    {
     "data": {
      "text/plain": [
       "array([ 0.00000000e+00,  2.47147038e-01, -1.18377806e+00,  1.11700133e+00,\n",
       "        1.02268931e+00,  1.11573592e+00,  2.63515343e+00,  1.60400844e+00,\n",
       "       -2.44378403e+00,  2.67549673e+00,  1.18120641e+00,  3.00931414e-01,\n",
       "        7.17164316e-01,  5.46697603e-01,  1.16368605e+00,  2.78583120e-01,\n",
       "        4.15770986e-01,  2.45396270e+00, -1.07012228e+00, -8.15812777e-01,\n",
       "       -2.95036466e-01, -8.26480829e-01, -4.23552596e-01, -4.33022591e-02,\n",
       "        8.34930099e-02, -4.92838202e-01,  5.12447325e-01,  5.88355149e-01,\n",
       "       -3.50662224e-01, -1.39184102e-01, -2.99737738e-01,  1.02696466e+00,\n",
       "        1.47705864e-02, -6.87593891e-01, -3.12176710e-01,  1.26476807e+00,\n",
       "        1.01258007e+00, -5.51925730e-01, -8.62269698e-01,  8.78832853e-01,\n",
       "        6.75975245e-02,  5.91362874e-01, -1.45086000e+00,  1.09286634e+00,\n",
       "       -7.69112663e-01,  1.16978387e+00,  1.29460196e+00, -7.36888615e-01,\n",
       "        7.29205860e-01, -2.44086792e+00,  1.02268931e+00, -2.26162754e+00,\n",
       "       -2.56091292e+00,  7.93445821e-01,  8.93650928e-01, -1.40176885e+00,\n",
       "       -5.90308431e-01,  6.48531603e-01,  1.51647270e+00, -6.34275596e-01,\n",
       "       -2.70133478e-01, -1.21405240e+00, -7.39233780e-01, -1.08452081e+00,\n",
       "       -5.78990020e-01, -7.37795974e-01, -1.12672094e+00,  2.99935516e-01,\n",
       "        2.82902653e-01,  5.69116051e+00, -1.25149671e+00,  4.71964702e-01,\n",
       "       -2.26642600e+00, -3.64722981e+00, -2.98653723e+00,  1.61479424e+00,\n",
       "       -3.45481774e+00,  1.74801027e-01,  1.85117500e-05,  1.67217459e+00,\n",
       "        2.86547168e-01, -7.33885392e-02, -1.23850226e+00, -1.78673478e+00,\n",
       "        2.25040443e+00,  4.28050229e-01, -1.14432376e+00,  1.09490308e-01,\n",
       "       -1.11626912e+00,  1.53508126e+00, -6.30486265e-01,  6.70247233e-01,\n",
       "        2.24813158e+00,  3.12190879e-01, -2.71959257e+00,  2.18644985e-02,\n",
       "        1.81340123e+00, -6.61376315e-02, -2.14156164e+00,  8.38822098e-01,\n",
       "        3.11177198e-01,  2.69570504e-01, -6.64708129e-01, -1.41443974e+00,\n",
       "        4.63455327e+00])"
      ]
     },
     "execution_count": 47,
     "metadata": {},
     "output_type": "execute_result"
    }
   ],
   "source": [
    "# Notice that \"grid\" is a fit object!\n",
    "# We can use grid.predict(X_test) to get brand new predictions!\n",
    "grid.best_estimator_.named_steps['ridge_regression'].coef_"
   ]
  },
  {
   "cell_type": "code",
   "execution_count": 48,
   "metadata": {},
   "outputs": [
    {
     "data": {
      "text/plain": [
       "{'mean_fit_time': array([0.00821678, 0.00752179, 0.00503119, 0.00457104, 0.0105257 ,\n",
       "        0.0062902 , 0.00605718, 0.00485198, 0.00418448, 0.00439946,\n",
       "        0.0043335 , 0.00429392, 0.00383377, 0.00396371, 0.00378704,\n",
       "        0.00402315, 0.00413497, 0.00431983, 0.00448767, 0.00516017,\n",
       "        0.00636856, 0.00628726, 0.00710432, 0.0071969 , 0.00559227,\n",
       "        0.00654578, 0.00555873, 0.00680606, 0.00618148, 0.00485182,\n",
       "        0.0051678 , 0.00464471, 0.00459417, 0.00502197, 0.00527541,\n",
       "        0.00513172, 0.00500774, 0.00527589, 0.00509342, 0.00558352,\n",
       "        0.01206406, 0.01152547, 0.01539095, 0.01477528, 0.01197942,\n",
       "        0.02330438, 0.01243218, 0.01190162, 0.01221045, 0.01216809,\n",
       "        0.01471122, 0.01278122, 0.01242812, 0.0115095 , 0.01313106,\n",
       "        0.01320028, 0.01296449, 0.01277137, 0.01323223, 0.01291315]),\n",
       " 'std_fit_time': array([2.54579255e-03, 1.93119040e-03, 7.37103092e-04, 8.84918070e-05,\n",
       "        4.86405748e-03, 1.03825660e-03, 2.70497389e-03, 4.65876669e-04,\n",
       "        1.00001934e-04, 1.74729681e-04, 2.48490346e-04, 2.05281581e-04,\n",
       "        2.83919858e-04, 2.40434075e-04, 1.98125791e-04, 3.03850197e-04,\n",
       "        9.20358166e-05, 1.69681944e-04, 3.50518902e-04, 5.79017778e-04,\n",
       "        1.82119475e-04, 1.61720025e-04, 1.25401740e-03, 1.83728656e-03,\n",
       "        3.16144674e-04, 4.60027644e-04, 1.63899667e-04, 1.90594718e-03,\n",
       "        3.88703747e-04, 3.41659120e-04, 5.12334264e-04, 2.03798135e-04,\n",
       "        3.56613487e-04, 2.29858785e-04, 4.29997952e-04, 4.44468294e-04,\n",
       "        1.62057419e-04, 2.18664486e-04, 1.75815916e-04, 2.41600108e-05,\n",
       "        5.68327629e-04, 8.01111410e-04, 1.77839562e-03, 2.01140882e-03,\n",
       "        2.48787195e-04, 8.29083367e-03, 2.73148647e-04, 5.51855326e-05,\n",
       "        5.68908108e-04, 1.35310602e-03, 1.98305058e-04, 1.18491449e-04,\n",
       "        8.82430726e-04, 2.05425367e-04, 9.72809866e-04, 9.10231448e-04,\n",
       "        5.08074449e-04, 9.28401641e-04, 4.10159005e-04, 4.55780599e-04]),\n",
       " 'mean_score_time': array([0.00246485, 0.00332745, 0.00195416, 0.00196958, 0.00348401,\n",
       "        0.00254369, 0.00226442, 0.00195988, 0.00190163, 0.00183463,\n",
       "        0.00193612, 0.00178862, 0.00167632, 0.00157173, 0.00161242,\n",
       "        0.00182176, 0.00181897, 0.00180658, 0.00184576, 0.00198515,\n",
       "        0.00266123, 0.00253455, 0.00319346, 0.0025994 , 0.0023241 ,\n",
       "        0.00287644, 0.0024724 , 0.0022939 , 0.00231981, 0.00183098,\n",
       "        0.0019594 , 0.00196695, 0.00204976, 0.00186547, 0.00204738,\n",
       "        0.0019513 , 0.0020202 , 0.00201241, 0.0020322 , 0.00216095,\n",
       "        0.00311359, 0.00290998, 0.00388741, 0.00330949, 0.00308649,\n",
       "        0.00306511, 0.00270685, 0.00266361, 0.00269111, 0.00294264,\n",
       "        0.00296219, 0.0030117 , 0.00263969, 0.00268475, 0.00288471,\n",
       "        0.00304786, 0.00288637, 0.00306106, 0.00291499, 0.00283074]),\n",
       " 'std_score_time': array([3.23993588e-04, 1.50462172e-03, 4.39106069e-05, 5.15230585e-05,\n",
       "        1.92550040e-03, 3.88473549e-05, 3.77520862e-04, 7.17969444e-05,\n",
       "        1.30043002e-04, 7.56707668e-05, 9.25662671e-05, 1.50985173e-04,\n",
       "        3.91127599e-05, 1.58571279e-04, 1.25932564e-04, 1.75750559e-04,\n",
       "        1.89101992e-05, 1.54418854e-05, 6.28033740e-05, 2.03762337e-04,\n",
       "        1.33434766e-04, 1.01399832e-04, 1.13308199e-03, 7.07619658e-04,\n",
       "        2.87629133e-04, 7.13356685e-04, 2.44656576e-04, 3.17889452e-05,\n",
       "        1.79344767e-04, 2.91757413e-05, 1.60493586e-04, 1.37005863e-04,\n",
       "        1.88492100e-04, 5.56445105e-05, 1.48705082e-04, 8.56827267e-05,\n",
       "        1.51254662e-04, 1.04407437e-04, 7.59759707e-05, 5.97171781e-05,\n",
       "        1.56220801e-04, 2.77217033e-04, 8.11977681e-04, 2.97787764e-04,\n",
       "        2.45863880e-04, 2.22499937e-04, 8.90597560e-05, 2.15562393e-04,\n",
       "        1.10550890e-04, 2.99332371e-04, 3.32821482e-05, 2.69451181e-04,\n",
       "        8.93959109e-05, 1.62659181e-04, 1.15121094e-04, 9.19478663e-05,\n",
       "        7.06771583e-05, 1.53227672e-04, 2.11822202e-04, 2.09163901e-04]),\n",
       " 'param_polynomial_features__degree': masked_array(data=[1, 1, 1, 1, 1, 1, 1, 1, 1, 1, 1, 1, 1, 1, 1, 1, 1, 1,\n",
       "                    1, 1, 2, 2, 2, 2, 2, 2, 2, 2, 2, 2, 2, 2, 2, 2, 2, 2,\n",
       "                    2, 2, 2, 2, 3, 3, 3, 3, 3, 3, 3, 3, 3, 3, 3, 3, 3, 3,\n",
       "                    3, 3, 3, 3, 3, 3],\n",
       "              mask=[False, False, False, False, False, False, False, False,\n",
       "                    False, False, False, False, False, False, False, False,\n",
       "                    False, False, False, False, False, False, False, False,\n",
       "                    False, False, False, False, False, False, False, False,\n",
       "                    False, False, False, False, False, False, False, False,\n",
       "                    False, False, False, False, False, False, False, False,\n",
       "                    False, False, False, False, False, False, False, False,\n",
       "                    False, False, False, False],\n",
       "        fill_value='?',\n",
       "             dtype=object),\n",
       " 'param_ridge_regression__alpha': masked_array(data=[4.0, 4.353593602921549, 4.7384443148498585,\n",
       "                    5.157315214232582, 5.6132136312332355,\n",
       "                    6.109412739192265, 6.649475054738714,\n",
       "                    7.237278015274221, 7.877041817465654, 8.573359716616,\n",
       "                    9.331231004451181, 10.156096902090468,\n",
       "                    11.053879625898109, 12.03102490669371,\n",
       "                    13.094548267592895, 14.252085392734966,\n",
       "                    15.511946948525646, 16.88317825098993,\n",
       "                    18.3756242076235, 20.0, 4.0, 4.353593602921549,\n",
       "                    4.7384443148498585, 5.157315214232582,\n",
       "                    5.6132136312332355, 6.109412739192265,\n",
       "                    6.649475054738714, 7.237278015274221,\n",
       "                    7.877041817465654, 8.573359716616, 9.331231004451181,\n",
       "                    10.156096902090468, 11.053879625898109,\n",
       "                    12.03102490669371, 13.094548267592895,\n",
       "                    14.252085392734966, 15.511946948525646,\n",
       "                    16.88317825098993, 18.3756242076235, 20.0, 4.0,\n",
       "                    4.353593602921549, 4.7384443148498585,\n",
       "                    5.157315214232582, 5.6132136312332355,\n",
       "                    6.109412739192265, 6.649475054738714,\n",
       "                    7.237278015274221, 7.877041817465654, 8.573359716616,\n",
       "                    9.331231004451181, 10.156096902090468,\n",
       "                    11.053879625898109, 12.03102490669371,\n",
       "                    13.094548267592895, 14.252085392734966,\n",
       "                    15.511946948525646, 16.88317825098993,\n",
       "                    18.3756242076235, 20.0],\n",
       "              mask=[False, False, False, False, False, False, False, False,\n",
       "                    False, False, False, False, False, False, False, False,\n",
       "                    False, False, False, False, False, False, False, False,\n",
       "                    False, False, False, False, False, False, False, False,\n",
       "                    False, False, False, False, False, False, False, False,\n",
       "                    False, False, False, False, False, False, False, False,\n",
       "                    False, False, False, False, False, False, False, False,\n",
       "                    False, False, False, False],\n",
       "        fill_value='?',\n",
       "             dtype=object),\n",
       " 'params': [{'polynomial_features__degree': 1, 'ridge_regression__alpha': 4.0},\n",
       "  {'polynomial_features__degree': 1,\n",
       "   'ridge_regression__alpha': 4.353593602921549},\n",
       "  {'polynomial_features__degree': 1,\n",
       "   'ridge_regression__alpha': 4.7384443148498585},\n",
       "  {'polynomial_features__degree': 1,\n",
       "   'ridge_regression__alpha': 5.157315214232582},\n",
       "  {'polynomial_features__degree': 1,\n",
       "   'ridge_regression__alpha': 5.6132136312332355},\n",
       "  {'polynomial_features__degree': 1,\n",
       "   'ridge_regression__alpha': 6.109412739192265},\n",
       "  {'polynomial_features__degree': 1,\n",
       "   'ridge_regression__alpha': 6.649475054738714},\n",
       "  {'polynomial_features__degree': 1,\n",
       "   'ridge_regression__alpha': 7.237278015274221},\n",
       "  {'polynomial_features__degree': 1,\n",
       "   'ridge_regression__alpha': 7.877041817465654},\n",
       "  {'polynomial_features__degree': 1,\n",
       "   'ridge_regression__alpha': 8.573359716616},\n",
       "  {'polynomial_features__degree': 1,\n",
       "   'ridge_regression__alpha': 9.331231004451181},\n",
       "  {'polynomial_features__degree': 1,\n",
       "   'ridge_regression__alpha': 10.156096902090468},\n",
       "  {'polynomial_features__degree': 1,\n",
       "   'ridge_regression__alpha': 11.053879625898109},\n",
       "  {'polynomial_features__degree': 1,\n",
       "   'ridge_regression__alpha': 12.03102490669371},\n",
       "  {'polynomial_features__degree': 1,\n",
       "   'ridge_regression__alpha': 13.094548267592895},\n",
       "  {'polynomial_features__degree': 1,\n",
       "   'ridge_regression__alpha': 14.252085392734966},\n",
       "  {'polynomial_features__degree': 1,\n",
       "   'ridge_regression__alpha': 15.511946948525646},\n",
       "  {'polynomial_features__degree': 1,\n",
       "   'ridge_regression__alpha': 16.88317825098993},\n",
       "  {'polynomial_features__degree': 1,\n",
       "   'ridge_regression__alpha': 18.3756242076235},\n",
       "  {'polynomial_features__degree': 1, 'ridge_regression__alpha': 20.0},\n",
       "  {'polynomial_features__degree': 2, 'ridge_regression__alpha': 4.0},\n",
       "  {'polynomial_features__degree': 2,\n",
       "   'ridge_regression__alpha': 4.353593602921549},\n",
       "  {'polynomial_features__degree': 2,\n",
       "   'ridge_regression__alpha': 4.7384443148498585},\n",
       "  {'polynomial_features__degree': 2,\n",
       "   'ridge_regression__alpha': 5.157315214232582},\n",
       "  {'polynomial_features__degree': 2,\n",
       "   'ridge_regression__alpha': 5.6132136312332355},\n",
       "  {'polynomial_features__degree': 2,\n",
       "   'ridge_regression__alpha': 6.109412739192265},\n",
       "  {'polynomial_features__degree': 2,\n",
       "   'ridge_regression__alpha': 6.649475054738714},\n",
       "  {'polynomial_features__degree': 2,\n",
       "   'ridge_regression__alpha': 7.237278015274221},\n",
       "  {'polynomial_features__degree': 2,\n",
       "   'ridge_regression__alpha': 7.877041817465654},\n",
       "  {'polynomial_features__degree': 2,\n",
       "   'ridge_regression__alpha': 8.573359716616},\n",
       "  {'polynomial_features__degree': 2,\n",
       "   'ridge_regression__alpha': 9.331231004451181},\n",
       "  {'polynomial_features__degree': 2,\n",
       "   'ridge_regression__alpha': 10.156096902090468},\n",
       "  {'polynomial_features__degree': 2,\n",
       "   'ridge_regression__alpha': 11.053879625898109},\n",
       "  {'polynomial_features__degree': 2,\n",
       "   'ridge_regression__alpha': 12.03102490669371},\n",
       "  {'polynomial_features__degree': 2,\n",
       "   'ridge_regression__alpha': 13.094548267592895},\n",
       "  {'polynomial_features__degree': 2,\n",
       "   'ridge_regression__alpha': 14.252085392734966},\n",
       "  {'polynomial_features__degree': 2,\n",
       "   'ridge_regression__alpha': 15.511946948525646},\n",
       "  {'polynomial_features__degree': 2,\n",
       "   'ridge_regression__alpha': 16.88317825098993},\n",
       "  {'polynomial_features__degree': 2,\n",
       "   'ridge_regression__alpha': 18.3756242076235},\n",
       "  {'polynomial_features__degree': 2, 'ridge_regression__alpha': 20.0},\n",
       "  {'polynomial_features__degree': 3, 'ridge_regression__alpha': 4.0},\n",
       "  {'polynomial_features__degree': 3,\n",
       "   'ridge_regression__alpha': 4.353593602921549},\n",
       "  {'polynomial_features__degree': 3,\n",
       "   'ridge_regression__alpha': 4.7384443148498585},\n",
       "  {'polynomial_features__degree': 3,\n",
       "   'ridge_regression__alpha': 5.157315214232582},\n",
       "  {'polynomial_features__degree': 3,\n",
       "   'ridge_regression__alpha': 5.6132136312332355},\n",
       "  {'polynomial_features__degree': 3,\n",
       "   'ridge_regression__alpha': 6.109412739192265},\n",
       "  {'polynomial_features__degree': 3,\n",
       "   'ridge_regression__alpha': 6.649475054738714},\n",
       "  {'polynomial_features__degree': 3,\n",
       "   'ridge_regression__alpha': 7.237278015274221},\n",
       "  {'polynomial_features__degree': 3,\n",
       "   'ridge_regression__alpha': 7.877041817465654},\n",
       "  {'polynomial_features__degree': 3,\n",
       "   'ridge_regression__alpha': 8.573359716616},\n",
       "  {'polynomial_features__degree': 3,\n",
       "   'ridge_regression__alpha': 9.331231004451181},\n",
       "  {'polynomial_features__degree': 3,\n",
       "   'ridge_regression__alpha': 10.156096902090468},\n",
       "  {'polynomial_features__degree': 3,\n",
       "   'ridge_regression__alpha': 11.053879625898109},\n",
       "  {'polynomial_features__degree': 3,\n",
       "   'ridge_regression__alpha': 12.03102490669371},\n",
       "  {'polynomial_features__degree': 3,\n",
       "   'ridge_regression__alpha': 13.094548267592895},\n",
       "  {'polynomial_features__degree': 3,\n",
       "   'ridge_regression__alpha': 14.252085392734966},\n",
       "  {'polynomial_features__degree': 3,\n",
       "   'ridge_regression__alpha': 15.511946948525646},\n",
       "  {'polynomial_features__degree': 3,\n",
       "   'ridge_regression__alpha': 16.88317825098993},\n",
       "  {'polynomial_features__degree': 3,\n",
       "   'ridge_regression__alpha': 18.3756242076235},\n",
       "  {'polynomial_features__degree': 3, 'ridge_regression__alpha': 20.0}],\n",
       " 'split0_test_score': array([0.67211108, 0.67209819, 0.67208048, 0.67205716, 0.67202738,\n",
       "        0.6719902 , 0.6719446 , 0.67188948, 0.67182365, 0.67174585,\n",
       "        0.67165474, 0.67154889, 0.67142681, 0.67128692, 0.67112756,\n",
       "        0.67094698, 0.67074336, 0.67051473, 0.67025905, 0.66997409,\n",
       "        0.8417071 , 0.84056534, 0.83935374, 0.83806673, 0.83669886,\n",
       "        0.83524486, 0.83369983, 0.83205934, 0.83031963, 0.82847768,\n",
       "        0.82653142, 0.8244798 , 0.82232292, 0.8200621 , 0.81769991,\n",
       "        0.81524019, 0.81268803, 0.81004967, 0.80733242, 0.80454453,\n",
       "        0.82055593, 0.82150684, 0.82239634, 0.8232215 , 0.82398005,\n",
       "        0.82467037, 0.82529146, 0.82584288, 0.82632474, 0.82673763,\n",
       "        0.8270825 , 0.82736066, 0.82757365, 0.82772317, 0.82781096,\n",
       "        0.82783877, 0.82780824, 0.82772079, 0.82757762, 0.82737956]),\n",
       " 'split1_test_score': array([0.74823479, 0.74819055, 0.74813947, 0.74808061, 0.74801288,\n",
       "        0.74793512, 0.747846  , 0.74774408, 0.74762774, 0.74749524,\n",
       "        0.74734463, 0.74717382, 0.74698049, 0.74676215, 0.74651608,\n",
       "        0.74623933, 0.74592873, 0.74558082, 0.74519187, 0.74475787,\n",
       "        0.86253663, 0.86198599, 0.8613604 , 0.86065436, 0.85986231,\n",
       "        0.85897879, 0.85799857, 0.85691677, 0.855729  , 0.85443153,\n",
       "        0.85302142, 0.85149662, 0.8498561 , 0.84809993, 0.84622935,\n",
       "        0.84424677, 0.84215582, 0.83996123, 0.83766883, 0.83528541,\n",
       "        0.87268617, 0.87264983, 0.87258292, 0.87248482, 0.87235474,\n",
       "        0.87219173, 0.87199481, 0.871763  , 0.87149534, 0.87119101,\n",
       "        0.87084927, 0.87046954, 0.87005134, 0.86959432, 0.86909823,\n",
       "        0.86856284, 0.86798794, 0.86737326, 0.8667184 , 0.8660228 ]),\n",
       " 'split2_test_score': array([0.70180089, 0.70208647, 0.70238591, 0.70269903, 0.7030255 ,\n",
       "        0.7033648 , 0.70371626, 0.70407902, 0.70445199, 0.70483385,\n",
       "        0.70522304, 0.70561774, 0.70601583, 0.70641491, 0.70681224,\n",
       "        0.70720474, 0.70758895, 0.70796101, 0.70831665, 0.7086511 ,\n",
       "        0.85965641, 0.85850785, 0.85724952, 0.85587824, 0.85439105,\n",
       "        0.8527853 , 0.85105876, 0.84920976, 0.84723732, 0.84514127,\n",
       "        0.84292234, 0.84058229, 0.83812395, 0.83555132, 0.83286948,\n",
       "        0.8300847 , 0.82720427, 0.82423648, 0.82119047, 0.81807606,\n",
       "        0.85395614, 0.85504194, 0.85601127, 0.85686968, 0.85762264,\n",
       "        0.8582754 , 0.85883283, 0.85929934, 0.85967878, 0.85997436,\n",
       "        0.86018857, 0.86032322, 0.86037934, 0.86035722, 0.86025645,\n",
       "        0.86007592, 0.85981389, 0.85946805, 0.85903559, 0.85851325]),\n",
       " 'mean_test_score': array([0.70738225, 0.7074584 , 0.70753529, 0.70761227, 0.70768859,\n",
       "        0.70776337, 0.70783562, 0.70790419, 0.70796779, 0.70802498,\n",
       "        0.70807414, 0.70811348, 0.70814104, 0.70815466, 0.70815196,\n",
       "        0.70813035, 0.70808701, 0.70801885, 0.70792252, 0.70779435,\n",
       "        0.85463338, 0.85368639, 0.85265455, 0.85153311, 0.85031741,\n",
       "        0.84900298, 0.84758572, 0.84606196, 0.84442865, 0.84268349,\n",
       "        0.84082506, 0.8388529 , 0.83676766, 0.83457111, 0.83226625,\n",
       "        0.82985722, 0.82734937, 0.82474913, 0.82206391, 0.819302  ,\n",
       "        0.84906608, 0.84973287, 0.85033017, 0.85085867, 0.85131914,\n",
       "        0.8517125 , 0.8520397 , 0.85230174, 0.85249962, 0.85263433,\n",
       "        0.85270678, 0.85271781, 0.85266811, 0.85255824, 0.85238855,\n",
       "        0.85215918, 0.85187002, 0.8515207 , 0.85111054, 0.85063853]),\n",
       " 'std_test_score': array([0.03132697, 0.03129595, 0.03126372, 0.03123028, 0.0311957 ,\n",
       "        0.03116   , 0.03112322, 0.03108541, 0.03104659, 0.03100677,\n",
       "        0.03096597, 0.03092414, 0.03088124, 0.03083718, 0.03079181,\n",
       "        0.03074494, 0.03069632, 0.03064563, 0.03059247, 0.03053636,\n",
       "        0.00921558, 0.00938601, 0.00955366, 0.00971975, 0.00988542,\n",
       "        0.01005168, 0.01021939, 0.01038924, 0.01056174, 0.0107372 ,\n",
       "        0.01091571, 0.01109715, 0.01128121, 0.01146736, 0.0116549 ,\n",
       "        0.01184298, 0.01203061, 0.01221672, 0.01240018, 0.01257981,\n",
       "        0.02156115, 0.02121385, 0.02087869, 0.02055591, 0.02024563,\n",
       "        0.01994783, 0.01966233, 0.01938881, 0.01912679, 0.01887561,\n",
       "        0.01863448, 0.01840245, 0.01817848, 0.01796138, 0.01774988,\n",
       "        0.01754268, 0.01733841, 0.01713573, 0.0169333 , 0.01672988]),\n",
       " 'rank_test_score': array([60, 59, 58, 57, 56, 55, 53, 52, 50, 48, 47, 45, 43, 41, 42, 44, 46,\n",
       "        49, 51, 54,  1,  2,  6, 16, 23, 26, 27, 28, 29, 30, 31, 32, 33, 34,\n",
       "        35, 36, 37, 38, 39, 40, 25, 24, 22, 20, 18, 15, 13, 11,  9,  7,  4,\n",
       "         3,  5,  8, 10, 12, 14, 17, 19, 21], dtype=int32)}"
      ]
     },
     "execution_count": 48,
     "metadata": {},
     "output_type": "execute_result"
    }
   ],
   "source": [
    "grid.cv_results_\n"
   ]
  }
 ],
 "metadata": {
  "kernelspec": {
   "display_name": "data_science_path",
   "language": "python",
   "name": "python3"
  },
  "language_info": {
   "codemirror_mode": {
    "name": "ipython",
    "version": 3
   },
   "file_extension": ".py",
   "mimetype": "text/x-python",
   "name": "python",
   "nbconvert_exporter": "python",
   "pygments_lexer": "ipython3",
   "version": "3.10.13"
  }
 },
 "nbformat": 4,
 "nbformat_minor": 2
}
