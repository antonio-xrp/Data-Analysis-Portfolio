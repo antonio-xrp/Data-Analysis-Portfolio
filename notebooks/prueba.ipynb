{
 "cells": [
  {
   "cell_type": "code",
   "execution_count": 2,
   "metadata": {},
   "outputs": [
    {
     "name": "stderr",
     "output_type": "stream",
     "text": [
      "[*********************100%***********************]  1 of 1 completed\n"
     ]
    },
    {
     "name": "stdout",
     "output_type": "stream",
     "text": [
      "Mejor cruce de EMAs: EMA20 y EMA70 con retorno acumulado: 590.85x\n",
      "Última señal por cruce EMA: VENDER\n"
     ]
    }
   ],
   "source": [
    "import yfinance as yf\n",
    "import pandas as pd\n",
    "import numpy as np\n",
    "import matplotlib.pyplot as plt\n",
    "\n",
    "# Descargar los datos diarios de BTC/USD\n",
    "btc = yf.download('BTC-USD', interval='1d', start='2015-01-01')\n",
    "btc = btc[['Close']].dropna()\n",
    "\n",
    "# Función para calcular estrategia EMA\n",
    "def backtest_ema(df, short_window, long_window):\n",
    "    df = df.copy()\n",
    "    df['EMA_short'] = df['Close'].ewm(span=short_window, adjust=False).mean()\n",
    "    df['EMA_long'] = df['Close'].ewm(span=long_window, adjust=False).mean()\n",
    "    df['Signal'] = np.where(df['EMA_short'] > df['EMA_long'], 1, 0)\n",
    "    df['Position'] = df['Signal'].shift(1)\n",
    "    df['Daily Return'] = df['Close'].pct_change()\n",
    "    df['Strategy Return'] = df['Daily Return'] * df['Position']\n",
    "    cumulative_return = (df['Strategy Return'] + 1).prod()\n",
    "    return cumulative_return, df\n",
    "\n",
    "# Buscar mejor combinación de EMAs\n",
    "best_result = 0\n",
    "best_combo = (0, 0)\n",
    "for short in range(5, 50, 5):\n",
    "    for long in range(short + 5, 100, 5):\n",
    "        ret, _ = backtest_ema(btc, short, long)\n",
    "        if ret > best_result:\n",
    "            best_result = ret\n",
    "            best_combo = (short, long)\n",
    "\n",
    "print(f\"Mejor cruce de EMAs: EMA{best_combo[0]} y EMA{best_combo[1]} con retorno acumulado: {best_result:.2f}x\")\n",
    "\n",
    "# Aplicar mejor combinación y mostrar última señal\n",
    "_, ema_df = backtest_ema(btc, *best_combo)\n",
    "ultima_senal_ema = \"COMPRAR\" if ema_df['Signal'].iloc[-1] == 1 else \"VENDER\"\n",
    "print(f\"Última señal por cruce EMA: {ultima_senal_ema}\")\n",
    "\n"
   ]
  },
  {
   "cell_type": "code",
   "execution_count": 4,
   "metadata": {},
   "outputs": [
    {
     "name": "stdout",
     "output_type": "stream",
     "text": [
      "📈 Última señal por cruce EMA: VENDER\n",
      "🔁 Retorno acumulado con estrategia MACD: 1.00x\n",
      "📊 Última señal por MACD: VENDER\n",
      "\n",
      "--- ✅ Recomendación Final ---\n",
      "🚫 Señal combinada: VENDER\n"
     ]
    }
   ],
   "source": [
    "# Aplicar mejor combinación y evaluar señal actual\n",
    "_, ema_df = backtest_ema(btc, *best_combo)\n",
    "ultima_senal_ema = \"COMPRAR\" if ema_df['Signal'].iloc[-1] == 1 else \"VENDER\"\n",
    "print(f\"📈 Última señal por cruce EMA: {ultima_senal_ema}\")\n",
    "\n",
    "# Cálculo de MACD\n",
    "btc['EMA12'] = btc['Close'].ewm(span=12, adjust=False).mean()\n",
    "btc['EMA26'] = btc['Close'].ewm(span=26, adjust=False).mean()\n",
    "btc['MACD'] = btc['EMA12'] - btc['EMA26']\n",
    "btc['Signal_MACD'] = btc['MACD'].ewm(span=9, adjust=False).mean()\n",
    "\n",
    "# Señales de compra/venta MACD\n",
    "btc['MACD_Signal'] = np.where(btc['MACD'] > btc['Signal_MACD'], 1, 0)\n",
    "btc['MACD_Position'] = btc['MACD_Signal'].shift(1)\n",
    "btc['Daily Return'] = btc['Close'].pct_change()\n",
    "btc['MACD_Return'] = btc['Daily Return'] * btc['MACD_Position'].astype(float)\n",
    "macd_ret = (btc['MACD_Return'] + 1).prod()\n",
    "\n",
    "print(f\"🔁 Retorno acumulado con estrategia MACD: {macd_ret:.2f}x\")\n",
    "\n",
    "ultima_senal_macd = \"COMPRAR\" if btc['MACD_Signal'].iloc[-1] == 1 else \"VENDER\"\n",
    "print(f\"📊 Última señal por MACD: {ultima_senal_macd}\")\n",
    "\n",
    "# Recomendación combinada\n",
    "print(\"\\n--- ✅ Recomendación Final ---\")\n",
    "if ultima_senal_ema == \"COMPRAR\" and ultima_senal_macd == \"COMPRAR\":\n",
    "    print(\"✅ Señal combinada: COMPRAR\")\n",
    "elif ultima_senal_ema == \"VENDER\" and ultima_senal_macd == \"VENDER\":\n",
    "    print(\"🚫 Señal combinada: VENDER\")\n",
    "else:\n",
    "    print(\"🤔 Señal combinada: NEUTRAL / ESPERAR\")"
   ]
  }
 ],
 "metadata": {
  "kernelspec": {
   "display_name": "data_analysis_portfolio",
   "language": "python",
   "name": "python3"
  },
  "language_info": {
   "codemirror_mode": {
    "name": "ipython",
    "version": 3
   },
   "file_extension": ".py",
   "mimetype": "text/x-python",
   "name": "python",
   "nbconvert_exporter": "python",
   "pygments_lexer": "ipython3",
   "version": "3.13.2"
  }
 },
 "nbformat": 4,
 "nbformat_minor": 2
}
