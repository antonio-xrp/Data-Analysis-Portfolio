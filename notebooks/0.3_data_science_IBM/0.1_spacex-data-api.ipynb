{
 "cells": [
  {
   "cell_type": "markdown",
   "id": "0b6f51c8-7187-4cf7-9c35-c56e30797bba",
   "metadata": {},
   "source": [
    "# **SpaceX  Falcon 9 first stage Landing Prediction**\n"
   ]
  },
  {
   "cell_type": "markdown",
   "id": "de307aab-c9d8-4857-8390-0891c37c3e57",
   "metadata": {},
   "source": [
    "# Lab 1: Collecting the data\n"
   ]
  },
  {
   "cell_type": "markdown",
   "id": "bf888dcc-fc95-4d19-b5c2-a0636abf56cd",
   "metadata": {},
   "source": [
    "Estimated time needed: **45** minutes\n"
   ]
  },
  {
   "cell_type": "markdown",
   "id": "1080c8d9-d9b3-4bf6-b647-fefbaa8e1abb",
   "metadata": {},
   "source": [
    "In this capstone, we will predict if the Falcon 9 first stage will land successfully. SpaceX advertises Falcon 9 rocket launches on its website with a cost of 62 million dollars; other providers cost upward of 165 million dollars each, much of the savings is because SpaceX can reuse the first stage. Therefore if we can determine if the first stage will land, we can determine the cost of a launch. This information can be used if an alternate company wants to bid against SpaceX for a rocket launch. In this lab, you will collect and make sure the data is in the correct format from an API. The following is an example of a successful and launch.\n"
   ]
  },
  {
   "cell_type": "markdown",
   "id": "576c6bd7-825a-474f-9750-7caeacb18cea",
   "metadata": {},
   "source": [
    "![](https://cf-courses-data.s3.us.cloud-object-storage.appdomain.cloud/IBMDeveloperSkillsNetwork-DS0701EN-SkillsNetwork/lab_v2/images/landing_1.gif)\n"
   ]
  },
  {
   "cell_type": "markdown",
   "id": "519887f9-4cf0-45ca-9bda-3ecbf1e75cfd",
   "metadata": {},
   "source": [
    "Several examples of an unsuccessful landing are shown here:\n"
   ]
  },
  {
   "cell_type": "markdown",
   "id": "d43951cd-70d4-425f-bcf7-0c2ff4162a22",
   "metadata": {},
   "source": [
    "![](https://cf-courses-data.s3.us.cloud-object-storage.appdomain.cloud/IBMDeveloperSkillsNetwork-DS0701EN-SkillsNetwork/lab_v2/images/crash.gif)\n"
   ]
  },
  {
   "cell_type": "markdown",
   "id": "4a7a1ba5-c80a-4855-b0ba-50b55a779b80",
   "metadata": {},
   "source": [
    "Most unsuccessful landings are planned. Space X performs a controlled landing in the oceans. \n"
   ]
  },
  {
   "cell_type": "markdown",
   "id": "2856e453-ebfc-4141-9cc7-220d9cc0a04e",
   "metadata": {},
   "source": [
    "## Objectives\n"
   ]
  },
  {
   "cell_type": "markdown",
   "id": "32039642-c396-4b70-a088-34a5e2158ec9",
   "metadata": {},
   "source": [
    "In this lab, you will make a get request to the SpaceX API. You will also do some basic data wrangling and formating. \n",
    "\n",
    "- Request to the SpaceX API\n",
    "- Clean the requested data\n"
   ]
  },
  {
   "cell_type": "markdown",
   "id": "4e382b7f-d76a-4704-b987-37cde9f09761",
   "metadata": {},
   "source": [
    "----\n"
   ]
  },
  {
   "cell_type": "markdown",
   "id": "7a816f11-28c7-478e-a84e-a96e1bd436c7",
   "metadata": {},
   "source": [
    "## Import Libraries and Define Auxiliary Functions\n"
   ]
  },
  {
   "cell_type": "markdown",
   "id": "4a6c8ed8-4133-45ce-bbed-ccc17397d6ce",
   "metadata": {},
   "source": [
    "We will import the following libraries into the lab\n"
   ]
  },
  {
   "cell_type": "code",
   "execution_count": 309,
   "metadata": {},
   "outputs": [],
   "source": [
    "# Requests allows us to make HTTP requests which we will use to get data from an API\n",
    "import requests\n",
    "# Pandas is a software library written for the Python programming language for data manipulation and analysis.\n",
    "import pandas as pd\n",
    "# NumPy is a library for the Python programming language, adding support for large, multi-dimensional arrays and matrices, along with a large collection of high-level mathematical functions to operate on these arrays\n",
    "import numpy as np\n",
    "# Datetimes is a library that allows us to represent dates\n",
    "import datetime\n",
    "\n",
    "# Setting this option will print all collumns of a dataframe\n",
    "pd.set_option('display.max_columns', None)\n",
    "# Setting this option will print all of the data in a feature\n",
    "pd.set_option('display.max_colwidth', None)"
   ]
  },
  {
   "cell_type": "markdown",
   "id": "4e036e32-18bc-4863-b1a0-30c3093facb6",
   "metadata": {},
   "source": [
    "Below we will define a series of helper functions that will help us use the API to extract information using identification numbers in the launch data.\n",
    "\n",
    "From the <code>rocket</code> column we would like to learn the booster name.\n"
   ]
  },
  {
   "cell_type": "code",
   "execution_count": 310,
   "metadata": {},
   "outputs": [],
   "source": [
    "# Takes the dataset and uses the rocket column to call the API and append the data to the list\n",
    "def getBoosterVersion(data):\n",
    "    for x in data['rocket']:\n",
    "        if x:\n",
    "            response = requests.get(\"https://api.spacexdata.com/v4/rockets/\" + str(x)).json()\n",
    "            BoosterVersion.append(response['name'])"
   ]
  },
  {
   "cell_type": "markdown",
   "id": "87c1feb6-2e82-453e-91ff-2e97bef27c8c",
   "metadata": {},
   "source": [
    "From the <code>launchpad</code> we would like to know the name of the launch site being used, the logitude, and the latitude.\n"
   ]
  },
  {
   "cell_type": "code",
   "execution_count": 311,
   "metadata": {},
   "outputs": [],
   "source": [
    "#Takes the dataset and uses the launchpad column to call the API and append the data to the list\n",
    "def getLaunchSite(data):\n",
    "    for x in data['launchpad']:\n",
    "        if x : \n",
    "            response = requests.get(\"https://api.spacexdata.com/v4/launchpads/\" + str(x)).json()\n",
    "            Longitude.append(response['longitude'])\n",
    "            Latitude.append(response['latitude'])\n",
    "            LaunchSite.append(response['name'])\n",
    "            "
   ]
  },
  {
   "cell_type": "markdown",
   "id": "72198d60-f757-4b9c-a8b2-99af213b6085",
   "metadata": {},
   "source": [
    "From the <code>payload</code> we would like to learn the mass of the payload and the orbit that it is going to.\n"
   ]
  },
  {
   "cell_type": "code",
   "execution_count": 312,
   "metadata": {},
   "outputs": [],
   "source": [
    "# Takes the dataset and uses the payloads column to call the API and append the data to the lists\n",
    "def getPayloadData(data):\n",
    "    for x in data['payloads']:\n",
    "        if x : \n",
    "            response = request.get(\"https://api.spacexdata.com/v4/payloads/\" + str(x)).json()\n",
    "            PayloadMass.append(response['mass_kg'])\n",
    "            Orbit.append(response['orbit'])\n",
    "    "
   ]
  },
  {
   "cell_type": "markdown",
   "id": "21dbfee6-6ab5-4356-85d0-7c96e80f9254",
   "metadata": {},
   "source": [
    "From <code>cores</code> we would like to learn the outcome of the landing, the type of the landing, number of flights with that core, whether gridfins were used, wheter the core is reused, wheter legs were used, the landing pad used, the block of the core which is a number used to seperate version of cores, the number of times this specific core has been reused, and the serial of the core.\n"
   ]
  },
  {
   "cell_type": "code",
   "execution_count": 313,
   "metadata": {},
   "outputs": [],
   "source": [
    "# Takes the dataset and uses the cores column to call the API and append the data to the lists\n",
    "def getCoreData(data):\n",
    "    for core in data['cores']:\n",
    "        if core['core'] != None:\n",
    "            response = requests.get(\"https://api.spacexdata.com/v4/cores/\" + core['core']).json()\n",
    "            Block.append(response['block'])\n",
    "            ReusedCount.append(response['reuse_count'])\n",
    "            Serial.append(response['Serial'])\n",
    "        else:\n",
    "            Block.append(None)\n",
    "            ReusedCount.append(None)\n",
    "            Serial.append(None)\n",
    "        \n",
    "        Outcome.append(str(core['landing_success']) + ' ' + str(core['landing_type']))\n",
    "        Flights.append(core['flight'])\n",
    "        GridFins.append(core['gridfins'])\n",
    "        Reused.append(core['reused'])\n",
    "        Legs.append(core['legs'])\n",
    "        LandingPad.append(core['landpad'])   "
   ]
  },
  {
   "cell_type": "markdown",
   "id": "bb9aefbb-ea42-4940-ac39-0ec86d25a35e",
   "metadata": {},
   "source": [
    "Now let's start requesting rocket launch data from SpaceX API with the following URL:\n"
   ]
  },
  {
   "cell_type": "markdown",
   "id": "c998e3d3-343c-4188-9062-f9a5356a8ef1",
   "metadata": {},
   "source": [
    "You should see the response contains massive information about SpaceX launches. Next, let's try to discover some more relevant information for this project.\n"
   ]
  },
  {
   "cell_type": "markdown",
   "id": "174f7949-d59c-45b8-a5ef-93925f72ffdc",
   "metadata": {},
   "source": [
    "### Task 1: Request and parse the SpaceX launch data using the GET request\n"
   ]
  },
  {
   "cell_type": "markdown",
   "id": "9b0b7391-ee20-4360-a80c-c38d83abe61f",
   "metadata": {},
   "source": [
    "To make the requested JSON results more consistent, we will use the following static response object for this project:\n"
   ]
  },
  {
   "cell_type": "code",
   "execution_count": 314,
   "metadata": {},
   "outputs": [],
   "source": [
    "static_json_url = 'https://cf-courses-data.s3.us.cloud-object-storage.appdomain.cloud/IBM-DS0321EN-SkillsNetwork/datasets/API_call_spacex_api.json'\n"
   ]
  },
  {
   "cell_type": "markdown",
   "id": "69cf4479-66d3-4cf3-9eca-699edbfdbe56",
   "metadata": {},
   "source": [
    "We should see that the request was successfull with the 200 status response code\n"
   ]
  },
  {
   "cell_type": "code",
   "execution_count": 315,
   "metadata": {},
   "outputs": [
    {
     "data": {
      "text/plain": [
       "200"
      ]
     },
     "execution_count": 315,
     "metadata": {},
     "output_type": "execute_result"
    }
   ],
   "source": [
    "response = requests.get(static_json_url)\n",
    "response.status_code"
   ]
  },
  {
   "cell_type": "markdown",
   "id": "d81a2c54-db59-4a9b-876d-ede36bba7dfa",
   "metadata": {},
   "source": [
    "Now we decode the response content as a Json using <code>.json()</code> and turn it into a Pandas dataframe using <code>.json_normalize()</code>\n"
   ]
  },
  {
   "cell_type": "code",
   "execution_count": 316,
   "metadata": {},
   "outputs": [],
   "source": [
    "response.json()\n",
    "\n",
    "data = pd.json_normalize(response.json())"
   ]
  },
  {
   "cell_type": "markdown",
   "id": "05211b46-4b85-4cd7-991c-6e86525f0cb4",
   "metadata": {},
   "source": [
    "Using the dataframe <code>data</code> print the first 5 rows\n"
   ]
  },
  {
   "cell_type": "code",
   "execution_count": 317,
   "metadata": {},
   "outputs": [
    {
     "data": {
      "text/html": [
       "<div>\n",
       "<style scoped>\n",
       "    .dataframe tbody tr th:only-of-type {\n",
       "        vertical-align: middle;\n",
       "    }\n",
       "\n",
       "    .dataframe tbody tr th {\n",
       "        vertical-align: top;\n",
       "    }\n",
       "\n",
       "    .dataframe thead th {\n",
       "        text-align: right;\n",
       "    }\n",
       "</style>\n",
       "<table border=\"1\" class=\"dataframe\">\n",
       "  <thead>\n",
       "    <tr style=\"text-align: right;\">\n",
       "      <th></th>\n",
       "      <th>static_fire_date_utc</th>\n",
       "      <th>static_fire_date_unix</th>\n",
       "      <th>tbd</th>\n",
       "      <th>net</th>\n",
       "      <th>window</th>\n",
       "      <th>rocket</th>\n",
       "      <th>success</th>\n",
       "      <th>details</th>\n",
       "      <th>crew</th>\n",
       "      <th>ships</th>\n",
       "      <th>capsules</th>\n",
       "      <th>payloads</th>\n",
       "      <th>launchpad</th>\n",
       "      <th>auto_update</th>\n",
       "      <th>failures</th>\n",
       "      <th>flight_number</th>\n",
       "      <th>name</th>\n",
       "      <th>date_utc</th>\n",
       "      <th>date_unix</th>\n",
       "      <th>date_local</th>\n",
       "      <th>date_precision</th>\n",
       "      <th>upcoming</th>\n",
       "      <th>cores</th>\n",
       "      <th>id</th>\n",
       "      <th>fairings.reused</th>\n",
       "      <th>fairings.recovery_attempt</th>\n",
       "      <th>fairings.recovered</th>\n",
       "      <th>fairings.ships</th>\n",
       "      <th>links.patch.small</th>\n",
       "      <th>links.patch.large</th>\n",
       "      <th>links.reddit.campaign</th>\n",
       "      <th>links.reddit.launch</th>\n",
       "      <th>links.reddit.media</th>\n",
       "      <th>links.reddit.recovery</th>\n",
       "      <th>links.flickr.small</th>\n",
       "      <th>links.flickr.original</th>\n",
       "      <th>links.presskit</th>\n",
       "      <th>links.webcast</th>\n",
       "      <th>links.youtube_id</th>\n",
       "      <th>links.article</th>\n",
       "      <th>links.wikipedia</th>\n",
       "      <th>fairings</th>\n",
       "    </tr>\n",
       "  </thead>\n",
       "  <tbody>\n",
       "    <tr>\n",
       "      <th>0</th>\n",
       "      <td>2006-03-17T00:00:00.000Z</td>\n",
       "      <td>1.142554e+09</td>\n",
       "      <td>False</td>\n",
       "      <td>False</td>\n",
       "      <td>0.0</td>\n",
       "      <td>5e9d0d95eda69955f709d1eb</td>\n",
       "      <td>False</td>\n",
       "      <td>Engine failure at 33 seconds and loss of vehicle</td>\n",
       "      <td>[]</td>\n",
       "      <td>[]</td>\n",
       "      <td>[]</td>\n",
       "      <td>[5eb0e4b5b6c3bb0006eeb1e1]</td>\n",
       "      <td>5e9e4502f5090995de566f86</td>\n",
       "      <td>True</td>\n",
       "      <td>[{'time': 33, 'altitude': None, 'reason': 'merlin engine failure'}]</td>\n",
       "      <td>1</td>\n",
       "      <td>FalconSat</td>\n",
       "      <td>2006-03-24T22:30:00.000Z</td>\n",
       "      <td>1143239400</td>\n",
       "      <td>2006-03-25T10:30:00+12:00</td>\n",
       "      <td>hour</td>\n",
       "      <td>False</td>\n",
       "      <td>[{'core': '5e9e289df35918033d3b2623', 'flight': 1, 'gridfins': False, 'legs': False, 'reused': False, 'landing_attempt': False, 'landing_success': None, 'landing_type': None, 'landpad': None}]</td>\n",
       "      <td>5eb87cd9ffd86e000604b32a</td>\n",
       "      <td>False</td>\n",
       "      <td>False</td>\n",
       "      <td>False</td>\n",
       "      <td>[]</td>\n",
       "      <td>https://images2.imgbox.com/3c/0e/T8iJcSN3_o.png</td>\n",
       "      <td>https://images2.imgbox.com/40/e3/GypSkayF_o.png</td>\n",
       "      <td>None</td>\n",
       "      <td>None</td>\n",
       "      <td>None</td>\n",
       "      <td>None</td>\n",
       "      <td>[]</td>\n",
       "      <td>[]</td>\n",
       "      <td>None</td>\n",
       "      <td>https://www.youtube.com/watch?v=0a_00nJ_Y88</td>\n",
       "      <td>0a_00nJ_Y88</td>\n",
       "      <td>https://www.space.com/2196-spacex-inaugural-falcon-1-rocket-lost-launch.html</td>\n",
       "      <td>https://en.wikipedia.org/wiki/DemoSat</td>\n",
       "      <td>NaN</td>\n",
       "    </tr>\n",
       "    <tr>\n",
       "      <th>1</th>\n",
       "      <td>None</td>\n",
       "      <td>NaN</td>\n",
       "      <td>False</td>\n",
       "      <td>False</td>\n",
       "      <td>0.0</td>\n",
       "      <td>5e9d0d95eda69955f709d1eb</td>\n",
       "      <td>False</td>\n",
       "      <td>Successful first stage burn and transition to second stage, maximum altitude 289 km, Premature engine shutdown at T+7 min 30 s, Failed to reach orbit, Failed to recover first stage</td>\n",
       "      <td>[]</td>\n",
       "      <td>[]</td>\n",
       "      <td>[]</td>\n",
       "      <td>[5eb0e4b6b6c3bb0006eeb1e2]</td>\n",
       "      <td>5e9e4502f5090995de566f86</td>\n",
       "      <td>True</td>\n",
       "      <td>[{'time': 301, 'altitude': 289, 'reason': 'harmonic oscillation leading to premature engine shutdown'}]</td>\n",
       "      <td>2</td>\n",
       "      <td>DemoSat</td>\n",
       "      <td>2007-03-21T01:10:00.000Z</td>\n",
       "      <td>1174439400</td>\n",
       "      <td>2007-03-21T13:10:00+12:00</td>\n",
       "      <td>hour</td>\n",
       "      <td>False</td>\n",
       "      <td>[{'core': '5e9e289ef35918416a3b2624', 'flight': 1, 'gridfins': False, 'legs': False, 'reused': False, 'landing_attempt': False, 'landing_success': None, 'landing_type': None, 'landpad': None}]</td>\n",
       "      <td>5eb87cdaffd86e000604b32b</td>\n",
       "      <td>False</td>\n",
       "      <td>False</td>\n",
       "      <td>False</td>\n",
       "      <td>[]</td>\n",
       "      <td>https://images2.imgbox.com/4f/e3/I0lkuJ2e_o.png</td>\n",
       "      <td>https://images2.imgbox.com/be/e7/iNqsqVYM_o.png</td>\n",
       "      <td>None</td>\n",
       "      <td>None</td>\n",
       "      <td>None</td>\n",
       "      <td>None</td>\n",
       "      <td>[]</td>\n",
       "      <td>[]</td>\n",
       "      <td>None</td>\n",
       "      <td>https://www.youtube.com/watch?v=Lk4zQ2wP-Nc</td>\n",
       "      <td>Lk4zQ2wP-Nc</td>\n",
       "      <td>https://www.space.com/3590-spacex-falcon-1-rocket-fails-reach-orbit.html</td>\n",
       "      <td>https://en.wikipedia.org/wiki/DemoSat</td>\n",
       "      <td>NaN</td>\n",
       "    </tr>\n",
       "    <tr>\n",
       "      <th>2</th>\n",
       "      <td>None</td>\n",
       "      <td>NaN</td>\n",
       "      <td>False</td>\n",
       "      <td>False</td>\n",
       "      <td>0.0</td>\n",
       "      <td>5e9d0d95eda69955f709d1eb</td>\n",
       "      <td>False</td>\n",
       "      <td>Residual stage 1 thrust led to collision between stage 1 and stage 2</td>\n",
       "      <td>[]</td>\n",
       "      <td>[]</td>\n",
       "      <td>[]</td>\n",
       "      <td>[5eb0e4b6b6c3bb0006eeb1e3, 5eb0e4b6b6c3bb0006eeb1e4]</td>\n",
       "      <td>5e9e4502f5090995de566f86</td>\n",
       "      <td>True</td>\n",
       "      <td>[{'time': 140, 'altitude': 35, 'reason': 'residual stage-1 thrust led to collision between stage 1 and stage 2'}]</td>\n",
       "      <td>3</td>\n",
       "      <td>Trailblazer</td>\n",
       "      <td>2008-08-03T03:34:00.000Z</td>\n",
       "      <td>1217734440</td>\n",
       "      <td>2008-08-03T15:34:00+12:00</td>\n",
       "      <td>hour</td>\n",
       "      <td>False</td>\n",
       "      <td>[{'core': '5e9e289ef3591814873b2625', 'flight': 1, 'gridfins': False, 'legs': False, 'reused': False, 'landing_attempt': False, 'landing_success': None, 'landing_type': None, 'landpad': None}]</td>\n",
       "      <td>5eb87cdbffd86e000604b32c</td>\n",
       "      <td>False</td>\n",
       "      <td>False</td>\n",
       "      <td>False</td>\n",
       "      <td>[]</td>\n",
       "      <td>https://images2.imgbox.com/3d/86/cnu0pan8_o.png</td>\n",
       "      <td>https://images2.imgbox.com/4b/bd/d8UxLh4q_o.png</td>\n",
       "      <td>None</td>\n",
       "      <td>None</td>\n",
       "      <td>None</td>\n",
       "      <td>None</td>\n",
       "      <td>[]</td>\n",
       "      <td>[]</td>\n",
       "      <td>None</td>\n",
       "      <td>https://www.youtube.com/watch?v=v0w9p3U8860</td>\n",
       "      <td>v0w9p3U8860</td>\n",
       "      <td>http://www.spacex.com/news/2013/02/11/falcon-1-flight-3-mission-summary</td>\n",
       "      <td>https://en.wikipedia.org/wiki/Trailblazer_(satellite)</td>\n",
       "      <td>NaN</td>\n",
       "    </tr>\n",
       "    <tr>\n",
       "      <th>3</th>\n",
       "      <td>2008-09-20T00:00:00.000Z</td>\n",
       "      <td>1.221869e+09</td>\n",
       "      <td>False</td>\n",
       "      <td>False</td>\n",
       "      <td>0.0</td>\n",
       "      <td>5e9d0d95eda69955f709d1eb</td>\n",
       "      <td>True</td>\n",
       "      <td>Ratsat was carried to orbit on the first successful orbital launch of any privately funded and developed, liquid-propelled carrier rocket, the SpaceX Falcon 1</td>\n",
       "      <td>[]</td>\n",
       "      <td>[]</td>\n",
       "      <td>[]</td>\n",
       "      <td>[5eb0e4b7b6c3bb0006eeb1e5]</td>\n",
       "      <td>5e9e4502f5090995de566f86</td>\n",
       "      <td>True</td>\n",
       "      <td>[]</td>\n",
       "      <td>4</td>\n",
       "      <td>RatSat</td>\n",
       "      <td>2008-09-28T23:15:00.000Z</td>\n",
       "      <td>1222643700</td>\n",
       "      <td>2008-09-28T11:15:00+12:00</td>\n",
       "      <td>hour</td>\n",
       "      <td>False</td>\n",
       "      <td>[{'core': '5e9e289ef3591855dc3b2626', 'flight': 1, 'gridfins': False, 'legs': False, 'reused': False, 'landing_attempt': False, 'landing_success': None, 'landing_type': None, 'landpad': None}]</td>\n",
       "      <td>5eb87cdbffd86e000604b32d</td>\n",
       "      <td>False</td>\n",
       "      <td>False</td>\n",
       "      <td>False</td>\n",
       "      <td>[]</td>\n",
       "      <td>https://images2.imgbox.com/e9/c9/T8CfiSYb_o.png</td>\n",
       "      <td>https://images2.imgbox.com/e0/a7/FNjvKlXW_o.png</td>\n",
       "      <td>None</td>\n",
       "      <td>None</td>\n",
       "      <td>None</td>\n",
       "      <td>None</td>\n",
       "      <td>[]</td>\n",
       "      <td>[]</td>\n",
       "      <td>None</td>\n",
       "      <td>https://www.youtube.com/watch?v=dLQ2tZEH6G0</td>\n",
       "      <td>dLQ2tZEH6G0</td>\n",
       "      <td>https://en.wikipedia.org/wiki/Ratsat</td>\n",
       "      <td>https://en.wikipedia.org/wiki/Ratsat</td>\n",
       "      <td>NaN</td>\n",
       "    </tr>\n",
       "    <tr>\n",
       "      <th>4</th>\n",
       "      <td>None</td>\n",
       "      <td>NaN</td>\n",
       "      <td>False</td>\n",
       "      <td>False</td>\n",
       "      <td>0.0</td>\n",
       "      <td>5e9d0d95eda69955f709d1eb</td>\n",
       "      <td>True</td>\n",
       "      <td>None</td>\n",
       "      <td>[]</td>\n",
       "      <td>[]</td>\n",
       "      <td>[]</td>\n",
       "      <td>[5eb0e4b7b6c3bb0006eeb1e6]</td>\n",
       "      <td>5e9e4502f5090995de566f86</td>\n",
       "      <td>True</td>\n",
       "      <td>[]</td>\n",
       "      <td>5</td>\n",
       "      <td>RazakSat</td>\n",
       "      <td>2009-07-13T03:35:00.000Z</td>\n",
       "      <td>1247456100</td>\n",
       "      <td>2009-07-13T15:35:00+12:00</td>\n",
       "      <td>hour</td>\n",
       "      <td>False</td>\n",
       "      <td>[{'core': '5e9e289ef359184f103b2627', 'flight': 1, 'gridfins': False, 'legs': False, 'reused': False, 'landing_attempt': False, 'landing_success': None, 'landing_type': None, 'landpad': None}]</td>\n",
       "      <td>5eb87cdcffd86e000604b32e</td>\n",
       "      <td>False</td>\n",
       "      <td>False</td>\n",
       "      <td>False</td>\n",
       "      <td>[]</td>\n",
       "      <td>https://images2.imgbox.com/a7/ba/NBZSw3Ho_o.png</td>\n",
       "      <td>https://images2.imgbox.com/8d/fc/0qdZMWWx_o.png</td>\n",
       "      <td>None</td>\n",
       "      <td>None</td>\n",
       "      <td>None</td>\n",
       "      <td>None</td>\n",
       "      <td>[]</td>\n",
       "      <td>[]</td>\n",
       "      <td>http://www.spacex.com/press/2012/12/19/spacexs-falcon-1-successfully-delivers-razaksat-satellite-orbit</td>\n",
       "      <td>https://www.youtube.com/watch?v=yTaIDooc8Og</td>\n",
       "      <td>yTaIDooc8Og</td>\n",
       "      <td>http://www.spacex.com/news/2013/02/12/falcon-1-flight-5</td>\n",
       "      <td>https://en.wikipedia.org/wiki/RazakSAT</td>\n",
       "      <td>NaN</td>\n",
       "    </tr>\n",
       "  </tbody>\n",
       "</table>\n",
       "</div>"
      ],
      "text/plain": [
       "       static_fire_date_utc  static_fire_date_unix    tbd    net  window  \\\n",
       "0  2006-03-17T00:00:00.000Z           1.142554e+09  False  False     0.0   \n",
       "1                      None                    NaN  False  False     0.0   \n",
       "2                      None                    NaN  False  False     0.0   \n",
       "3  2008-09-20T00:00:00.000Z           1.221869e+09  False  False     0.0   \n",
       "4                      None                    NaN  False  False     0.0   \n",
       "\n",
       "                     rocket  success  \\\n",
       "0  5e9d0d95eda69955f709d1eb    False   \n",
       "1  5e9d0d95eda69955f709d1eb    False   \n",
       "2  5e9d0d95eda69955f709d1eb    False   \n",
       "3  5e9d0d95eda69955f709d1eb     True   \n",
       "4  5e9d0d95eda69955f709d1eb     True   \n",
       "\n",
       "                                                                                                                                                                                details  \\\n",
       "0                                                                                                                                      Engine failure at 33 seconds and loss of vehicle   \n",
       "1  Successful first stage burn and transition to second stage, maximum altitude 289 km, Premature engine shutdown at T+7 min 30 s, Failed to reach orbit, Failed to recover first stage   \n",
       "2                                                                                                                  Residual stage 1 thrust led to collision between stage 1 and stage 2   \n",
       "3                        Ratsat was carried to orbit on the first successful orbital launch of any privately funded and developed, liquid-propelled carrier rocket, the SpaceX Falcon 1   \n",
       "4                                                                                                                                                                                  None   \n",
       "\n",
       "  crew ships capsules                                              payloads  \\\n",
       "0   []    []       []                            [5eb0e4b5b6c3bb0006eeb1e1]   \n",
       "1   []    []       []                            [5eb0e4b6b6c3bb0006eeb1e2]   \n",
       "2   []    []       []  [5eb0e4b6b6c3bb0006eeb1e3, 5eb0e4b6b6c3bb0006eeb1e4]   \n",
       "3   []    []       []                            [5eb0e4b7b6c3bb0006eeb1e5]   \n",
       "4   []    []       []                            [5eb0e4b7b6c3bb0006eeb1e6]   \n",
       "\n",
       "                  launchpad  auto_update  \\\n",
       "0  5e9e4502f5090995de566f86         True   \n",
       "1  5e9e4502f5090995de566f86         True   \n",
       "2  5e9e4502f5090995de566f86         True   \n",
       "3  5e9e4502f5090995de566f86         True   \n",
       "4  5e9e4502f5090995de566f86         True   \n",
       "\n",
       "                                                                                                            failures  \\\n",
       "0                                                [{'time': 33, 'altitude': None, 'reason': 'merlin engine failure'}]   \n",
       "1            [{'time': 301, 'altitude': 289, 'reason': 'harmonic oscillation leading to premature engine shutdown'}]   \n",
       "2  [{'time': 140, 'altitude': 35, 'reason': 'residual stage-1 thrust led to collision between stage 1 and stage 2'}]   \n",
       "3                                                                                                                 []   \n",
       "4                                                                                                                 []   \n",
       "\n",
       "   flight_number         name                  date_utc   date_unix  \\\n",
       "0              1    FalconSat  2006-03-24T22:30:00.000Z  1143239400   \n",
       "1              2      DemoSat  2007-03-21T01:10:00.000Z  1174439400   \n",
       "2              3  Trailblazer  2008-08-03T03:34:00.000Z  1217734440   \n",
       "3              4       RatSat  2008-09-28T23:15:00.000Z  1222643700   \n",
       "4              5     RazakSat  2009-07-13T03:35:00.000Z  1247456100   \n",
       "\n",
       "                  date_local date_precision  upcoming  \\\n",
       "0  2006-03-25T10:30:00+12:00           hour     False   \n",
       "1  2007-03-21T13:10:00+12:00           hour     False   \n",
       "2  2008-08-03T15:34:00+12:00           hour     False   \n",
       "3  2008-09-28T11:15:00+12:00           hour     False   \n",
       "4  2009-07-13T15:35:00+12:00           hour     False   \n",
       "\n",
       "                                                                                                                                                                                              cores  \\\n",
       "0  [{'core': '5e9e289df35918033d3b2623', 'flight': 1, 'gridfins': False, 'legs': False, 'reused': False, 'landing_attempt': False, 'landing_success': None, 'landing_type': None, 'landpad': None}]   \n",
       "1  [{'core': '5e9e289ef35918416a3b2624', 'flight': 1, 'gridfins': False, 'legs': False, 'reused': False, 'landing_attempt': False, 'landing_success': None, 'landing_type': None, 'landpad': None}]   \n",
       "2  [{'core': '5e9e289ef3591814873b2625', 'flight': 1, 'gridfins': False, 'legs': False, 'reused': False, 'landing_attempt': False, 'landing_success': None, 'landing_type': None, 'landpad': None}]   \n",
       "3  [{'core': '5e9e289ef3591855dc3b2626', 'flight': 1, 'gridfins': False, 'legs': False, 'reused': False, 'landing_attempt': False, 'landing_success': None, 'landing_type': None, 'landpad': None}]   \n",
       "4  [{'core': '5e9e289ef359184f103b2627', 'flight': 1, 'gridfins': False, 'legs': False, 'reused': False, 'landing_attempt': False, 'landing_success': None, 'landing_type': None, 'landpad': None}]   \n",
       "\n",
       "                         id fairings.reused fairings.recovery_attempt  \\\n",
       "0  5eb87cd9ffd86e000604b32a           False                     False   \n",
       "1  5eb87cdaffd86e000604b32b           False                     False   \n",
       "2  5eb87cdbffd86e000604b32c           False                     False   \n",
       "3  5eb87cdbffd86e000604b32d           False                     False   \n",
       "4  5eb87cdcffd86e000604b32e           False                     False   \n",
       "\n",
       "  fairings.recovered fairings.ships  \\\n",
       "0              False             []   \n",
       "1              False             []   \n",
       "2              False             []   \n",
       "3              False             []   \n",
       "4              False             []   \n",
       "\n",
       "                                 links.patch.small  \\\n",
       "0  https://images2.imgbox.com/3c/0e/T8iJcSN3_o.png   \n",
       "1  https://images2.imgbox.com/4f/e3/I0lkuJ2e_o.png   \n",
       "2  https://images2.imgbox.com/3d/86/cnu0pan8_o.png   \n",
       "3  https://images2.imgbox.com/e9/c9/T8CfiSYb_o.png   \n",
       "4  https://images2.imgbox.com/a7/ba/NBZSw3Ho_o.png   \n",
       "\n",
       "                                 links.patch.large links.reddit.campaign  \\\n",
       "0  https://images2.imgbox.com/40/e3/GypSkayF_o.png                  None   \n",
       "1  https://images2.imgbox.com/be/e7/iNqsqVYM_o.png                  None   \n",
       "2  https://images2.imgbox.com/4b/bd/d8UxLh4q_o.png                  None   \n",
       "3  https://images2.imgbox.com/e0/a7/FNjvKlXW_o.png                  None   \n",
       "4  https://images2.imgbox.com/8d/fc/0qdZMWWx_o.png                  None   \n",
       "\n",
       "  links.reddit.launch links.reddit.media links.reddit.recovery  \\\n",
       "0                None               None                  None   \n",
       "1                None               None                  None   \n",
       "2                None               None                  None   \n",
       "3                None               None                  None   \n",
       "4                None               None                  None   \n",
       "\n",
       "  links.flickr.small links.flickr.original  \\\n",
       "0                 []                    []   \n",
       "1                 []                    []   \n",
       "2                 []                    []   \n",
       "3                 []                    []   \n",
       "4                 []                    []   \n",
       "\n",
       "                                                                                           links.presskit  \\\n",
       "0                                                                                                    None   \n",
       "1                                                                                                    None   \n",
       "2                                                                                                    None   \n",
       "3                                                                                                    None   \n",
       "4  http://www.spacex.com/press/2012/12/19/spacexs-falcon-1-successfully-delivers-razaksat-satellite-orbit   \n",
       "\n",
       "                                 links.webcast links.youtube_id  \\\n",
       "0  https://www.youtube.com/watch?v=0a_00nJ_Y88      0a_00nJ_Y88   \n",
       "1  https://www.youtube.com/watch?v=Lk4zQ2wP-Nc      Lk4zQ2wP-Nc   \n",
       "2  https://www.youtube.com/watch?v=v0w9p3U8860      v0w9p3U8860   \n",
       "3  https://www.youtube.com/watch?v=dLQ2tZEH6G0      dLQ2tZEH6G0   \n",
       "4  https://www.youtube.com/watch?v=yTaIDooc8Og      yTaIDooc8Og   \n",
       "\n",
       "                                                                  links.article  \\\n",
       "0  https://www.space.com/2196-spacex-inaugural-falcon-1-rocket-lost-launch.html   \n",
       "1      https://www.space.com/3590-spacex-falcon-1-rocket-fails-reach-orbit.html   \n",
       "2       http://www.spacex.com/news/2013/02/11/falcon-1-flight-3-mission-summary   \n",
       "3                                          https://en.wikipedia.org/wiki/Ratsat   \n",
       "4                       http://www.spacex.com/news/2013/02/12/falcon-1-flight-5   \n",
       "\n",
       "                                         links.wikipedia  fairings  \n",
       "0                  https://en.wikipedia.org/wiki/DemoSat       NaN  \n",
       "1                  https://en.wikipedia.org/wiki/DemoSat       NaN  \n",
       "2  https://en.wikipedia.org/wiki/Trailblazer_(satellite)       NaN  \n",
       "3                   https://en.wikipedia.org/wiki/Ratsat       NaN  \n",
       "4                 https://en.wikipedia.org/wiki/RazakSAT       NaN  "
      ]
     },
     "execution_count": 317,
     "metadata": {},
     "output_type": "execute_result"
    }
   ],
   "source": [
    "data.head()"
   ]
  },
  {
   "cell_type": "markdown",
   "id": "395844b0-14e8-4cda-b6ec-f9af47b5926a",
   "metadata": {},
   "source": [
    "You will notice that a lot of the data are IDs. For example the rocket column has no information about the rocket just an identification number.\n",
    "\n",
    "We will now use the API again to get information about the launches using the IDs given for each launch. Specifically we will be using columns <code>rocket</code>, <code>payloads</code>, <code>launchpad</code>, and <code>cores</code>.\n"
   ]
  },
  {
   "cell_type": "code",
   "execution_count": 318,
   "metadata": {},
   "outputs": [],
   "source": [
    "# Lets take a subset of our dataframe keeping only the features we want and the flight number, and date_utc.\n",
    "data = data[['rocket', 'payloads', 'launchpad', 'cores', 'flight_number', 'date_utc']]\n",
    "# We will remove rows with multiple cores because those are falcon rockets with 2 extra rocket boosters and rows that have multiple payloads in a single rocket. For instance we just want a core or palyloads like [{'core': 'abc123'}]\n",
    "data = data[data['cores'].map(len) == 1]\n",
    " # de cada fila o elemento, solo coge el primer elenmento que tenga una longitud de 1\n",
    "data = data[data['payloads'].map(len) == 1]\n",
    "\n",
    "# Since payloads and cores are lists of size 1 we will also extract the single value in the list and replace the feature. For instance ['core_abc123']\tand we just want core_abc123\t\n",
    "data['cores'] = data['cores'].map(lambda x : x[0])\n",
    "data['payloads'] = data['payloads'].map(lambda x : x[0])\n",
    "\n",
    "\n",
    "# We also want to convert the date_utc to a datetime datatype and then extracting the date leaving the time, dt.date remove the hour and leave the date of launch\n",
    "data['date'] = pd.to_datetime(data['date_utc']).dt.date\n",
    "\n",
    "# Using the data we will restrict the dates of the launches\n",
    "data = data[data['date'] <= datetime.date(2020, 11, 13)]\n"
   ]
  },
  {
   "cell_type": "markdown",
   "id": "4920735f-0ecb-4dac-b092-1dee8b188acd",
   "metadata": {},
   "source": [
    "* From the <code>rocket</code> we would like to learn the booster name\n",
    "\n",
    "* From the <code>payload</code> we would like to learn the mass of the payload and the orbit that it is going to\n",
    "\n",
    "* From the <code>launchpad</code> we would like to know the name of the launch site being used, the longitude, and the latitude.\n",
    "\n",
    "* **From <code>cores</code> we would like to learn the outcome of the landing, the type of the landing, number of flights with that core, whether gridfins were used, whether the core is reused, whether legs were used, the landing pad used, the block of the core which is a number used to seperate version of cores, the number of times this specific core has been reused, and the serial of the core.**\n",
    "\n",
    "The data from these requests will be stored in lists and will be used to create a new dataframe.\n"
   ]
  },
  {
   "cell_type": "code",
   "execution_count": 319,
   "metadata": {},
   "outputs": [],
   "source": [
    "#Global variables \n",
    "BoosterVersion = []\n",
    "PayloadMass = []\n",
    "Orbit = []\n",
    "LaunchSite = []\n",
    "Outcome = []\n",
    "Flights = []\n",
    "GridFins = []\n",
    "Reused = []\n",
    "Legs = []\n",
    "LandingPad = []\n",
    "Block = []\n",
    "ReusedCount = []\n",
    "Serial = []\n",
    "Longitude = []\n",
    "Latitude = []"
   ]
  },
  {
   "cell_type": "markdown",
   "id": "31babfae-0762-4532-955f-0d63ccead2b3",
   "metadata": {},
   "source": [
    "These functions will apply the outputs globally to the above variables. Let's take a looks at <code>BoosterVersion</code> variable. Before we apply  <code>getBoosterVersion</code> the list is empty:\n"
   ]
  },
  {
   "cell_type": "code",
   "execution_count": 320,
   "metadata": {},
   "outputs": [
    {
     "data": {
      "text/plain": [
       "[]"
      ]
     },
     "execution_count": 320,
     "metadata": {},
     "output_type": "execute_result"
    }
   ],
   "source": [
    "BoosterVersion"
   ]
  },
  {
   "cell_type": "markdown",
   "id": "4437f80e-b14c-48bc-8b43-6c6dc7860042",
   "metadata": {},
   "source": [
    "Now, let's apply <code> getBoosterVersion</code> function method to get the booster version\n",
    "\n",
    "| Parte                     | Qué hace                                                          |\n",
    "| ------------------------- | ----------------------------------------------------------------- |\n",
    "| `.rocket`                 | Tiene solo un ID (inútil sin más info)                            |\n",
    "| `getBoosterVersion(data)` | Usa la API para convertir ese ID en el **nombre real del cohete** |\n",
    "| `BoosterVersion`          | Lista que guarda esos nombres (uno por fila)                      |\n"
   ]
  },
  {
   "cell_type": "code",
   "execution_count": 321,
   "metadata": {},
   "outputs": [],
   "source": [
    "getBoosterVersion(data)"
   ]
  },
  {
   "cell_type": "markdown",
   "id": "e50e3c81-4618-4a35-8397-49d326f1f332",
   "metadata": {},
   "source": [
    "the list has now been update \n"
   ]
  },
  {
   "cell_type": "code",
   "execution_count": 322,
   "metadata": {},
   "outputs": [
    {
     "data": {
      "text/plain": [
       "['Falcon 1', 'Falcon 1', 'Falcon 1', 'Falcon 1', 'Falcon 9']"
      ]
     },
     "execution_count": 322,
     "metadata": {},
     "output_type": "execute_result"
    }
   ],
   "source": [
    "BoosterVersion[0:5]"
   ]
  },
  {
   "cell_type": "markdown",
   "id": "5e171f31-14ff-461b-8017-ac85f979f4e0",
   "metadata": {},
   "source": [
    "we can apply the rest of the  functions here:\n"
   ]
  },
  {
   "cell_type": "code",
   "execution_count": 323,
   "metadata": {},
   "outputs": [],
   "source": [
    "# Call getLaunchSite\n",
    "getLaunchSite(data)"
   ]
  },
  {
   "cell_type": "code",
   "execution_count": 324,
   "metadata": {},
   "outputs": [
    {
     "ename": "NameError",
     "evalue": "name 'request' is not defined",
     "output_type": "error",
     "traceback": [
      "\u001b[0;31m---------------------------------------------------------------------------\u001b[0m",
      "\u001b[0;31mNameError\u001b[0m                                 Traceback (most recent call last)",
      "Cell \u001b[0;32mIn[324], line 2\u001b[0m\n\u001b[1;32m      1\u001b[0m \u001b[38;5;66;03m# Call getPayloadData\u001b[39;00m\n\u001b[0;32m----> 2\u001b[0m \u001b[43mgetPayloadData\u001b[49m\u001b[43m(\u001b[49m\u001b[43mdata\u001b[49m\u001b[43m)\u001b[49m\n",
      "Cell \u001b[0;32mIn[312], line 5\u001b[0m, in \u001b[0;36mgetPayloadData\u001b[0;34m(data)\u001b[0m\n\u001b[1;32m      3\u001b[0m \u001b[38;5;28;01mfor\u001b[39;00m x \u001b[38;5;129;01min\u001b[39;00m data[\u001b[38;5;124m'\u001b[39m\u001b[38;5;124mpayloads\u001b[39m\u001b[38;5;124m'\u001b[39m]:\n\u001b[1;32m      4\u001b[0m     \u001b[38;5;28;01mif\u001b[39;00m x : \n\u001b[0;32m----> 5\u001b[0m         response \u001b[38;5;241m=\u001b[39m \u001b[43mrequest\u001b[49m\u001b[38;5;241m.\u001b[39mget(\u001b[38;5;124m\"\u001b[39m\u001b[38;5;124mhttps://api.spacexdata.com/v4/payloads/\u001b[39m\u001b[38;5;124m\"\u001b[39m \u001b[38;5;241m+\u001b[39m \u001b[38;5;28mstr\u001b[39m(x))\u001b[38;5;241m.\u001b[39mjson()\n\u001b[1;32m      6\u001b[0m         PayloadMass\u001b[38;5;241m.\u001b[39mappend(response[\u001b[38;5;124m'\u001b[39m\u001b[38;5;124mmass_kg\u001b[39m\u001b[38;5;124m'\u001b[39m])\n\u001b[1;32m      7\u001b[0m         Orbit\u001b[38;5;241m.\u001b[39mappend(response[\u001b[38;5;124m'\u001b[39m\u001b[38;5;124morbit\u001b[39m\u001b[38;5;124m'\u001b[39m])\n",
      "\u001b[0;31mNameError\u001b[0m: name 'request' is not defined"
     ]
    }
   ],
   "source": [
    "# Call getPayloadData\n",
    "getPayloadData(data)"
   ]
  },
  {
   "cell_type": "code",
   "execution_count": null,
   "metadata": {},
   "outputs": [
    {
     "ename": "KeyboardInterrupt",
     "evalue": "",
     "output_type": "error",
     "traceback": [
      "\u001b[0;31m---------------------------------------------------------------------------\u001b[0m",
      "\u001b[0;31mKeyboardInterrupt\u001b[0m                         Traceback (most recent call last)",
      "Cell \u001b[0;32mIn[245], line 2\u001b[0m\n\u001b[1;32m      1\u001b[0m \u001b[38;5;66;03m# Call getCoreData\u001b[39;00m\n\u001b[0;32m----> 2\u001b[0m \u001b[43mgetCoreData\u001b[49m\u001b[43m(\u001b[49m\u001b[43mdata\u001b[49m\u001b[43m)\u001b[49m\n",
      "Cell \u001b[0;32mIn[232], line 5\u001b[0m, in \u001b[0;36mgetCoreData\u001b[0;34m(data)\u001b[0m\n\u001b[1;32m      3\u001b[0m \u001b[38;5;28;01mfor\u001b[39;00m core \u001b[38;5;129;01min\u001b[39;00m data[\u001b[38;5;124m'\u001b[39m\u001b[38;5;124mcores\u001b[39m\u001b[38;5;124m'\u001b[39m]:\n\u001b[1;32m      4\u001b[0m     \u001b[38;5;28;01mif\u001b[39;00m core[\u001b[38;5;124m'\u001b[39m\u001b[38;5;124mcore\u001b[39m\u001b[38;5;124m'\u001b[39m] \u001b[38;5;241m!=\u001b[39m \u001b[38;5;28;01mNone\u001b[39;00m:\n\u001b[0;32m----> 5\u001b[0m         response \u001b[38;5;241m=\u001b[39m \u001b[43mrequests\u001b[49m\u001b[38;5;241;43m.\u001b[39;49m\u001b[43mget\u001b[49m\u001b[43m(\u001b[49m\u001b[38;5;124;43m\"\u001b[39;49m\u001b[38;5;124;43mhttps://api.spacexdata.com/v4/cores/\u001b[39;49m\u001b[38;5;124;43m\"\u001b[39;49m\u001b[43m \u001b[49m\u001b[38;5;241;43m+\u001b[39;49m\u001b[43m \u001b[49m\u001b[43mcore\u001b[49m\u001b[43m[\u001b[49m\u001b[38;5;124;43m'\u001b[39;49m\u001b[38;5;124;43mcore\u001b[39;49m\u001b[38;5;124;43m'\u001b[39;49m\u001b[43m]\u001b[49m\u001b[43m)\u001b[49m\u001b[38;5;241m.\u001b[39mjson()\n\u001b[1;32m      6\u001b[0m         Block\u001b[38;5;241m.\u001b[39mappend(response[\u001b[38;5;124m'\u001b[39m\u001b[38;5;124mblock\u001b[39m\u001b[38;5;124m'\u001b[39m])\n\u001b[1;32m      7\u001b[0m         ReusedCount\u001b[38;5;241m.\u001b[39mappend(response[\u001b[38;5;124m'\u001b[39m\u001b[38;5;124mreuse_count\u001b[39m\u001b[38;5;124m'\u001b[39m])\n",
      "File \u001b[0;32m~/anaconda3/envs/data_analysis_portfolio/lib/python3.10/site-packages/requests/api.py:73\u001b[0m, in \u001b[0;36mget\u001b[0;34m(url, params, **kwargs)\u001b[0m\n\u001b[1;32m     62\u001b[0m \u001b[38;5;28;01mdef\u001b[39;00m \u001b[38;5;21mget\u001b[39m(url, params\u001b[38;5;241m=\u001b[39m\u001b[38;5;28;01mNone\u001b[39;00m, \u001b[38;5;241m*\u001b[39m\u001b[38;5;241m*\u001b[39mkwargs):\n\u001b[1;32m     63\u001b[0m \u001b[38;5;250m    \u001b[39m\u001b[38;5;124mr\u001b[39m\u001b[38;5;124;03m\"\"\"Sends a GET request.\u001b[39;00m\n\u001b[1;32m     64\u001b[0m \n\u001b[1;32m     65\u001b[0m \u001b[38;5;124;03m    :param url: URL for the new :class:`Request` object.\u001b[39;00m\n\u001b[0;32m   (...)\u001b[0m\n\u001b[1;32m     70\u001b[0m \u001b[38;5;124;03m    :rtype: requests.Response\u001b[39;00m\n\u001b[1;32m     71\u001b[0m \u001b[38;5;124;03m    \"\"\"\u001b[39;00m\n\u001b[0;32m---> 73\u001b[0m     \u001b[38;5;28;01mreturn\u001b[39;00m \u001b[43mrequest\u001b[49m\u001b[43m(\u001b[49m\u001b[38;5;124;43m\"\u001b[39;49m\u001b[38;5;124;43mget\u001b[39;49m\u001b[38;5;124;43m\"\u001b[39;49m\u001b[43m,\u001b[49m\u001b[43m \u001b[49m\u001b[43murl\u001b[49m\u001b[43m,\u001b[49m\u001b[43m \u001b[49m\u001b[43mparams\u001b[49m\u001b[38;5;241;43m=\u001b[39;49m\u001b[43mparams\u001b[49m\u001b[43m,\u001b[49m\u001b[43m \u001b[49m\u001b[38;5;241;43m*\u001b[39;49m\u001b[38;5;241;43m*\u001b[39;49m\u001b[43mkwargs\u001b[49m\u001b[43m)\u001b[49m\n",
      "File \u001b[0;32m~/anaconda3/envs/data_analysis_portfolio/lib/python3.10/site-packages/requests/api.py:59\u001b[0m, in \u001b[0;36mrequest\u001b[0;34m(method, url, **kwargs)\u001b[0m\n\u001b[1;32m     55\u001b[0m \u001b[38;5;66;03m# By using the 'with' statement we are sure the session is closed, thus we\u001b[39;00m\n\u001b[1;32m     56\u001b[0m \u001b[38;5;66;03m# avoid leaving sockets open which can trigger a ResourceWarning in some\u001b[39;00m\n\u001b[1;32m     57\u001b[0m \u001b[38;5;66;03m# cases, and look like a memory leak in others.\u001b[39;00m\n\u001b[1;32m     58\u001b[0m \u001b[38;5;28;01mwith\u001b[39;00m sessions\u001b[38;5;241m.\u001b[39mSession() \u001b[38;5;28;01mas\u001b[39;00m session:\n\u001b[0;32m---> 59\u001b[0m     \u001b[38;5;28;01mreturn\u001b[39;00m \u001b[43msession\u001b[49m\u001b[38;5;241;43m.\u001b[39;49m\u001b[43mrequest\u001b[49m\u001b[43m(\u001b[49m\u001b[43mmethod\u001b[49m\u001b[38;5;241;43m=\u001b[39;49m\u001b[43mmethod\u001b[49m\u001b[43m,\u001b[49m\u001b[43m \u001b[49m\u001b[43murl\u001b[49m\u001b[38;5;241;43m=\u001b[39;49m\u001b[43murl\u001b[49m\u001b[43m,\u001b[49m\u001b[43m \u001b[49m\u001b[38;5;241;43m*\u001b[39;49m\u001b[38;5;241;43m*\u001b[39;49m\u001b[43mkwargs\u001b[49m\u001b[43m)\u001b[49m\n",
      "File \u001b[0;32m~/anaconda3/envs/data_analysis_portfolio/lib/python3.10/site-packages/requests/sessions.py:589\u001b[0m, in \u001b[0;36mSession.request\u001b[0;34m(self, method, url, params, data, headers, cookies, files, auth, timeout, allow_redirects, proxies, hooks, stream, verify, cert, json)\u001b[0m\n\u001b[1;32m    584\u001b[0m send_kwargs \u001b[38;5;241m=\u001b[39m {\n\u001b[1;32m    585\u001b[0m     \u001b[38;5;124m\"\u001b[39m\u001b[38;5;124mtimeout\u001b[39m\u001b[38;5;124m\"\u001b[39m: timeout,\n\u001b[1;32m    586\u001b[0m     \u001b[38;5;124m\"\u001b[39m\u001b[38;5;124mallow_redirects\u001b[39m\u001b[38;5;124m\"\u001b[39m: allow_redirects,\n\u001b[1;32m    587\u001b[0m }\n\u001b[1;32m    588\u001b[0m send_kwargs\u001b[38;5;241m.\u001b[39mupdate(settings)\n\u001b[0;32m--> 589\u001b[0m resp \u001b[38;5;241m=\u001b[39m \u001b[38;5;28;43mself\u001b[39;49m\u001b[38;5;241;43m.\u001b[39;49m\u001b[43msend\u001b[49m\u001b[43m(\u001b[49m\u001b[43mprep\u001b[49m\u001b[43m,\u001b[49m\u001b[43m \u001b[49m\u001b[38;5;241;43m*\u001b[39;49m\u001b[38;5;241;43m*\u001b[39;49m\u001b[43msend_kwargs\u001b[49m\u001b[43m)\u001b[49m\n\u001b[1;32m    591\u001b[0m \u001b[38;5;28;01mreturn\u001b[39;00m resp\n",
      "File \u001b[0;32m~/anaconda3/envs/data_analysis_portfolio/lib/python3.10/site-packages/requests/sessions.py:703\u001b[0m, in \u001b[0;36mSession.send\u001b[0;34m(self, request, **kwargs)\u001b[0m\n\u001b[1;32m    700\u001b[0m start \u001b[38;5;241m=\u001b[39m preferred_clock()\n\u001b[1;32m    702\u001b[0m \u001b[38;5;66;03m# Send the request\u001b[39;00m\n\u001b[0;32m--> 703\u001b[0m r \u001b[38;5;241m=\u001b[39m \u001b[43madapter\u001b[49m\u001b[38;5;241;43m.\u001b[39;49m\u001b[43msend\u001b[49m\u001b[43m(\u001b[49m\u001b[43mrequest\u001b[49m\u001b[43m,\u001b[49m\u001b[43m \u001b[49m\u001b[38;5;241;43m*\u001b[39;49m\u001b[38;5;241;43m*\u001b[39;49m\u001b[43mkwargs\u001b[49m\u001b[43m)\u001b[49m\n\u001b[1;32m    705\u001b[0m \u001b[38;5;66;03m# Total elapsed time of the request (approximately)\u001b[39;00m\n\u001b[1;32m    706\u001b[0m elapsed \u001b[38;5;241m=\u001b[39m preferred_clock() \u001b[38;5;241m-\u001b[39m start\n",
      "File \u001b[0;32m~/anaconda3/envs/data_analysis_portfolio/lib/python3.10/site-packages/requests/adapters.py:667\u001b[0m, in \u001b[0;36mHTTPAdapter.send\u001b[0;34m(self, request, stream, timeout, verify, cert, proxies)\u001b[0m\n\u001b[1;32m    664\u001b[0m     timeout \u001b[38;5;241m=\u001b[39m TimeoutSauce(connect\u001b[38;5;241m=\u001b[39mtimeout, read\u001b[38;5;241m=\u001b[39mtimeout)\n\u001b[1;32m    666\u001b[0m \u001b[38;5;28;01mtry\u001b[39;00m:\n\u001b[0;32m--> 667\u001b[0m     resp \u001b[38;5;241m=\u001b[39m \u001b[43mconn\u001b[49m\u001b[38;5;241;43m.\u001b[39;49m\u001b[43murlopen\u001b[49m\u001b[43m(\u001b[49m\n\u001b[1;32m    668\u001b[0m \u001b[43m        \u001b[49m\u001b[43mmethod\u001b[49m\u001b[38;5;241;43m=\u001b[39;49m\u001b[43mrequest\u001b[49m\u001b[38;5;241;43m.\u001b[39;49m\u001b[43mmethod\u001b[49m\u001b[43m,\u001b[49m\n\u001b[1;32m    669\u001b[0m \u001b[43m        \u001b[49m\u001b[43murl\u001b[49m\u001b[38;5;241;43m=\u001b[39;49m\u001b[43murl\u001b[49m\u001b[43m,\u001b[49m\n\u001b[1;32m    670\u001b[0m \u001b[43m        \u001b[49m\u001b[43mbody\u001b[49m\u001b[38;5;241;43m=\u001b[39;49m\u001b[43mrequest\u001b[49m\u001b[38;5;241;43m.\u001b[39;49m\u001b[43mbody\u001b[49m\u001b[43m,\u001b[49m\n\u001b[1;32m    671\u001b[0m \u001b[43m        \u001b[49m\u001b[43mheaders\u001b[49m\u001b[38;5;241;43m=\u001b[39;49m\u001b[43mrequest\u001b[49m\u001b[38;5;241;43m.\u001b[39;49m\u001b[43mheaders\u001b[49m\u001b[43m,\u001b[49m\n\u001b[1;32m    672\u001b[0m \u001b[43m        \u001b[49m\u001b[43mredirect\u001b[49m\u001b[38;5;241;43m=\u001b[39;49m\u001b[38;5;28;43;01mFalse\u001b[39;49;00m\u001b[43m,\u001b[49m\n\u001b[1;32m    673\u001b[0m \u001b[43m        \u001b[49m\u001b[43massert_same_host\u001b[49m\u001b[38;5;241;43m=\u001b[39;49m\u001b[38;5;28;43;01mFalse\u001b[39;49;00m\u001b[43m,\u001b[49m\n\u001b[1;32m    674\u001b[0m \u001b[43m        \u001b[49m\u001b[43mpreload_content\u001b[49m\u001b[38;5;241;43m=\u001b[39;49m\u001b[38;5;28;43;01mFalse\u001b[39;49;00m\u001b[43m,\u001b[49m\n\u001b[1;32m    675\u001b[0m \u001b[43m        \u001b[49m\u001b[43mdecode_content\u001b[49m\u001b[38;5;241;43m=\u001b[39;49m\u001b[38;5;28;43;01mFalse\u001b[39;49;00m\u001b[43m,\u001b[49m\n\u001b[1;32m    676\u001b[0m \u001b[43m        \u001b[49m\u001b[43mretries\u001b[49m\u001b[38;5;241;43m=\u001b[39;49m\u001b[38;5;28;43mself\u001b[39;49m\u001b[38;5;241;43m.\u001b[39;49m\u001b[43mmax_retries\u001b[49m\u001b[43m,\u001b[49m\n\u001b[1;32m    677\u001b[0m \u001b[43m        \u001b[49m\u001b[43mtimeout\u001b[49m\u001b[38;5;241;43m=\u001b[39;49m\u001b[43mtimeout\u001b[49m\u001b[43m,\u001b[49m\n\u001b[1;32m    678\u001b[0m \u001b[43m        \u001b[49m\u001b[43mchunked\u001b[49m\u001b[38;5;241;43m=\u001b[39;49m\u001b[43mchunked\u001b[49m\u001b[43m,\u001b[49m\n\u001b[1;32m    679\u001b[0m \u001b[43m    \u001b[49m\u001b[43m)\u001b[49m\n\u001b[1;32m    681\u001b[0m \u001b[38;5;28;01mexcept\u001b[39;00m (ProtocolError, \u001b[38;5;167;01mOSError\u001b[39;00m) \u001b[38;5;28;01mas\u001b[39;00m err:\n\u001b[1;32m    682\u001b[0m     \u001b[38;5;28;01mraise\u001b[39;00m \u001b[38;5;167;01mConnectionError\u001b[39;00m(err, request\u001b[38;5;241m=\u001b[39mrequest)\n",
      "File \u001b[0;32m~/anaconda3/envs/data_analysis_portfolio/lib/python3.10/site-packages/urllib3/connectionpool.py:787\u001b[0m, in \u001b[0;36mHTTPConnectionPool.urlopen\u001b[0;34m(self, method, url, body, headers, retries, redirect, assert_same_host, timeout, pool_timeout, release_conn, chunked, body_pos, preload_content, decode_content, **response_kw)\u001b[0m\n\u001b[1;32m    784\u001b[0m response_conn \u001b[38;5;241m=\u001b[39m conn \u001b[38;5;28;01mif\u001b[39;00m \u001b[38;5;129;01mnot\u001b[39;00m release_conn \u001b[38;5;28;01melse\u001b[39;00m \u001b[38;5;28;01mNone\u001b[39;00m\n\u001b[1;32m    786\u001b[0m \u001b[38;5;66;03m# Make the request on the HTTPConnection object\u001b[39;00m\n\u001b[0;32m--> 787\u001b[0m response \u001b[38;5;241m=\u001b[39m \u001b[38;5;28;43mself\u001b[39;49m\u001b[38;5;241;43m.\u001b[39;49m\u001b[43m_make_request\u001b[49m\u001b[43m(\u001b[49m\n\u001b[1;32m    788\u001b[0m \u001b[43m    \u001b[49m\u001b[43mconn\u001b[49m\u001b[43m,\u001b[49m\n\u001b[1;32m    789\u001b[0m \u001b[43m    \u001b[49m\u001b[43mmethod\u001b[49m\u001b[43m,\u001b[49m\n\u001b[1;32m    790\u001b[0m \u001b[43m    \u001b[49m\u001b[43murl\u001b[49m\u001b[43m,\u001b[49m\n\u001b[1;32m    791\u001b[0m \u001b[43m    \u001b[49m\u001b[43mtimeout\u001b[49m\u001b[38;5;241;43m=\u001b[39;49m\u001b[43mtimeout_obj\u001b[49m\u001b[43m,\u001b[49m\n\u001b[1;32m    792\u001b[0m \u001b[43m    \u001b[49m\u001b[43mbody\u001b[49m\u001b[38;5;241;43m=\u001b[39;49m\u001b[43mbody\u001b[49m\u001b[43m,\u001b[49m\n\u001b[1;32m    793\u001b[0m \u001b[43m    \u001b[49m\u001b[43mheaders\u001b[49m\u001b[38;5;241;43m=\u001b[39;49m\u001b[43mheaders\u001b[49m\u001b[43m,\u001b[49m\n\u001b[1;32m    794\u001b[0m \u001b[43m    \u001b[49m\u001b[43mchunked\u001b[49m\u001b[38;5;241;43m=\u001b[39;49m\u001b[43mchunked\u001b[49m\u001b[43m,\u001b[49m\n\u001b[1;32m    795\u001b[0m \u001b[43m    \u001b[49m\u001b[43mretries\u001b[49m\u001b[38;5;241;43m=\u001b[39;49m\u001b[43mretries\u001b[49m\u001b[43m,\u001b[49m\n\u001b[1;32m    796\u001b[0m \u001b[43m    \u001b[49m\u001b[43mresponse_conn\u001b[49m\u001b[38;5;241;43m=\u001b[39;49m\u001b[43mresponse_conn\u001b[49m\u001b[43m,\u001b[49m\n\u001b[1;32m    797\u001b[0m \u001b[43m    \u001b[49m\u001b[43mpreload_content\u001b[49m\u001b[38;5;241;43m=\u001b[39;49m\u001b[43mpreload_content\u001b[49m\u001b[43m,\u001b[49m\n\u001b[1;32m    798\u001b[0m \u001b[43m    \u001b[49m\u001b[43mdecode_content\u001b[49m\u001b[38;5;241;43m=\u001b[39;49m\u001b[43mdecode_content\u001b[49m\u001b[43m,\u001b[49m\n\u001b[1;32m    799\u001b[0m \u001b[43m    \u001b[49m\u001b[38;5;241;43m*\u001b[39;49m\u001b[38;5;241;43m*\u001b[39;49m\u001b[43mresponse_kw\u001b[49m\u001b[43m,\u001b[49m\n\u001b[1;32m    800\u001b[0m \u001b[43m\u001b[49m\u001b[43m)\u001b[49m\n\u001b[1;32m    802\u001b[0m \u001b[38;5;66;03m# Everything went great!\u001b[39;00m\n\u001b[1;32m    803\u001b[0m clean_exit \u001b[38;5;241m=\u001b[39m \u001b[38;5;28;01mTrue\u001b[39;00m\n",
      "File \u001b[0;32m~/anaconda3/envs/data_analysis_portfolio/lib/python3.10/site-packages/urllib3/connectionpool.py:464\u001b[0m, in \u001b[0;36mHTTPConnectionPool._make_request\u001b[0;34m(self, conn, method, url, body, headers, retries, timeout, chunked, response_conn, preload_content, decode_content, enforce_content_length)\u001b[0m\n\u001b[1;32m    461\u001b[0m \u001b[38;5;28;01mtry\u001b[39;00m:\n\u001b[1;32m    462\u001b[0m     \u001b[38;5;66;03m# Trigger any extra validation we need to do.\u001b[39;00m\n\u001b[1;32m    463\u001b[0m     \u001b[38;5;28;01mtry\u001b[39;00m:\n\u001b[0;32m--> 464\u001b[0m         \u001b[38;5;28;43mself\u001b[39;49m\u001b[38;5;241;43m.\u001b[39;49m\u001b[43m_validate_conn\u001b[49m\u001b[43m(\u001b[49m\u001b[43mconn\u001b[49m\u001b[43m)\u001b[49m\n\u001b[1;32m    465\u001b[0m     \u001b[38;5;28;01mexcept\u001b[39;00m (SocketTimeout, BaseSSLError) \u001b[38;5;28;01mas\u001b[39;00m e:\n\u001b[1;32m    466\u001b[0m         \u001b[38;5;28mself\u001b[39m\u001b[38;5;241m.\u001b[39m_raise_timeout(err\u001b[38;5;241m=\u001b[39me, url\u001b[38;5;241m=\u001b[39murl, timeout_value\u001b[38;5;241m=\u001b[39mconn\u001b[38;5;241m.\u001b[39mtimeout)\n",
      "File \u001b[0;32m~/anaconda3/envs/data_analysis_portfolio/lib/python3.10/site-packages/urllib3/connectionpool.py:1093\u001b[0m, in \u001b[0;36mHTTPSConnectionPool._validate_conn\u001b[0;34m(self, conn)\u001b[0m\n\u001b[1;32m   1091\u001b[0m \u001b[38;5;66;03m# Force connect early to allow us to validate the connection.\u001b[39;00m\n\u001b[1;32m   1092\u001b[0m \u001b[38;5;28;01mif\u001b[39;00m conn\u001b[38;5;241m.\u001b[39mis_closed:\n\u001b[0;32m-> 1093\u001b[0m     \u001b[43mconn\u001b[49m\u001b[38;5;241;43m.\u001b[39;49m\u001b[43mconnect\u001b[49m\u001b[43m(\u001b[49m\u001b[43m)\u001b[49m\n\u001b[1;32m   1095\u001b[0m \u001b[38;5;66;03m# TODO revise this, see https://github.com/urllib3/urllib3/issues/2791\u001b[39;00m\n\u001b[1;32m   1096\u001b[0m \u001b[38;5;28;01mif\u001b[39;00m \u001b[38;5;129;01mnot\u001b[39;00m conn\u001b[38;5;241m.\u001b[39mis_verified \u001b[38;5;129;01mand\u001b[39;00m \u001b[38;5;129;01mnot\u001b[39;00m conn\u001b[38;5;241m.\u001b[39mproxy_is_verified:\n",
      "File \u001b[0;32m~/anaconda3/envs/data_analysis_portfolio/lib/python3.10/site-packages/urllib3/connection.py:704\u001b[0m, in \u001b[0;36mHTTPSConnection.connect\u001b[0;34m(self)\u001b[0m\n\u001b[1;32m    702\u001b[0m \u001b[38;5;28;01mtry\u001b[39;00m:\n\u001b[1;32m    703\u001b[0m     sock: socket\u001b[38;5;241m.\u001b[39msocket \u001b[38;5;241m|\u001b[39m ssl\u001b[38;5;241m.\u001b[39mSSLSocket\n\u001b[0;32m--> 704\u001b[0m     \u001b[38;5;28mself\u001b[39m\u001b[38;5;241m.\u001b[39msock \u001b[38;5;241m=\u001b[39m sock \u001b[38;5;241m=\u001b[39m \u001b[38;5;28;43mself\u001b[39;49m\u001b[38;5;241;43m.\u001b[39;49m\u001b[43m_new_conn\u001b[49m\u001b[43m(\u001b[49m\u001b[43m)\u001b[49m\n\u001b[1;32m    705\u001b[0m     server_hostname: \u001b[38;5;28mstr\u001b[39m \u001b[38;5;241m=\u001b[39m \u001b[38;5;28mself\u001b[39m\u001b[38;5;241m.\u001b[39mhost\n\u001b[1;32m    706\u001b[0m     tls_in_tls \u001b[38;5;241m=\u001b[39m \u001b[38;5;28;01mFalse\u001b[39;00m\n",
      "File \u001b[0;32m~/anaconda3/envs/data_analysis_portfolio/lib/python3.10/site-packages/urllib3/connection.py:198\u001b[0m, in \u001b[0;36mHTTPConnection._new_conn\u001b[0;34m(self)\u001b[0m\n\u001b[1;32m    193\u001b[0m \u001b[38;5;250m\u001b[39m\u001b[38;5;124;03m\"\"\"Establish a socket connection and set nodelay settings on it.\u001b[39;00m\n\u001b[1;32m    194\u001b[0m \n\u001b[1;32m    195\u001b[0m \u001b[38;5;124;03m:return: New socket connection.\u001b[39;00m\n\u001b[1;32m    196\u001b[0m \u001b[38;5;124;03m\"\"\"\u001b[39;00m\n\u001b[1;32m    197\u001b[0m \u001b[38;5;28;01mtry\u001b[39;00m:\n\u001b[0;32m--> 198\u001b[0m     sock \u001b[38;5;241m=\u001b[39m \u001b[43mconnection\u001b[49m\u001b[38;5;241;43m.\u001b[39;49m\u001b[43mcreate_connection\u001b[49m\u001b[43m(\u001b[49m\n\u001b[1;32m    199\u001b[0m \u001b[43m        \u001b[49m\u001b[43m(\u001b[49m\u001b[38;5;28;43mself\u001b[39;49m\u001b[38;5;241;43m.\u001b[39;49m\u001b[43m_dns_host\u001b[49m\u001b[43m,\u001b[49m\u001b[43m \u001b[49m\u001b[38;5;28;43mself\u001b[39;49m\u001b[38;5;241;43m.\u001b[39;49m\u001b[43mport\u001b[49m\u001b[43m)\u001b[49m\u001b[43m,\u001b[49m\n\u001b[1;32m    200\u001b[0m \u001b[43m        \u001b[49m\u001b[38;5;28;43mself\u001b[39;49m\u001b[38;5;241;43m.\u001b[39;49m\u001b[43mtimeout\u001b[49m\u001b[43m,\u001b[49m\n\u001b[1;32m    201\u001b[0m \u001b[43m        \u001b[49m\u001b[43msource_address\u001b[49m\u001b[38;5;241;43m=\u001b[39;49m\u001b[38;5;28;43mself\u001b[39;49m\u001b[38;5;241;43m.\u001b[39;49m\u001b[43msource_address\u001b[49m\u001b[43m,\u001b[49m\n\u001b[1;32m    202\u001b[0m \u001b[43m        \u001b[49m\u001b[43msocket_options\u001b[49m\u001b[38;5;241;43m=\u001b[39;49m\u001b[38;5;28;43mself\u001b[39;49m\u001b[38;5;241;43m.\u001b[39;49m\u001b[43msocket_options\u001b[49m\u001b[43m,\u001b[49m\n\u001b[1;32m    203\u001b[0m \u001b[43m    \u001b[49m\u001b[43m)\u001b[49m\n\u001b[1;32m    204\u001b[0m \u001b[38;5;28;01mexcept\u001b[39;00m socket\u001b[38;5;241m.\u001b[39mgaierror \u001b[38;5;28;01mas\u001b[39;00m e:\n\u001b[1;32m    205\u001b[0m     \u001b[38;5;28;01mraise\u001b[39;00m NameResolutionError(\u001b[38;5;28mself\u001b[39m\u001b[38;5;241m.\u001b[39mhost, \u001b[38;5;28mself\u001b[39m, e) \u001b[38;5;28;01mfrom\u001b[39;00m \u001b[38;5;21;01me\u001b[39;00m\n",
      "File \u001b[0;32m~/anaconda3/envs/data_analysis_portfolio/lib/python3.10/site-packages/urllib3/util/connection.py:73\u001b[0m, in \u001b[0;36mcreate_connection\u001b[0;34m(address, timeout, source_address, socket_options)\u001b[0m\n\u001b[1;32m     71\u001b[0m \u001b[38;5;28;01mif\u001b[39;00m source_address:\n\u001b[1;32m     72\u001b[0m     sock\u001b[38;5;241m.\u001b[39mbind(source_address)\n\u001b[0;32m---> 73\u001b[0m \u001b[43msock\u001b[49m\u001b[38;5;241;43m.\u001b[39;49m\u001b[43mconnect\u001b[49m\u001b[43m(\u001b[49m\u001b[43msa\u001b[49m\u001b[43m)\u001b[49m\n\u001b[1;32m     74\u001b[0m \u001b[38;5;66;03m# Break explicitly a reference cycle\u001b[39;00m\n\u001b[1;32m     75\u001b[0m err \u001b[38;5;241m=\u001b[39m \u001b[38;5;28;01mNone\u001b[39;00m\n",
      "\u001b[0;31mKeyboardInterrupt\u001b[0m: "
     ]
    }
   ],
   "source": [
    "# Call getCoreData\n",
    "getCoreData(data)"
   ]
  },
  {
   "cell_type": "markdown",
   "id": "730f9035-e441-4dc4-a606-4dbddc8f10ea",
   "metadata": {},
   "source": [
    "Finally lets construct our dataset using the data we have obtained. We we combine the columns into a dictionary.\n"
   ]
  },
  {
   "cell_type": "code",
   "execution_count": null,
   "metadata": {},
   "outputs": [],
   "source": [
    "launch_dit = {'FlightNumber' : list(data['flight_number']),\n",
    "                'Date' : list(data['date']),\n",
    "                'BoosterVersion':BoosterVersion,\n",
    "                'PayloadMass':PayloadMass,\n",
    "                'Orbit':Orbit,\n",
    "                'LaunchSite':LaunchSite,\n",
    "                'Outcome':Outcome,\n",
    "                'Flights':Flights,\n",
    "                'GridFins':GridFins,\n",
    "                'Reused':Reused,\n",
    "                'Legs':Legs,\n",
    "                'LandingPad':LandingPad,\n",
    "                'Block':Block,\n",
    "                'ReusedCount':ReusedCount,\n",
    "                'Serial':Serial,\n",
    "                'Longitude': Longitude,\n",
    "                'Latitude': Latitude}"
   ]
  },
  {
   "cell_type": "markdown",
   "id": "ab29dfcd-340c-47bb-ab4b-cbf229865c61",
   "metadata": {},
   "source": [
    "Then, we need to create a Pandas data frame from the dictionary launch_dict.\n"
   ]
  },
  {
   "cell_type": "code",
   "execution_count": null,
   "id": "c7dd0140-9795-4c31-856e-c166697d697b",
   "metadata": {},
   "outputs": [],
   "source": [
    "# Create a data from launch_dict\n",
    "data  = pd.DataFrame(launch_dit)"
   ]
  },
  {
   "cell_type": "markdown",
   "id": "f36b75f0-28cb-41a2-8e59-ab8fbe84f06a",
   "metadata": {},
   "source": [
    "Show the summary of the dataframe\n"
   ]
  },
  {
   "cell_type": "code",
   "execution_count": null,
   "id": "2bf93a6f-ea2a-464d-984c-cc98013295cb",
   "metadata": {},
   "outputs": [
    {
     "data": {
      "text/html": [
       "<div>\n",
       "<style scoped>\n",
       "    .dataframe tbody tr th:only-of-type {\n",
       "        vertical-align: middle;\n",
       "    }\n",
       "\n",
       "    .dataframe tbody tr th {\n",
       "        vertical-align: top;\n",
       "    }\n",
       "\n",
       "    .dataframe thead th {\n",
       "        text-align: right;\n",
       "    }\n",
       "</style>\n",
       "<table border=\"1\" class=\"dataframe\">\n",
       "  <thead>\n",
       "    <tr style=\"text-align: right;\">\n",
       "      <th></th>\n",
       "      <th>FlightNumber</th>\n",
       "      <th>Date</th>\n",
       "      <th>BoosterVersion</th>\n",
       "      <th>PayloadMass</th>\n",
       "      <th>Orbit</th>\n",
       "      <th>LaunchSite</th>\n",
       "      <th>Outcome</th>\n",
       "      <th>Flights</th>\n",
       "      <th>GridFins</th>\n",
       "      <th>Reused</th>\n",
       "      <th>Legs</th>\n",
       "      <th>LandingPad</th>\n",
       "      <th>Block</th>\n",
       "      <th>ReusedCount</th>\n",
       "      <th>Serial</th>\n",
       "      <th>Longitude</th>\n",
       "      <th>Latitude</th>\n",
       "    </tr>\n",
       "  </thead>\n",
       "  <tbody>\n",
       "    <tr>\n",
       "      <th>0</th>\n",
       "      <td>1</td>\n",
       "      <td>2006-03-24</td>\n",
       "      <td>Falcon 1</td>\n",
       "      <td>20.0</td>\n",
       "      <td>LEO</td>\n",
       "      <td>Kwajalein Atoll</td>\n",
       "      <td>None None</td>\n",
       "      <td>1</td>\n",
       "      <td>False</td>\n",
       "      <td>False</td>\n",
       "      <td>False</td>\n",
       "      <td>None</td>\n",
       "      <td>NaN</td>\n",
       "      <td>0</td>\n",
       "      <td>Merlin1A</td>\n",
       "      <td>167.743129</td>\n",
       "      <td>9.047721</td>\n",
       "    </tr>\n",
       "    <tr>\n",
       "      <th>1</th>\n",
       "      <td>2</td>\n",
       "      <td>2007-03-21</td>\n",
       "      <td>Falcon 1</td>\n",
       "      <td>NaN</td>\n",
       "      <td>LEO</td>\n",
       "      <td>Kwajalein Atoll</td>\n",
       "      <td>None None</td>\n",
       "      <td>1</td>\n",
       "      <td>False</td>\n",
       "      <td>False</td>\n",
       "      <td>False</td>\n",
       "      <td>None</td>\n",
       "      <td>NaN</td>\n",
       "      <td>0</td>\n",
       "      <td>Merlin2A</td>\n",
       "      <td>167.743129</td>\n",
       "      <td>9.047721</td>\n",
       "    </tr>\n",
       "    <tr>\n",
       "      <th>2</th>\n",
       "      <td>4</td>\n",
       "      <td>2008-09-28</td>\n",
       "      <td>Falcon 1</td>\n",
       "      <td>165.0</td>\n",
       "      <td>LEO</td>\n",
       "      <td>Kwajalein Atoll</td>\n",
       "      <td>None None</td>\n",
       "      <td>1</td>\n",
       "      <td>False</td>\n",
       "      <td>False</td>\n",
       "      <td>False</td>\n",
       "      <td>None</td>\n",
       "      <td>NaN</td>\n",
       "      <td>0</td>\n",
       "      <td>Merlin2C</td>\n",
       "      <td>167.743129</td>\n",
       "      <td>9.047721</td>\n",
       "    </tr>\n",
       "    <tr>\n",
       "      <th>3</th>\n",
       "      <td>5</td>\n",
       "      <td>2009-07-13</td>\n",
       "      <td>Falcon 1</td>\n",
       "      <td>200.0</td>\n",
       "      <td>LEO</td>\n",
       "      <td>Kwajalein Atoll</td>\n",
       "      <td>None None</td>\n",
       "      <td>1</td>\n",
       "      <td>False</td>\n",
       "      <td>False</td>\n",
       "      <td>False</td>\n",
       "      <td>None</td>\n",
       "      <td>NaN</td>\n",
       "      <td>0</td>\n",
       "      <td>Merlin3C</td>\n",
       "      <td>167.743129</td>\n",
       "      <td>9.047721</td>\n",
       "    </tr>\n",
       "    <tr>\n",
       "      <th>4</th>\n",
       "      <td>6</td>\n",
       "      <td>2010-06-04</td>\n",
       "      <td>Falcon 9</td>\n",
       "      <td>NaN</td>\n",
       "      <td>LEO</td>\n",
       "      <td>CCSFS SLC 40</td>\n",
       "      <td>None None</td>\n",
       "      <td>1</td>\n",
       "      <td>False</td>\n",
       "      <td>False</td>\n",
       "      <td>False</td>\n",
       "      <td>None</td>\n",
       "      <td>1.0</td>\n",
       "      <td>0</td>\n",
       "      <td>B0003</td>\n",
       "      <td>-80.577366</td>\n",
       "      <td>28.561857</td>\n",
       "    </tr>\n",
       "  </tbody>\n",
       "</table>\n",
       "</div>"
      ],
      "text/plain": [
       "   FlightNumber        Date BoosterVersion  PayloadMass Orbit  \\\n",
       "0             1  2006-03-24       Falcon 1         20.0   LEO   \n",
       "1             2  2007-03-21       Falcon 1          NaN   LEO   \n",
       "2             4  2008-09-28       Falcon 1        165.0   LEO   \n",
       "3             5  2009-07-13       Falcon 1        200.0   LEO   \n",
       "4             6  2010-06-04       Falcon 9          NaN   LEO   \n",
       "\n",
       "        LaunchSite    Outcome  Flights  GridFins  Reused   Legs LandingPad  \\\n",
       "0  Kwajalein Atoll  None None        1     False   False  False       None   \n",
       "1  Kwajalein Atoll  None None        1     False   False  False       None   \n",
       "2  Kwajalein Atoll  None None        1     False   False  False       None   \n",
       "3  Kwajalein Atoll  None None        1     False   False  False       None   \n",
       "4     CCSFS SLC 40  None None        1     False   False  False       None   \n",
       "\n",
       "   Block  ReusedCount    Serial   Longitude   Latitude  \n",
       "0    NaN            0  Merlin1A  167.743129   9.047721  \n",
       "1    NaN            0  Merlin2A  167.743129   9.047721  \n",
       "2    NaN            0  Merlin2C  167.743129   9.047721  \n",
       "3    NaN            0  Merlin3C  167.743129   9.047721  \n",
       "4    1.0            0     B0003  -80.577366  28.561857  "
      ]
     },
     "execution_count": 210,
     "metadata": {},
     "output_type": "execute_result"
    }
   ],
   "source": [
    "# Show the head of the dataframe\n",
    "data.head()"
   ]
  },
  {
   "cell_type": "markdown",
   "id": "767da655-2a77-40f6-a444-0cf3bf63ea58",
   "metadata": {},
   "source": [
    "### Task 2: Filter the dataframe to only include `Falcon 9` launches\n"
   ]
  },
  {
   "cell_type": "markdown",
   "id": "96d08abb-bbfb-443e-ad27-998b580ce039",
   "metadata": {},
   "source": [
    "Finally we will remove the Falcon 1 launches keeping only the Falcon 9 launches. Filter the data dataframe using the <code>BoosterVersion</code> column to only keep the Falcon 9 launches. Save the filtered data to a new dataframe called <code>data_falcon9</code>.\n"
   ]
  },
  {
   "cell_type": "code",
   "execution_count": null,
   "id": "df13a662-1a5f-44f1-8060-00884e069741",
   "metadata": {},
   "outputs": [
    {
     "data": {
      "text/plain": [
       "0     False\n",
       "1     False\n",
       "2     False\n",
       "3     False\n",
       "4      True\n",
       "      ...  \n",
       "89     True\n",
       "90     True\n",
       "91     True\n",
       "92     True\n",
       "93     True\n",
       "Name: BoosterVersion, Length: 94, dtype: bool"
      ]
     },
     "execution_count": 211,
     "metadata": {},
     "output_type": "execute_result"
    }
   ],
   "source": [
    "# Hint data['BoosterVersion']!='Falcon 1'\n",
    "data['BoosterVersion'] != 'Falcon 1'"
   ]
  },
  {
   "cell_type": "code",
   "execution_count": null,
   "metadata": {},
   "outputs": [
    {
     "data": {
      "text/html": [
       "<div>\n",
       "<style scoped>\n",
       "    .dataframe tbody tr th:only-of-type {\n",
       "        vertical-align: middle;\n",
       "    }\n",
       "\n",
       "    .dataframe tbody tr th {\n",
       "        vertical-align: top;\n",
       "    }\n",
       "\n",
       "    .dataframe thead th {\n",
       "        text-align: right;\n",
       "    }\n",
       "</style>\n",
       "<table border=\"1\" class=\"dataframe\">\n",
       "  <thead>\n",
       "    <tr style=\"text-align: right;\">\n",
       "      <th></th>\n",
       "      <th>FlightNumber</th>\n",
       "      <th>Date</th>\n",
       "      <th>BoosterVersion</th>\n",
       "      <th>PayloadMass</th>\n",
       "      <th>Orbit</th>\n",
       "      <th>LaunchSite</th>\n",
       "      <th>Outcome</th>\n",
       "      <th>Flights</th>\n",
       "      <th>GridFins</th>\n",
       "      <th>Reused</th>\n",
       "      <th>Legs</th>\n",
       "      <th>LandingPad</th>\n",
       "      <th>Block</th>\n",
       "      <th>ReusedCount</th>\n",
       "      <th>Serial</th>\n",
       "      <th>Longitude</th>\n",
       "      <th>Latitude</th>\n",
       "    </tr>\n",
       "  </thead>\n",
       "  <tbody>\n",
       "    <tr>\n",
       "      <th>4</th>\n",
       "      <td>6</td>\n",
       "      <td>2010-06-04</td>\n",
       "      <td>Falcon 9</td>\n",
       "      <td>NaN</td>\n",
       "      <td>LEO</td>\n",
       "      <td>CCSFS SLC 40</td>\n",
       "      <td>None None</td>\n",
       "      <td>1</td>\n",
       "      <td>False</td>\n",
       "      <td>False</td>\n",
       "      <td>False</td>\n",
       "      <td>None</td>\n",
       "      <td>1.0</td>\n",
       "      <td>0</td>\n",
       "      <td>B0003</td>\n",
       "      <td>-80.577366</td>\n",
       "      <td>28.561857</td>\n",
       "    </tr>\n",
       "    <tr>\n",
       "      <th>5</th>\n",
       "      <td>8</td>\n",
       "      <td>2012-05-22</td>\n",
       "      <td>Falcon 9</td>\n",
       "      <td>525.0</td>\n",
       "      <td>LEO</td>\n",
       "      <td>CCSFS SLC 40</td>\n",
       "      <td>None None</td>\n",
       "      <td>1</td>\n",
       "      <td>False</td>\n",
       "      <td>False</td>\n",
       "      <td>False</td>\n",
       "      <td>None</td>\n",
       "      <td>1.0</td>\n",
       "      <td>0</td>\n",
       "      <td>B0005</td>\n",
       "      <td>-80.577366</td>\n",
       "      <td>28.561857</td>\n",
       "    </tr>\n",
       "    <tr>\n",
       "      <th>6</th>\n",
       "      <td>10</td>\n",
       "      <td>2013-03-01</td>\n",
       "      <td>Falcon 9</td>\n",
       "      <td>677.0</td>\n",
       "      <td>ISS</td>\n",
       "      <td>CCSFS SLC 40</td>\n",
       "      <td>None None</td>\n",
       "      <td>1</td>\n",
       "      <td>False</td>\n",
       "      <td>False</td>\n",
       "      <td>False</td>\n",
       "      <td>None</td>\n",
       "      <td>1.0</td>\n",
       "      <td>0</td>\n",
       "      <td>B0007</td>\n",
       "      <td>-80.577366</td>\n",
       "      <td>28.561857</td>\n",
       "    </tr>\n",
       "    <tr>\n",
       "      <th>7</th>\n",
       "      <td>11</td>\n",
       "      <td>2013-09-29</td>\n",
       "      <td>Falcon 9</td>\n",
       "      <td>500.0</td>\n",
       "      <td>PO</td>\n",
       "      <td>VAFB SLC 4E</td>\n",
       "      <td>False Ocean</td>\n",
       "      <td>1</td>\n",
       "      <td>False</td>\n",
       "      <td>False</td>\n",
       "      <td>False</td>\n",
       "      <td>None</td>\n",
       "      <td>1.0</td>\n",
       "      <td>0</td>\n",
       "      <td>B1003</td>\n",
       "      <td>-120.610829</td>\n",
       "      <td>34.632093</td>\n",
       "    </tr>\n",
       "    <tr>\n",
       "      <th>8</th>\n",
       "      <td>12</td>\n",
       "      <td>2013-12-03</td>\n",
       "      <td>Falcon 9</td>\n",
       "      <td>3170.0</td>\n",
       "      <td>GTO</td>\n",
       "      <td>CCSFS SLC 40</td>\n",
       "      <td>None None</td>\n",
       "      <td>1</td>\n",
       "      <td>False</td>\n",
       "      <td>False</td>\n",
       "      <td>False</td>\n",
       "      <td>None</td>\n",
       "      <td>1.0</td>\n",
       "      <td>0</td>\n",
       "      <td>B1004</td>\n",
       "      <td>-80.577366</td>\n",
       "      <td>28.561857</td>\n",
       "    </tr>\n",
       "  </tbody>\n",
       "</table>\n",
       "</div>"
      ],
      "text/plain": [
       "   FlightNumber        Date BoosterVersion  PayloadMass Orbit    LaunchSite  \\\n",
       "4             6  2010-06-04       Falcon 9          NaN   LEO  CCSFS SLC 40   \n",
       "5             8  2012-05-22       Falcon 9        525.0   LEO  CCSFS SLC 40   \n",
       "6            10  2013-03-01       Falcon 9        677.0   ISS  CCSFS SLC 40   \n",
       "7            11  2013-09-29       Falcon 9        500.0    PO   VAFB SLC 4E   \n",
       "8            12  2013-12-03       Falcon 9       3170.0   GTO  CCSFS SLC 40   \n",
       "\n",
       "       Outcome  Flights  GridFins  Reused   Legs LandingPad  Block  \\\n",
       "4    None None        1     False   False  False       None    1.0   \n",
       "5    None None        1     False   False  False       None    1.0   \n",
       "6    None None        1     False   False  False       None    1.0   \n",
       "7  False Ocean        1     False   False  False       None    1.0   \n",
       "8    None None        1     False   False  False       None    1.0   \n",
       "\n",
       "   ReusedCount Serial   Longitude   Latitude  \n",
       "4            0  B0003  -80.577366  28.561857  \n",
       "5            0  B0005  -80.577366  28.561857  \n",
       "6            0  B0007  -80.577366  28.561857  \n",
       "7            0  B1003 -120.610829  34.632093  \n",
       "8            0  B1004  -80.577366  28.561857  "
      ]
     },
     "execution_count": 212,
     "metadata": {},
     "output_type": "execute_result"
    }
   ],
   "source": [
    "data_falcon9 = data[data['BoosterVersion'] != 'Falcon 1']\n",
    "data_falcon9.head()"
   ]
  },
  {
   "cell_type": "code",
   "execution_count": null,
   "metadata": {},
   "outputs": [],
   "source": [
    "# data_falcon9 = data[data['BoosterVersion'].str.contains('Falcon 9', case=False, na = False)]\n",
    "# data_falcon9.head()"
   ]
  },
  {
   "cell_type": "markdown",
   "id": "4c50de86-5bb6-4e78-b83a-dfcb770f41fe",
   "metadata": {},
   "source": [
    "Now that we have removed some values we should reset the FlgihtNumber column\n"
   ]
  },
  {
   "cell_type": "code",
   "execution_count": null,
   "metadata": {},
   "outputs": [
    {
     "data": {
      "text/html": [
       "<div>\n",
       "<style scoped>\n",
       "    .dataframe tbody tr th:only-of-type {\n",
       "        vertical-align: middle;\n",
       "    }\n",
       "\n",
       "    .dataframe tbody tr th {\n",
       "        vertical-align: top;\n",
       "    }\n",
       "\n",
       "    .dataframe thead th {\n",
       "        text-align: right;\n",
       "    }\n",
       "</style>\n",
       "<table border=\"1\" class=\"dataframe\">\n",
       "  <thead>\n",
       "    <tr style=\"text-align: right;\">\n",
       "      <th></th>\n",
       "      <th>FlightNumber</th>\n",
       "      <th>Date</th>\n",
       "      <th>BoosterVersion</th>\n",
       "      <th>PayloadMass</th>\n",
       "      <th>Orbit</th>\n",
       "      <th>LaunchSite</th>\n",
       "      <th>Outcome</th>\n",
       "      <th>Flights</th>\n",
       "      <th>GridFins</th>\n",
       "      <th>Reused</th>\n",
       "      <th>Legs</th>\n",
       "      <th>LandingPad</th>\n",
       "      <th>Block</th>\n",
       "      <th>ReusedCount</th>\n",
       "      <th>Serial</th>\n",
       "      <th>Longitude</th>\n",
       "      <th>Latitude</th>\n",
       "    </tr>\n",
       "  </thead>\n",
       "  <tbody>\n",
       "    <tr>\n",
       "      <th>4</th>\n",
       "      <td>1</td>\n",
       "      <td>2010-06-04</td>\n",
       "      <td>Falcon 9</td>\n",
       "      <td>NaN</td>\n",
       "      <td>LEO</td>\n",
       "      <td>CCSFS SLC 40</td>\n",
       "      <td>None None</td>\n",
       "      <td>1</td>\n",
       "      <td>False</td>\n",
       "      <td>False</td>\n",
       "      <td>False</td>\n",
       "      <td>None</td>\n",
       "      <td>1.0</td>\n",
       "      <td>0</td>\n",
       "      <td>B0003</td>\n",
       "      <td>-80.577366</td>\n",
       "      <td>28.561857</td>\n",
       "    </tr>\n",
       "    <tr>\n",
       "      <th>5</th>\n",
       "      <td>2</td>\n",
       "      <td>2012-05-22</td>\n",
       "      <td>Falcon 9</td>\n",
       "      <td>525.0</td>\n",
       "      <td>LEO</td>\n",
       "      <td>CCSFS SLC 40</td>\n",
       "      <td>None None</td>\n",
       "      <td>1</td>\n",
       "      <td>False</td>\n",
       "      <td>False</td>\n",
       "      <td>False</td>\n",
       "      <td>None</td>\n",
       "      <td>1.0</td>\n",
       "      <td>0</td>\n",
       "      <td>B0005</td>\n",
       "      <td>-80.577366</td>\n",
       "      <td>28.561857</td>\n",
       "    </tr>\n",
       "    <tr>\n",
       "      <th>6</th>\n",
       "      <td>3</td>\n",
       "      <td>2013-03-01</td>\n",
       "      <td>Falcon 9</td>\n",
       "      <td>677.0</td>\n",
       "      <td>ISS</td>\n",
       "      <td>CCSFS SLC 40</td>\n",
       "      <td>None None</td>\n",
       "      <td>1</td>\n",
       "      <td>False</td>\n",
       "      <td>False</td>\n",
       "      <td>False</td>\n",
       "      <td>None</td>\n",
       "      <td>1.0</td>\n",
       "      <td>0</td>\n",
       "      <td>B0007</td>\n",
       "      <td>-80.577366</td>\n",
       "      <td>28.561857</td>\n",
       "    </tr>\n",
       "    <tr>\n",
       "      <th>7</th>\n",
       "      <td>4</td>\n",
       "      <td>2013-09-29</td>\n",
       "      <td>Falcon 9</td>\n",
       "      <td>500.0</td>\n",
       "      <td>PO</td>\n",
       "      <td>VAFB SLC 4E</td>\n",
       "      <td>False Ocean</td>\n",
       "      <td>1</td>\n",
       "      <td>False</td>\n",
       "      <td>False</td>\n",
       "      <td>False</td>\n",
       "      <td>None</td>\n",
       "      <td>1.0</td>\n",
       "      <td>0</td>\n",
       "      <td>B1003</td>\n",
       "      <td>-120.610829</td>\n",
       "      <td>34.632093</td>\n",
       "    </tr>\n",
       "    <tr>\n",
       "      <th>8</th>\n",
       "      <td>5</td>\n",
       "      <td>2013-12-03</td>\n",
       "      <td>Falcon 9</td>\n",
       "      <td>3170.0</td>\n",
       "      <td>GTO</td>\n",
       "      <td>CCSFS SLC 40</td>\n",
       "      <td>None None</td>\n",
       "      <td>1</td>\n",
       "      <td>False</td>\n",
       "      <td>False</td>\n",
       "      <td>False</td>\n",
       "      <td>None</td>\n",
       "      <td>1.0</td>\n",
       "      <td>0</td>\n",
       "      <td>B1004</td>\n",
       "      <td>-80.577366</td>\n",
       "      <td>28.561857</td>\n",
       "    </tr>\n",
       "    <tr>\n",
       "      <th>...</th>\n",
       "      <td>...</td>\n",
       "      <td>...</td>\n",
       "      <td>...</td>\n",
       "      <td>...</td>\n",
       "      <td>...</td>\n",
       "      <td>...</td>\n",
       "      <td>...</td>\n",
       "      <td>...</td>\n",
       "      <td>...</td>\n",
       "      <td>...</td>\n",
       "      <td>...</td>\n",
       "      <td>...</td>\n",
       "      <td>...</td>\n",
       "      <td>...</td>\n",
       "      <td>...</td>\n",
       "      <td>...</td>\n",
       "      <td>...</td>\n",
       "    </tr>\n",
       "    <tr>\n",
       "      <th>89</th>\n",
       "      <td>86</td>\n",
       "      <td>2020-09-03</td>\n",
       "      <td>Falcon 9</td>\n",
       "      <td>15600.0</td>\n",
       "      <td>VLEO</td>\n",
       "      <td>KSC LC 39A</td>\n",
       "      <td>True ASDS</td>\n",
       "      <td>2</td>\n",
       "      <td>True</td>\n",
       "      <td>True</td>\n",
       "      <td>True</td>\n",
       "      <td>5e9e3032383ecb6bb234e7ca</td>\n",
       "      <td>5.0</td>\n",
       "      <td>12</td>\n",
       "      <td>B1060</td>\n",
       "      <td>-80.603956</td>\n",
       "      <td>28.608058</td>\n",
       "    </tr>\n",
       "    <tr>\n",
       "      <th>90</th>\n",
       "      <td>87</td>\n",
       "      <td>2020-10-06</td>\n",
       "      <td>Falcon 9</td>\n",
       "      <td>15600.0</td>\n",
       "      <td>VLEO</td>\n",
       "      <td>KSC LC 39A</td>\n",
       "      <td>True ASDS</td>\n",
       "      <td>3</td>\n",
       "      <td>True</td>\n",
       "      <td>True</td>\n",
       "      <td>True</td>\n",
       "      <td>5e9e3032383ecb6bb234e7ca</td>\n",
       "      <td>5.0</td>\n",
       "      <td>13</td>\n",
       "      <td>B1058</td>\n",
       "      <td>-80.603956</td>\n",
       "      <td>28.608058</td>\n",
       "    </tr>\n",
       "    <tr>\n",
       "      <th>91</th>\n",
       "      <td>88</td>\n",
       "      <td>2020-10-18</td>\n",
       "      <td>Falcon 9</td>\n",
       "      <td>15600.0</td>\n",
       "      <td>VLEO</td>\n",
       "      <td>KSC LC 39A</td>\n",
       "      <td>True ASDS</td>\n",
       "      <td>6</td>\n",
       "      <td>True</td>\n",
       "      <td>True</td>\n",
       "      <td>True</td>\n",
       "      <td>5e9e3032383ecb6bb234e7ca</td>\n",
       "      <td>5.0</td>\n",
       "      <td>12</td>\n",
       "      <td>B1051</td>\n",
       "      <td>-80.603956</td>\n",
       "      <td>28.608058</td>\n",
       "    </tr>\n",
       "    <tr>\n",
       "      <th>92</th>\n",
       "      <td>89</td>\n",
       "      <td>2020-10-24</td>\n",
       "      <td>Falcon 9</td>\n",
       "      <td>15600.0</td>\n",
       "      <td>VLEO</td>\n",
       "      <td>CCSFS SLC 40</td>\n",
       "      <td>True ASDS</td>\n",
       "      <td>3</td>\n",
       "      <td>True</td>\n",
       "      <td>True</td>\n",
       "      <td>True</td>\n",
       "      <td>5e9e3033383ecbb9e534e7cc</td>\n",
       "      <td>5.0</td>\n",
       "      <td>12</td>\n",
       "      <td>B1060</td>\n",
       "      <td>-80.577366</td>\n",
       "      <td>28.561857</td>\n",
       "    </tr>\n",
       "    <tr>\n",
       "      <th>93</th>\n",
       "      <td>90</td>\n",
       "      <td>2020-11-05</td>\n",
       "      <td>Falcon 9</td>\n",
       "      <td>3681.0</td>\n",
       "      <td>MEO</td>\n",
       "      <td>CCSFS SLC 40</td>\n",
       "      <td>True ASDS</td>\n",
       "      <td>1</td>\n",
       "      <td>True</td>\n",
       "      <td>False</td>\n",
       "      <td>True</td>\n",
       "      <td>5e9e3032383ecb6bb234e7ca</td>\n",
       "      <td>5.0</td>\n",
       "      <td>8</td>\n",
       "      <td>B1062</td>\n",
       "      <td>-80.577366</td>\n",
       "      <td>28.561857</td>\n",
       "    </tr>\n",
       "  </tbody>\n",
       "</table>\n",
       "<p>90 rows × 17 columns</p>\n",
       "</div>"
      ],
      "text/plain": [
       "    FlightNumber        Date BoosterVersion  PayloadMass Orbit    LaunchSite  \\\n",
       "4              1  2010-06-04       Falcon 9          NaN   LEO  CCSFS SLC 40   \n",
       "5              2  2012-05-22       Falcon 9        525.0   LEO  CCSFS SLC 40   \n",
       "6              3  2013-03-01       Falcon 9        677.0   ISS  CCSFS SLC 40   \n",
       "7              4  2013-09-29       Falcon 9        500.0    PO   VAFB SLC 4E   \n",
       "8              5  2013-12-03       Falcon 9       3170.0   GTO  CCSFS SLC 40   \n",
       "..           ...         ...            ...          ...   ...           ...   \n",
       "89            86  2020-09-03       Falcon 9      15600.0  VLEO    KSC LC 39A   \n",
       "90            87  2020-10-06       Falcon 9      15600.0  VLEO    KSC LC 39A   \n",
       "91            88  2020-10-18       Falcon 9      15600.0  VLEO    KSC LC 39A   \n",
       "92            89  2020-10-24       Falcon 9      15600.0  VLEO  CCSFS SLC 40   \n",
       "93            90  2020-11-05       Falcon 9       3681.0   MEO  CCSFS SLC 40   \n",
       "\n",
       "        Outcome  Flights  GridFins  Reused   Legs                LandingPad  \\\n",
       "4     None None        1     False   False  False                      None   \n",
       "5     None None        1     False   False  False                      None   \n",
       "6     None None        1     False   False  False                      None   \n",
       "7   False Ocean        1     False   False  False                      None   \n",
       "8     None None        1     False   False  False                      None   \n",
       "..          ...      ...       ...     ...    ...                       ...   \n",
       "89    True ASDS        2      True    True   True  5e9e3032383ecb6bb234e7ca   \n",
       "90    True ASDS        3      True    True   True  5e9e3032383ecb6bb234e7ca   \n",
       "91    True ASDS        6      True    True   True  5e9e3032383ecb6bb234e7ca   \n",
       "92    True ASDS        3      True    True   True  5e9e3033383ecbb9e534e7cc   \n",
       "93    True ASDS        1      True   False   True  5e9e3032383ecb6bb234e7ca   \n",
       "\n",
       "    Block  ReusedCount Serial   Longitude   Latitude  \n",
       "4     1.0            0  B0003  -80.577366  28.561857  \n",
       "5     1.0            0  B0005  -80.577366  28.561857  \n",
       "6     1.0            0  B0007  -80.577366  28.561857  \n",
       "7     1.0            0  B1003 -120.610829  34.632093  \n",
       "8     1.0            0  B1004  -80.577366  28.561857  \n",
       "..    ...          ...    ...         ...        ...  \n",
       "89    5.0           12  B1060  -80.603956  28.608058  \n",
       "90    5.0           13  B1058  -80.603956  28.608058  \n",
       "91    5.0           12  B1051  -80.603956  28.608058  \n",
       "92    5.0           12  B1060  -80.577366  28.561857  \n",
       "93    5.0            8  B1062  -80.577366  28.561857  \n",
       "\n",
       "[90 rows x 17 columns]"
      ]
     },
     "execution_count": 214,
     "metadata": {},
     "output_type": "execute_result"
    }
   ],
   "source": [
    "data_falcon9.loc[:, 'FlightNumber'] = list(range(1, data_falcon9.shape[0] + 1))\n",
    "data_falcon9"
   ]
  },
  {
   "cell_type": "markdown",
   "id": "8d296ca1-7dc1-4743-8fca-1295a9471e8e",
   "metadata": {},
   "source": [
    "## Data Wrangling\n"
   ]
  },
  {
   "cell_type": "markdown",
   "id": "30460da7-0fa0-46ca-b648-7b971d9c2bba",
   "metadata": {},
   "source": [
    "We can see below that some of the rows are missing values in our dataset.\n"
   ]
  },
  {
   "cell_type": "code",
   "execution_count": null,
   "metadata": {},
   "outputs": [
    {
     "data": {
      "text/plain": [
       "FlightNumber       0\n",
       "Date               0\n",
       "BoosterVersion     0\n",
       "PayloadMass        5\n",
       "Orbit              0\n",
       "LaunchSite         0\n",
       "Outcome            0\n",
       "Flights            0\n",
       "GridFins           0\n",
       "Reused             0\n",
       "Legs               0\n",
       "LandingPad        26\n",
       "Block              0\n",
       "ReusedCount        0\n",
       "Serial             0\n",
       "Longitude          0\n",
       "Latitude           0\n",
       "dtype: int64"
      ]
     },
     "execution_count": 215,
     "metadata": {},
     "output_type": "execute_result"
    }
   ],
   "source": [
    "data_falcon9.isnull().sum()"
   ]
  },
  {
   "cell_type": "markdown",
   "id": "95ce497b-5f6b-4e50-b4ac-85a1b4543aae",
   "metadata": {},
   "source": [
    "Before we can continue we must deal with these missing values. The <code>LandingPad</code> column will retain None values to represent when landing pads were not used.\n"
   ]
  },
  {
   "cell_type": "markdown",
   "id": "652187eb-8c0e-47e4-ac6c-c470a8156221",
   "metadata": {},
   "source": [
    "### Task 3: Dealing with Missing Values\n"
   ]
  },
  {
   "cell_type": "markdown",
   "id": "0ff28f54-51c5-4759-9efe-914298f7010a",
   "metadata": {},
   "source": [
    "Calculate below the mean for the <code>PayloadMass</code> using the <code>.mean()</code>. Then use the mean and the <code>.replace()</code> function to replace `np.nan` values in the data with the mean you calculated.\n"
   ]
  },
  {
   "cell_type": "code",
   "execution_count": null,
   "id": "c6e556e9-ca13-4ea2-a29d-54b0f74cedb7",
   "metadata": {},
   "outputs": [],
   "source": [
    "# Calculate the mean value of PayloadMass column\n",
    "payload_mean = data_falcon9['PayloadMass'].mean()\n",
    "# Replace the np.nan values with its mean value\n",
    "data_falcon9.loc[:,'PayloadMass'] = data_falcon9['PayloadMass'].replace(np.nan, payload_mean)\n",
    "#data_falcon9.loc[:,'PayloadMass'] = data_falcon9['PayloadMass'].fillna(payload_mean)"
   ]
  },
  {
   "cell_type": "markdown",
   "id": "17c4b783-5e5f-4efc-990e-1a834c228ccc",
   "metadata": {},
   "source": [
    "You should see the number of missing values of the <code>PayLoadMass</code> change to zero.\n"
   ]
  },
  {
   "cell_type": "code",
   "execution_count": null,
   "metadata": {},
   "outputs": [
    {
     "data": {
      "text/plain": [
       "FlightNumber       0\n",
       "Date               0\n",
       "BoosterVersion     0\n",
       "PayloadMass        0\n",
       "Orbit              0\n",
       "LaunchSite         0\n",
       "Outcome            0\n",
       "Flights            0\n",
       "GridFins           0\n",
       "Reused             0\n",
       "Legs               0\n",
       "LandingPad        26\n",
       "Block              0\n",
       "ReusedCount        0\n",
       "Serial             0\n",
       "Longitude          0\n",
       "Latitude           0\n",
       "dtype: int64"
      ]
     },
     "execution_count": 217,
     "metadata": {},
     "output_type": "execute_result"
    }
   ],
   "source": [
    "data_falcon9.isnull().sum()"
   ]
  },
  {
   "cell_type": "markdown",
   "id": "1d3fdaa0-2298-4ac4-bf88-7a71ba12a2b3",
   "metadata": {},
   "source": [
    "Now we should have no missing values in our dataset except for in <code>LandingPad</code>.\n"
   ]
  },
  {
   "cell_type": "markdown",
   "id": "39104db4-c482-486d-b252-9a11af964824",
   "metadata": {},
   "source": [
    "We can now export it to a <b>CSV</b> for the next section,but to make the answers consistent, in the next lab we will provide data in a pre-selected date range. \n"
   ]
  },
  {
   "cell_type": "markdown",
   "id": "41c77e3a-29c9-4962-a2d8-d2a463822e2f",
   "metadata": {},
   "source": [
    "<code>data_falcon9.to_csv('dataset_part_1.csv', index=False)</code>\n"
   ]
  },
  {
   "cell_type": "code",
   "execution_count": 325,
   "metadata": {},
   "outputs": [],
   "source": [
    "data_falcon9.to_csv('dataset_part_1.csv', index=False)"
   ]
  }
 ],
 "metadata": {
  "kernelspec": {
   "display_name": "data_analysis_portfolio",
   "language": "python",
   "name": "python3"
  },
  "language_info": {
   "codemirror_mode": {
    "name": "ipython",
    "version": 3
   },
   "file_extension": ".py",
   "mimetype": "text/x-python",
   "name": "python",
   "nbconvert_exporter": "python",
   "pygments_lexer": "ipython3",
   "version": "3.10.16"
  },
  "prev_pub_hash": "cfee22b4dde0aea3f6975ab0cc9117bca69b0249e1ed957e749a7bad44dc5f5b"
 },
 "nbformat": 4,
 "nbformat_minor": 4
}
