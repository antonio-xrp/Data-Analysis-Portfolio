{
 "cells": [
  {
   "cell_type": "code",
   "execution_count": 27,
   "metadata": {},
   "outputs": [],
   "source": [
    "# LSTM\n",
    "import yfinance as yf\n",
    "import numpy as np\n",
    "import pandas as pd\n",
    "import matplotlib.pyplot as plt\n",
    "from sklearn.preprocessing import MinMaxScaler\n",
    "from tensorflow.keras.models import Sequential\n",
    "from tensorflow.keras.layers import LSTM, Dense, Dropout\n",
    "from sklearn.metrics import mean_squared_error, mean_absolute_error, mean_absolute_percentage_error"
   ]
  },
  {
   "cell_type": "code",
   "execution_count": 28,
   "metadata": {},
   "outputs": [
    {
     "name": "stderr",
     "output_type": "stream",
     "text": [
      "[*********************100%***********************]  1 of 1 completed\n"
     ]
    }
   ],
   "source": [
    "# Descargar los datos del Nasdaq\n",
    "df = yf.download('NQ=F', start='2020-01-01', end='2023-01-01')"
   ]
  },
  {
   "cell_type": "code",
   "execution_count": 29,
   "metadata": {},
   "outputs": [],
   "source": [
    "# Normalizar los datos utilizando MinMaxScaler\n",
    "scaler = MinMaxScaler(feature_range=(0,1))\n",
    "df_scaled = scaler.fit_transform(df[['Close']])"
   ]
  },
  {
   "cell_type": "code",
   "execution_count": 30,
   "metadata": {},
   "outputs": [],
   "source": [
    "# Preparar los datos para el modelo LSTM\n",
    "X_train = []\n",
    "y_train = []\n",
    "window_size = 60 # Usamos una ventana de 60 dias"
   ]
  },
  {
   "cell_type": "code",
   "execution_count": 31,
   "metadata": {},
   "outputs": [],
   "source": [
    "for i in range(window_size, len(df_scaled)):\n",
    "    X_train.append(df_scaled[i-window_size:i,0])\n",
    "    y_train.append(df_scaled[i,0])\n",
    "\n",
    "X_train, y_train = np.array(X_train), np.array(y_train)\n",
    "X_train = np.reshape(X_train, (X_train.shape[0], X_train.shape[1], 1))"
   ]
  },
  {
   "cell_type": "code",
   "execution_count": 32,
   "metadata": {},
   "outputs": [
    {
     "name": "stderr",
     "output_type": "stream",
     "text": [
      "2025-01-18 13:04:43.618958: I tensorflow/core/common_runtime/executor.cc:1197] [/device:CPU:0] (DEBUG INFO) Executor start aborting (this does not indicate an error and you can ignore this message): INVALID_ARGUMENT: You must feed a value for placeholder tensor 'gradients/split_2_grad/concat/split_2/split_dim' with dtype int32\n",
      "\t [[{{node gradients/split_2_grad/concat/split_2/split_dim}}]]\n",
      "2025-01-18 13:04:43.622896: I tensorflow/core/common_runtime/executor.cc:1197] [/device:CPU:0] (DEBUG INFO) Executor start aborting (this does not indicate an error and you can ignore this message): INVALID_ARGUMENT: You must feed a value for placeholder tensor 'gradients/split_grad/concat/split/split_dim' with dtype int32\n",
      "\t [[{{node gradients/split_grad/concat/split/split_dim}}]]\n",
      "2025-01-18 13:04:43.625633: I tensorflow/core/common_runtime/executor.cc:1197] [/device:CPU:0] (DEBUG INFO) Executor start aborting (this does not indicate an error and you can ignore this message): INVALID_ARGUMENT: You must feed a value for placeholder tensor 'gradients/split_1_grad/concat/split_1/split_dim' with dtype int32\n",
      "\t [[{{node gradients/split_1_grad/concat/split_1/split_dim}}]]\n",
      "2025-01-18 13:04:43.896015: I tensorflow/core/common_runtime/executor.cc:1197] [/device:CPU:0] (DEBUG INFO) Executor start aborting (this does not indicate an error and you can ignore this message): INVALID_ARGUMENT: You must feed a value for placeholder tensor 'gradients/split_2_grad/concat/split_2/split_dim' with dtype int32\n",
      "\t [[{{node gradients/split_2_grad/concat/split_2/split_dim}}]]\n",
      "2025-01-18 13:04:43.899026: I tensorflow/core/common_runtime/executor.cc:1197] [/device:CPU:0] (DEBUG INFO) Executor start aborting (this does not indicate an error and you can ignore this message): INVALID_ARGUMENT: You must feed a value for placeholder tensor 'gradients/split_grad/concat/split/split_dim' with dtype int32\n",
      "\t [[{{node gradients/split_grad/concat/split/split_dim}}]]\n",
      "2025-01-18 13:04:43.901740: I tensorflow/core/common_runtime/executor.cc:1197] [/device:CPU:0] (DEBUG INFO) Executor start aborting (this does not indicate an error and you can ignore this message): INVALID_ARGUMENT: You must feed a value for placeholder tensor 'gradients/split_1_grad/concat/split_1/split_dim' with dtype int32\n",
      "\t [[{{node gradients/split_1_grad/concat/split_1/split_dim}}]]\n"
     ]
    }
   ],
   "source": [
    "# Crear el modelo LSTM\n",
    "model = Sequential()\n",
    "\n",
    "model.add(LSTM(units=50, return_sequences=True, input_shape=(X_train.shape[1], 1)))\n",
    "model.add(Dropout(0.2))\n",
    "model.add(LSTM(units=50, return_sequences=False))\n",
    "model.add(Dropout(0.2))\n",
    "model.add(Dense(units=1)) # Capa de salida con una sola unidad (precio predicho)\n",
    "\n",
    "model.compile(optimizer='adam', loss='mean_squared_error')"
   ]
  },
  {
   "cell_type": "code",
   "execution_count": 33,
   "metadata": {},
   "outputs": [
    {
     "name": "stdout",
     "output_type": "stream",
     "text": [
      "Epoch 1/50\n"
     ]
    },
    {
     "name": "stderr",
     "output_type": "stream",
     "text": [
      "2025-01-18 13:04:44.358711: I tensorflow/core/common_runtime/executor.cc:1197] [/device:CPU:0] (DEBUG INFO) Executor start aborting (this does not indicate an error and you can ignore this message): INVALID_ARGUMENT: You must feed a value for placeholder tensor 'gradients/split_2_grad/concat/split_2/split_dim' with dtype int32\n",
      "\t [[{{node gradients/split_2_grad/concat/split_2/split_dim}}]]\n",
      "2025-01-18 13:04:44.360762: I tensorflow/core/common_runtime/executor.cc:1197] [/device:CPU:0] (DEBUG INFO) Executor start aborting (this does not indicate an error and you can ignore this message): INVALID_ARGUMENT: You must feed a value for placeholder tensor 'gradients/split_grad/concat/split/split_dim' with dtype int32\n",
      "\t [[{{node gradients/split_grad/concat/split/split_dim}}]]\n",
      "2025-01-18 13:04:44.363219: I tensorflow/core/common_runtime/executor.cc:1197] [/device:CPU:0] (DEBUG INFO) Executor start aborting (this does not indicate an error and you can ignore this message): INVALID_ARGUMENT: You must feed a value for placeholder tensor 'gradients/split_1_grad/concat/split_1/split_dim' with dtype int32\n",
      "\t [[{{node gradients/split_1_grad/concat/split_1/split_dim}}]]\n",
      "2025-01-18 13:04:44.903445: I tensorflow/core/common_runtime/executor.cc:1197] [/device:CPU:0] (DEBUG INFO) Executor start aborting (this does not indicate an error and you can ignore this message): INVALID_ARGUMENT: You must feed a value for placeholder tensor 'gradients/split_2_grad/concat/split_2/split_dim' with dtype int32\n",
      "\t [[{{node gradients/split_2_grad/concat/split_2/split_dim}}]]\n",
      "2025-01-18 13:04:44.906197: I tensorflow/core/common_runtime/executor.cc:1197] [/device:CPU:0] (DEBUG INFO) Executor start aborting (this does not indicate an error and you can ignore this message): INVALID_ARGUMENT: You must feed a value for placeholder tensor 'gradients/split_grad/concat/split/split_dim' with dtype int32\n",
      "\t [[{{node gradients/split_grad/concat/split/split_dim}}]]\n",
      "2025-01-18 13:04:44.908142: I tensorflow/core/common_runtime/executor.cc:1197] [/device:CPU:0] (DEBUG INFO) Executor start aborting (this does not indicate an error and you can ignore this message): INVALID_ARGUMENT: You must feed a value for placeholder tensor 'gradients/split_1_grad/concat/split_1/split_dim' with dtype int32\n",
      "\t [[{{node gradients/split_1_grad/concat/split_1/split_dim}}]]\n",
      "2025-01-18 13:04:46.318380: I tensorflow/core/common_runtime/executor.cc:1197] [/device:CPU:0] (DEBUG INFO) Executor start aborting (this does not indicate an error and you can ignore this message): INVALID_ARGUMENT: You must feed a value for placeholder tensor 'gradients/split_2_grad/concat/split_2/split_dim' with dtype int32\n",
      "\t [[{{node gradients/split_2_grad/concat/split_2/split_dim}}]]\n",
      "2025-01-18 13:04:46.320704: I tensorflow/core/common_runtime/executor.cc:1197] [/device:CPU:0] (DEBUG INFO) Executor start aborting (this does not indicate an error and you can ignore this message): INVALID_ARGUMENT: You must feed a value for placeholder tensor 'gradients/split_grad/concat/split/split_dim' with dtype int32\n",
      "\t [[{{node gradients/split_grad/concat/split/split_dim}}]]\n",
      "2025-01-18 13:04:46.323147: I tensorflow/core/common_runtime/executor.cc:1197] [/device:CPU:0] (DEBUG INFO) Executor start aborting (this does not indicate an error and you can ignore this message): INVALID_ARGUMENT: You must feed a value for placeholder tensor 'gradients/split_1_grad/concat/split_1/split_dim' with dtype int32\n",
      "\t [[{{node gradients/split_1_grad/concat/split_1/split_dim}}]]\n",
      "2025-01-18 13:04:46.768956: I tensorflow/core/common_runtime/executor.cc:1197] [/device:CPU:0] (DEBUG INFO) Executor start aborting (this does not indicate an error and you can ignore this message): INVALID_ARGUMENT: You must feed a value for placeholder tensor 'gradients/split_2_grad/concat/split_2/split_dim' with dtype int32\n",
      "\t [[{{node gradients/split_2_grad/concat/split_2/split_dim}}]]\n",
      "2025-01-18 13:04:46.773545: I tensorflow/core/common_runtime/executor.cc:1197] [/device:CPU:0] (DEBUG INFO) Executor start aborting (this does not indicate an error and you can ignore this message): INVALID_ARGUMENT: You must feed a value for placeholder tensor 'gradients/split_grad/concat/split/split_dim' with dtype int32\n",
      "\t [[{{node gradients/split_grad/concat/split/split_dim}}]]\n",
      "2025-01-18 13:04:46.776850: I tensorflow/core/common_runtime/executor.cc:1197] [/device:CPU:0] (DEBUG INFO) Executor start aborting (this does not indicate an error and you can ignore this message): INVALID_ARGUMENT: You must feed a value for placeholder tensor 'gradients/split_1_grad/concat/split_1/split_dim' with dtype int32\n",
      "\t [[{{node gradients/split_1_grad/concat/split_1/split_dim}}]]\n"
     ]
    },
    {
     "name": "stdout",
     "output_type": "stream",
     "text": [
      "22/22 [==============================] - 8s 118ms/step - loss: 0.0959\n",
      "Epoch 2/50\n",
      "22/22 [==============================] - 2s 113ms/step - loss: 0.0128\n",
      "Epoch 3/50\n",
      "22/22 [==============================] - 4s 166ms/step - loss: 0.0096\n",
      "Epoch 4/50\n",
      "22/22 [==============================] - 3s 154ms/step - loss: 0.0074\n",
      "Epoch 5/50\n",
      "22/22 [==============================] - 4s 185ms/step - loss: 0.0071\n",
      "Epoch 6/50\n",
      "22/22 [==============================] - 4s 176ms/step - loss: 0.0056\n",
      "Epoch 7/50\n",
      "22/22 [==============================] - 3s 135ms/step - loss: 0.0062\n",
      "Epoch 8/50\n",
      "22/22 [==============================] - 4s 165ms/step - loss: 0.0059\n",
      "Epoch 9/50\n",
      "22/22 [==============================] - 3s 126ms/step - loss: 0.0062\n",
      "Epoch 10/50\n",
      "22/22 [==============================] - 3s 148ms/step - loss: 0.0057\n",
      "Epoch 11/50\n",
      "22/22 [==============================] - 3s 149ms/step - loss: 0.0057\n",
      "Epoch 12/50\n",
      "22/22 [==============================] - 3s 141ms/step - loss: 0.0054\n",
      "Epoch 13/50\n",
      "22/22 [==============================] - 4s 173ms/step - loss: 0.0059\n",
      "Epoch 14/50\n",
      "22/22 [==============================] - 4s 197ms/step - loss: 0.0048\n",
      "Epoch 15/50\n",
      "22/22 [==============================] - 8s 382ms/step - loss: 0.0046\n",
      "Epoch 16/50\n",
      "22/22 [==============================] - 5s 232ms/step - loss: 0.0050\n",
      "Epoch 17/50\n",
      "22/22 [==============================] - 5s 241ms/step - loss: 0.0045\n",
      "Epoch 18/50\n",
      "22/22 [==============================] - 3s 156ms/step - loss: 0.0040\n",
      "Epoch 19/50\n",
      "22/22 [==============================] - 3s 149ms/step - loss: 0.0047\n",
      "Epoch 20/50\n",
      "22/22 [==============================] - 5s 239ms/step - loss: 0.0041\n",
      "Epoch 21/50\n",
      "22/22 [==============================] - 4s 160ms/step - loss: 0.0052\n",
      "Epoch 22/50\n",
      "22/22 [==============================] - 3s 152ms/step - loss: 0.0042\n",
      "Epoch 23/50\n",
      "22/22 [==============================] - 4s 171ms/step - loss: 0.0045\n",
      "Epoch 24/50\n",
      "22/22 [==============================] - 5s 209ms/step - loss: 0.0043\n",
      "Epoch 25/50\n",
      "22/22 [==============================] - 4s 172ms/step - loss: 0.0045\n",
      "Epoch 26/50\n",
      "22/22 [==============================] - 4s 176ms/step - loss: 0.0043\n",
      "Epoch 27/50\n",
      "22/22 [==============================] - 4s 167ms/step - loss: 0.0043\n",
      "Epoch 28/50\n",
      "22/22 [==============================] - 4s 173ms/step - loss: 0.0040\n",
      "Epoch 29/50\n",
      "22/22 [==============================] - 4s 193ms/step - loss: 0.0040\n",
      "Epoch 30/50\n",
      "22/22 [==============================] - 4s 168ms/step - loss: 0.0041\n",
      "Epoch 31/50\n",
      "22/22 [==============================] - 5s 221ms/step - loss: 0.0041\n",
      "Epoch 32/50\n",
      "22/22 [==============================] - 3s 144ms/step - loss: 0.0041\n",
      "Epoch 33/50\n",
      "22/22 [==============================] - 2s 109ms/step - loss: 0.0042\n",
      "Epoch 34/50\n",
      "22/22 [==============================] - 5s 217ms/step - loss: 0.0040\n",
      "Epoch 35/50\n",
      "22/22 [==============================] - 4s 177ms/step - loss: 0.0040\n",
      "Epoch 36/50\n",
      "22/22 [==============================] - 3s 134ms/step - loss: 0.0038\n",
      "Epoch 37/50\n",
      "22/22 [==============================] - 4s 200ms/step - loss: 0.0038\n",
      "Epoch 38/50\n",
      "22/22 [==============================] - 3s 139ms/step - loss: 0.0043\n",
      "Epoch 39/50\n",
      "22/22 [==============================] - 6s 267ms/step - loss: 0.0035\n",
      "Epoch 40/50\n",
      "22/22 [==============================] - 4s 158ms/step - loss: 0.0036\n",
      "Epoch 41/50\n",
      "22/22 [==============================] - 2s 89ms/step - loss: 0.0036\n",
      "Epoch 42/50\n",
      "22/22 [==============================] - 3s 114ms/step - loss: 0.0034\n",
      "Epoch 43/50\n",
      "22/22 [==============================] - 3s 130ms/step - loss: 0.0036\n",
      "Epoch 44/50\n",
      "22/22 [==============================] - 2s 103ms/step - loss: 0.0039\n",
      "Epoch 45/50\n",
      "22/22 [==============================] - 2s 96ms/step - loss: 0.0033\n",
      "Epoch 46/50\n",
      "22/22 [==============================] - 3s 121ms/step - loss: 0.0039\n",
      "Epoch 47/50\n",
      "22/22 [==============================] - 2s 88ms/step - loss: 0.0032\n",
      "Epoch 48/50\n",
      "22/22 [==============================] - 2s 108ms/step - loss: 0.0039\n",
      "Epoch 49/50\n",
      "22/22 [==============================] - 3s 115ms/step - loss: 0.0034\n",
      "Epoch 50/50\n",
      "22/22 [==============================] - 3s 127ms/step - loss: 0.0034\n"
     ]
    },
    {
     "data": {
      "text/plain": [
       "<keras.callbacks.History at 0x7f19a9a5eef0>"
      ]
     },
     "execution_count": 33,
     "metadata": {},
     "output_type": "execute_result"
    }
   ],
   "source": [
    "# Entrenar el modelo\n",
    "model.fit(X_train, y_train, epochs=50, batch_size=32)"
   ]
  },
  {
   "cell_type": "code",
   "execution_count": 34,
   "metadata": {},
   "outputs": [
    {
     "name": "stderr",
     "output_type": "stream",
     "text": [
      "[*********************100%***********************]  1 of 1 completed"
     ]
    },
    {
     "name": "stderr",
     "output_type": "stream",
     "text": [
      "\n"
     ]
    }
   ],
   "source": [
    "# Hacer predicciones sobre nuevos datos\n",
    "df_test = yf.download('NQ=F', start='2023-01-02', end='2024-01-01')\n",
    "df_total = pd.concat((df['Close'], df_test['Close']), axis=0)\n",
    "inputs = df_total[len(df_total) - len(df_test) - window_size:].values\n",
    "inputs = inputs.reshape(-1,1)\n",
    "inputs = scaler.transform(inputs)"
   ]
  },
  {
   "cell_type": "code",
   "execution_count": 35,
   "metadata": {},
   "outputs": [],
   "source": [
    "X_test = []\n",
    "for i in range(window_size, len(inputs)):\n",
    "    X_test.append(inputs[i-window_size:i, 0])\n",
    "\n",
    "X_test = np.array(X_test)\n",
    "X_test = np.reshape(X_test, (X_test.shape[0], X_test.shape[1], 1))"
   ]
  },
  {
   "cell_type": "code",
   "execution_count": 36,
   "metadata": {},
   "outputs": [
    {
     "name": "stderr",
     "output_type": "stream",
     "text": [
      "2025-01-18 13:07:50.508714: I tensorflow/core/common_runtime/executor.cc:1197] [/device:CPU:0] (DEBUG INFO) Executor start aborting (this does not indicate an error and you can ignore this message): INVALID_ARGUMENT: You must feed a value for placeholder tensor 'gradients/split_2_grad/concat/split_2/split_dim' with dtype int32\n",
      "\t [[{{node gradients/split_2_grad/concat/split_2/split_dim}}]]\n",
      "2025-01-18 13:07:50.511383: I tensorflow/core/common_runtime/executor.cc:1197] [/device:CPU:0] (DEBUG INFO) Executor start aborting (this does not indicate an error and you can ignore this message): INVALID_ARGUMENT: You must feed a value for placeholder tensor 'gradients/split_grad/concat/split/split_dim' with dtype int32\n",
      "\t [[{{node gradients/split_grad/concat/split/split_dim}}]]\n",
      "2025-01-18 13:07:50.513579: I tensorflow/core/common_runtime/executor.cc:1197] [/device:CPU:0] (DEBUG INFO) Executor start aborting (this does not indicate an error and you can ignore this message): INVALID_ARGUMENT: You must feed a value for placeholder tensor 'gradients/split_1_grad/concat/split_1/split_dim' with dtype int32\n",
      "\t [[{{node gradients/split_1_grad/concat/split_1/split_dim}}]]\n",
      "2025-01-18 13:07:50.812127: I tensorflow/core/common_runtime/executor.cc:1197] [/device:CPU:0] (DEBUG INFO) Executor start aborting (this does not indicate an error and you can ignore this message): INVALID_ARGUMENT: You must feed a value for placeholder tensor 'gradients/split_2_grad/concat/split_2/split_dim' with dtype int32\n",
      "\t [[{{node gradients/split_2_grad/concat/split_2/split_dim}}]]\n",
      "2025-01-18 13:07:50.814004: I tensorflow/core/common_runtime/executor.cc:1197] [/device:CPU:0] (DEBUG INFO) Executor start aborting (this does not indicate an error and you can ignore this message): INVALID_ARGUMENT: You must feed a value for placeholder tensor 'gradients/split_grad/concat/split/split_dim' with dtype int32\n",
      "\t [[{{node gradients/split_grad/concat/split/split_dim}}]]\n",
      "2025-01-18 13:07:50.815408: I tensorflow/core/common_runtime/executor.cc:1197] [/device:CPU:0] (DEBUG INFO) Executor start aborting (this does not indicate an error and you can ignore this message): INVALID_ARGUMENT: You must feed a value for placeholder tensor 'gradients/split_1_grad/concat/split_1/split_dim' with dtype int32\n",
      "\t [[{{node gradients/split_1_grad/concat/split_1/split_dim}}]]\n"
     ]
    },
    {
     "name": "stdout",
     "output_type": "stream",
     "text": [
      "8/8 [==============================] - 1s 57ms/step\n"
     ]
    }
   ],
   "source": [
    "# Predecir los precios\n",
    "predicted_price = model.predict(X_test)\n",
    "predicted_price = scaler.inverse_transform(predicted_price)"
   ]
  },
  {
   "cell_type": "code",
   "execution_count": 37,
   "metadata": {},
   "outputs": [
    {
     "data": {
      "image/png": "[encoded data removed]",
      "text/plain": [
       "<Figure size 640x480 with 1 Axes>"
      ]
     },
     "metadata": {},
     "output_type": "display_data"
    }
   ],
   "source": [
    "# Graficar los resultados\n",
    "\n",
    "plt.plot(df_test['Close'].values, color='blue', label='Precio Real')\n",
    "plt.plot(predicted_price, color='red', label='Precio Predicho por LSTM')\n",
    "plt.title('Predicción de precio usando LSTM')\n",
    "plt.xlabel('Fecha')\n",
    "plt.ylabel('Precio de Cierre')\n",
    "plt.legend()\n",
    "plt.show()"
   ]
  },
  {
   "cell_type": "code",
   "execution_count": 38,
   "metadata": {},
   "outputs": [],
   "source": [
    "# Calcular RMSE\n",
    "rmse = np.sqrt(mean_squared_error(df_test['Close'].values, predicted_price))"
   ]
  },
  {
   "cell_type": "code",
   "execution_count": 39,
   "metadata": {},
   "outputs": [],
   "source": [
    "# Calcular MAE\n",
    "mae = mean_absolute_error(df_test['Close'].values, predicted_price)"
   ]
  },
  {
   "cell_type": "code",
   "execution_count": 40,
   "metadata": {},
   "outputs": [],
   "source": [
    "# Calcular MAPE\n",
    "mape = mean_absolute_percentage_error(df_test['Close'].values, predicted_price)"
   ]
  },
  {
   "cell_type": "code",
   "execution_count": 41,
   "metadata": {},
   "outputs": [
    {
     "name": "stdout",
     "output_type": "stream",
     "text": [
      "\n",
      "Evaluación del Model LSTM para la predicción del Nasdaq:\n",
      "\n",
      "- RMSE (Raiz del Error Cuadrático Medio): 282.28\n",
      "- MAE (Error Absolute Medio): 230.55\n",
      "- Mape (Error Porcentaul Absoluto Medio): 1.62%\n",
      "\n",
      "\n"
     ]
    }
   ],
   "source": [
    "# Generar el resumen del performance\n",
    "performance_summary = f\"\"\"\n",
    "Evaluación del Model LSTM para la predicción del Nasdaq:\n",
    "\n",
    "- RMSE (Raiz del Error Cuadrático Medio): {rmse:.2f}\n",
    "- MAE (Error Absolute Medio): {mae:.2f}\n",
    "- Mape (Error Porcentaul Absoluto Medio): {mape * 100:.2f}%\n",
    "\n",
    "\"\"\"\n",
    "\n",
    "print(performance_summary)"
   ]
  }
 ],
 "metadata": {
  "kernelspec": {
   "display_name": "data_science_path",
   "language": "python",
   "name": "python3"
  },
  "language_info": {
   "codemirror_mode": {
    "name": "ipython",
    "version": 3
   },
   "file_extension": ".py",
   "mimetype": "text/x-python",
   "name": "python",
   "nbconvert_exporter": "python",
   "pygments_lexer": "ipython3",
   "version": "3.10.13"
  }
 },
 "nbformat": 4,
 "nbformat_minor": 2
}
