{
 "cells": [
  {
   "cell_type": "code",
   "execution_count": 10,
   "metadata": {},
   "outputs": [],
   "source": [
    "# Regresión lineal\n",
    "import yfinance as yf \n",
    "import pandas as pd\n",
    "from sklearn.model_selection import train_test_split\n",
    "from sklearn.linear_model import LinearRegression\n",
    "from sklearn.metrics import mean_squared_error, r2_score"
   ]
  },
  {
   "cell_type": "code",
   "execution_count": 11,
   "metadata": {},
   "outputs": [
    {
     "name": "stderr",
     "output_type": "stream",
     "text": [
      "[*********************100%***********************]  1 of 1 completed\n"
     ]
    }
   ],
   "source": [
    "# Descargar datos del futuro del Nasdaq \n",
    "df = yf.download('NQ=F', start='2020-01-01', end='2021-01-01')"
   ]
  },
  {
   "cell_type": "code",
   "execution_count": 12,
   "metadata": {},
   "outputs": [
    {
     "data": {
      "text/html": [
       "<div>\n",
       "<style scoped>\n",
       "    .dataframe tbody tr th:only-of-type {\n",
       "        vertical-align: middle;\n",
       "    }\n",
       "\n",
       "    .dataframe tbody tr th {\n",
       "        vertical-align: top;\n",
       "    }\n",
       "\n",
       "    .dataframe thead tr th {\n",
       "        text-align: left;\n",
       "    }\n",
       "\n",
       "    .dataframe thead tr:last-of-type th {\n",
       "        text-align: right;\n",
       "    }\n",
       "</style>\n",
       "<table border=\"1\" class=\"dataframe\">\n",
       "  <thead>\n",
       "    <tr>\n",
       "      <th>Price</th>\n",
       "      <th>Adj Close</th>\n",
       "      <th>Close</th>\n",
       "      <th>High</th>\n",
       "      <th>Low</th>\n",
       "      <th>Open</th>\n",
       "      <th>Volume</th>\n",
       "      <th>Dias</th>\n",
       "    </tr>\n",
       "    <tr>\n",
       "      <th>Ticker</th>\n",
       "      <th>NQ=F</th>\n",
       "      <th>NQ=F</th>\n",
       "      <th>NQ=F</th>\n",
       "      <th>NQ=F</th>\n",
       "      <th>NQ=F</th>\n",
       "      <th>NQ=F</th>\n",
       "      <th></th>\n",
       "    </tr>\n",
       "    <tr>\n",
       "      <th>Date</th>\n",
       "      <th></th>\n",
       "      <th></th>\n",
       "      <th></th>\n",
       "      <th></th>\n",
       "      <th></th>\n",
       "      <th></th>\n",
       "      <th></th>\n",
       "    </tr>\n",
       "  </thead>\n",
       "  <tbody>\n",
       "    <tr>\n",
       "      <th>2020-01-02 00:00:00+00:00</th>\n",
       "      <td>8891.75</td>\n",
       "      <td>8891.75</td>\n",
       "      <td>8901.50</td>\n",
       "      <td>8769.50</td>\n",
       "      <td>8776.75</td>\n",
       "      <td>416637</td>\n",
       "      <td>0</td>\n",
       "    </tr>\n",
       "    <tr>\n",
       "      <th>2020-01-03 00:00:00+00:00</th>\n",
       "      <td>8810.00</td>\n",
       "      <td>8810.00</td>\n",
       "      <td>8907.25</td>\n",
       "      <td>8735.25</td>\n",
       "      <td>8895.50</td>\n",
       "      <td>599887</td>\n",
       "      <td>1</td>\n",
       "    </tr>\n",
       "    <tr>\n",
       "      <th>2020-01-06 00:00:00+00:00</th>\n",
       "      <td>8847.50</td>\n",
       "      <td>8847.50</td>\n",
       "      <td>8873.00</td>\n",
       "      <td>8723.00</td>\n",
       "      <td>8772.25</td>\n",
       "      <td>469514</td>\n",
       "      <td>4</td>\n",
       "    </tr>\n",
       "    <tr>\n",
       "      <th>2020-01-07 00:00:00+00:00</th>\n",
       "      <td>8853.00</td>\n",
       "      <td>8853.00</td>\n",
       "      <td>8894.75</td>\n",
       "      <td>8825.75</td>\n",
       "      <td>8853.25</td>\n",
       "      <td>510004</td>\n",
       "      <td>5</td>\n",
       "    </tr>\n",
       "    <tr>\n",
       "      <th>2020-01-08 00:00:00+00:00</th>\n",
       "      <td>8944.50</td>\n",
       "      <td>8944.50</td>\n",
       "      <td>8972.25</td>\n",
       "      <td>8678.00</td>\n",
       "      <td>8841.50</td>\n",
       "      <td>723085</td>\n",
       "      <td>6</td>\n",
       "    </tr>\n",
       "    <tr>\n",
       "      <th>...</th>\n",
       "      <td>...</td>\n",
       "      <td>...</td>\n",
       "      <td>...</td>\n",
       "      <td>...</td>\n",
       "      <td>...</td>\n",
       "      <td>...</td>\n",
       "      <td>...</td>\n",
       "    </tr>\n",
       "    <tr>\n",
       "      <th>2020-12-24 00:00:00+00:00</th>\n",
       "      <td>12704.50</td>\n",
       "      <td>12704.50</td>\n",
       "      <td>12724.00</td>\n",
       "      <td>12631.50</td>\n",
       "      <td>12660.75</td>\n",
       "      <td>173464</td>\n",
       "      <td>357</td>\n",
       "    </tr>\n",
       "    <tr>\n",
       "      <th>2020-12-28 00:00:00+00:00</th>\n",
       "      <td>12832.75</td>\n",
       "      <td>12832.75</td>\n",
       "      <td>12855.50</td>\n",
       "      <td>12655.25</td>\n",
       "      <td>12676.25</td>\n",
       "      <td>346691</td>\n",
       "      <td>361</td>\n",
       "    </tr>\n",
       "    <tr>\n",
       "      <th>2020-12-29 00:00:00+00:00</th>\n",
       "      <td>12841.00</td>\n",
       "      <td>12841.00</td>\n",
       "      <td>12918.25</td>\n",
       "      <td>12808.25</td>\n",
       "      <td>12845.25</td>\n",
       "      <td>393995</td>\n",
       "      <td>362</td>\n",
       "    </tr>\n",
       "    <tr>\n",
       "      <th>2020-12-30 00:00:00+00:00</th>\n",
       "      <td>12841.50</td>\n",
       "      <td>12841.50</td>\n",
       "      <td>12909.75</td>\n",
       "      <td>12820.50</td>\n",
       "      <td>12860.75</td>\n",
       "      <td>334304</td>\n",
       "      <td>363</td>\n",
       "    </tr>\n",
       "    <tr>\n",
       "      <th>2020-12-31 00:00:00+00:00</th>\n",
       "      <td>12885.50</td>\n",
       "      <td>12885.50</td>\n",
       "      <td>12896.00</td>\n",
       "      <td>12796.50</td>\n",
       "      <td>12840.00</td>\n",
       "      <td>280573</td>\n",
       "      <td>364</td>\n",
       "    </tr>\n",
       "  </tbody>\n",
       "</table>\n",
       "<p>253 rows × 7 columns</p>\n",
       "</div>"
      ],
      "text/plain": [
       "Price                     Adj Close     Close      High       Low      Open  \\\n",
       "Ticker                         NQ=F      NQ=F      NQ=F      NQ=F      NQ=F   \n",
       "Date                                                                          \n",
       "2020-01-02 00:00:00+00:00   8891.75   8891.75   8901.50   8769.50   8776.75   \n",
       "2020-01-03 00:00:00+00:00   8810.00   8810.00   8907.25   8735.25   8895.50   \n",
       "2020-01-06 00:00:00+00:00   8847.50   8847.50   8873.00   8723.00   8772.25   \n",
       "2020-01-07 00:00:00+00:00   8853.00   8853.00   8894.75   8825.75   8853.25   \n",
       "2020-01-08 00:00:00+00:00   8944.50   8944.50   8972.25   8678.00   8841.50   \n",
       "...                             ...       ...       ...       ...       ...   \n",
       "2020-12-24 00:00:00+00:00  12704.50  12704.50  12724.00  12631.50  12660.75   \n",
       "2020-12-28 00:00:00+00:00  12832.75  12832.75  12855.50  12655.25  12676.25   \n",
       "2020-12-29 00:00:00+00:00  12841.00  12841.00  12918.25  12808.25  12845.25   \n",
       "2020-12-30 00:00:00+00:00  12841.50  12841.50  12909.75  12820.50  12860.75   \n",
       "2020-12-31 00:00:00+00:00  12885.50  12885.50  12896.00  12796.50  12840.00   \n",
       "\n",
       "Price                      Volume Dias  \n",
       "Ticker                       NQ=F       \n",
       "Date                                    \n",
       "2020-01-02 00:00:00+00:00  416637    0  \n",
       "2020-01-03 00:00:00+00:00  599887    1  \n",
       "2020-01-06 00:00:00+00:00  469514    4  \n",
       "2020-01-07 00:00:00+00:00  510004    5  \n",
       "2020-01-08 00:00:00+00:00  723085    6  \n",
       "...                           ...  ...  \n",
       "2020-12-24 00:00:00+00:00  173464  357  \n",
       "2020-12-28 00:00:00+00:00  346691  361  \n",
       "2020-12-29 00:00:00+00:00  393995  362  \n",
       "2020-12-30 00:00:00+00:00  334304  363  \n",
       "2020-12-31 00:00:00+00:00  280573  364  \n",
       "\n",
       "[253 rows x 7 columns]"
      ]
     },
     "execution_count": 12,
     "metadata": {},
     "output_type": "execute_result"
    }
   ],
   "source": [
    "# Crear la variable independiente (Dias) y la dependiente (cierre)\n",
    "df['Dias'] = (df.index - df.index[0]).days # Crear columna 'Dias' a partir de la fecha\n",
    "X = df[['Dias']] # Variable independiente\n",
    "Y = df['Close'] # Variable dependiente (Precio de cierre)\n",
    "df"
   ]
  },
  {
   "cell_type": "code",
   "execution_count": 13,
   "metadata": {},
   "outputs": [],
   "source": [
    "# Dividir los datos en conjunto de entrenamiento y conjunto de prueba\n",
    "X_train, X_test, Y_train, Y_test = train_test_split(X,Y, test_size=0.2, random_state=0)"
   ]
  },
  {
   "cell_type": "code",
   "execution_count": 14,
   "metadata": {},
   "outputs": [
    {
     "data": {
      "text/html": [
       "<style>#sk-container-id-2 {color: black;background-color: white;}#sk-container-id-2 pre{padding: 0;}#sk-container-id-2 div.sk-toggleable {background-color: white;}#sk-container-id-2 label.sk-toggleable__label {cursor: pointer;display: block;width: 100%;margin-bottom: 0;padding: 0.3em;box-sizing: border-box;text-align: center;}#sk-container-id-2 label.sk-toggleable__label-arrow:before {content: \"▸\";float: left;margin-right: 0.25em;color: #696969;}#sk-container-id-2 label.sk-toggleable__label-arrow:hover:before {color: black;}#sk-container-id-2 div.sk-estimator:hover label.sk-toggleable__label-arrow:before {color: black;}#sk-container-id-2 div.sk-toggleable__content {max-height: 0;max-width: 0;overflow: hidden;text-align: left;background-color: #f0f8ff;}#sk-container-id-2 div.sk-toggleable__content pre {margin: 0.2em;color: black;border-radius: 0.25em;background-color: #f0f8ff;}#sk-container-id-2 input.sk-toggleable__control:checked~div.sk-toggleable__content {max-height: 200px;max-width: 100%;overflow: auto;}#sk-container-id-2 input.sk-toggleable__control:checked~label.sk-toggleable__label-arrow:before {content: \"▾\";}#sk-container-id-2 div.sk-estimator input.sk-toggleable__control:checked~label.sk-toggleable__label {background-color: #d4ebff;}#sk-container-id-2 div.sk-label input.sk-toggleable__control:checked~label.sk-toggleable__label {background-color: #d4ebff;}#sk-container-id-2 input.sk-hidden--visually {border: 0;clip: rect(1px 1px 1px 1px);clip: rect(1px, 1px, 1px, 1px);height: 1px;margin: -1px;overflow: hidden;padding: 0;position: absolute;width: 1px;}#sk-container-id-2 div.sk-estimator {font-family: monospace;background-color: #f0f8ff;border: 1px dotted black;border-radius: 0.25em;box-sizing: border-box;margin-bottom: 0.5em;}#sk-container-id-2 div.sk-estimator:hover {background-color: #d4ebff;}#sk-container-id-2 div.sk-parallel-item::after {content: \"\";width: 100%;border-bottom: 1px solid gray;flex-grow: 1;}#sk-container-id-2 div.sk-label:hover label.sk-toggleable__label {background-color: #d4ebff;}#sk-container-id-2 div.sk-serial::before {content: \"\";position: absolute;border-left: 1px solid gray;box-sizing: border-box;top: 0;bottom: 0;left: 50%;z-index: 0;}#sk-container-id-2 div.sk-serial {display: flex;flex-direction: column;align-items: center;background-color: white;padding-right: 0.2em;padding-left: 0.2em;position: relative;}#sk-container-id-2 div.sk-item {position: relative;z-index: 1;}#sk-container-id-2 div.sk-parallel {display: flex;align-items: stretch;justify-content: center;background-color: white;position: relative;}#sk-container-id-2 div.sk-item::before, #sk-container-id-2 div.sk-parallel-item::before {content: \"\";position: absolute;border-left: 1px solid gray;box-sizing: border-box;top: 0;bottom: 0;left: 50%;z-index: -1;}#sk-container-id-2 div.sk-parallel-item {display: flex;flex-direction: column;z-index: 1;position: relative;background-color: white;}#sk-container-id-2 div.sk-parallel-item:first-child::after {align-self: flex-end;width: 50%;}#sk-container-id-2 div.sk-parallel-item:last-child::after {align-self: flex-start;width: 50%;}#sk-container-id-2 div.sk-parallel-item:only-child::after {width: 0;}#sk-container-id-2 div.sk-dashed-wrapped {border: 1px dashed gray;margin: 0 0.4em 0.5em 0.4em;box-sizing: border-box;padding-bottom: 0.4em;background-color: white;}#sk-container-id-2 div.sk-label label {font-family: monospace;font-weight: bold;display: inline-block;line-height: 1.2em;}#sk-container-id-2 div.sk-label-container {text-align: center;}#sk-container-id-2 div.sk-container {/* jupyter's `normalize.less` sets `[hidden] { display: none; }` but bootstrap.min.css set `[hidden] { display: none !important; }` so we also need the `!important` here to be able to override the default hidden behavior on the sphinx rendered scikit-learn.org. See: https://github.com/scikit-learn/scikit-learn/issues/21755 */display: inline-block !important;position: relative;}#sk-container-id-2 div.sk-text-repr-fallback {display: none;}</style><div id=\"sk-container-id-2\" class=\"sk-top-container\"><div class=\"sk-text-repr-fallback\"><pre>LinearRegression()</pre><b>In a Jupyter environment, please rerun this cell to show the HTML representation or trust the notebook. <br />On GitHub, the HTML representation is unable to render, please try loading this page with nbviewer.org.</b></div><div class=\"sk-container\" hidden><div class=\"sk-item\"><div class=\"sk-estimator sk-toggleable\"><input class=\"sk-toggleable__control sk-hidden--visually\" id=\"sk-estimator-id-2\" type=\"checkbox\" checked><label for=\"sk-estimator-id-2\" class=\"sk-toggleable__label sk-toggleable__label-arrow\">LinearRegression</label><div class=\"sk-toggleable__content\"><pre>LinearRegression()</pre></div></div></div></div></div>"
      ],
      "text/plain": [
       "LinearRegression()"
      ]
     },
     "execution_count": 14,
     "metadata": {},
     "output_type": "execute_result"
    }
   ],
   "source": [
    "# Crear y ajustar el modelo de regresion lineal\n",
    "modelo = LinearRegression()\n",
    "modelo.fit(X_train, Y_train)"
   ]
  },
  {
   "cell_type": "code",
   "execution_count": 15,
   "metadata": {},
   "outputs": [],
   "source": [
    "# Hacer predicciones sobre el conjunto de prubea\n",
    "predicciones = modelo.predict(X_test)"
   ]
  },
  {
   "cell_type": "code",
   "execution_count": 16,
   "metadata": {},
   "outputs": [
    {
     "name": "stdout",
     "output_type": "stream",
     "text": [
      "Error Cuadrático Medio: 387225.1427537994\n",
      "Coeficiente de Determinación (R^2): 0.8193668502692162\n"
     ]
    }
   ],
   "source": [
    "# Evaluar el modelo\n",
    "mse = mean_squared_error(Y_test, predicciones)\n",
    "r2 = r2_score(Y_test, predicciones)\n",
    "# Mostrar resultados\n",
    "print(f'Error Cuadrático Medio: {mse}')\n",
    "print(f'Coeficiente de Determinación (R^2): {r2}')\n"
   ]
  },
  {
   "cell_type": "code",
   "execution_count": 17,
   "metadata": {},
   "outputs": [
    {
     "name": "stdout",
     "output_type": "stream",
     "text": [
      "Price                        Close   Prediccion\n",
      "Ticker                        NQ=F             \n",
      "Date                                           \n",
      "2020-01-02 00:00:00+00:00  8891.75  7966.711578\n",
      "2020-01-03 00:00:00+00:00  8810.00  7979.352405\n",
      "2020-01-06 00:00:00+00:00  8847.50  8017.274885\n",
      "2020-01-07 00:00:00+00:00  8853.00  8029.915712\n",
      "2020-01-08 00:00:00+00:00  8944.50  8042.556539\n"
     ]
    }
   ],
   "source": [
    "# Mostrar primeras filas con predicciones\n",
    "df['Prediccion'] = modelo.predict(X)\n",
    "print(df[['Close', 'Prediccion']].head())\n"
   ]
  },
  {
   "cell_type": "code",
   "execution_count": 18,
   "metadata": {},
   "outputs": [
    {
     "data": {
      "text/plain": [
       "<Axes: xlabel='Date'>"
      ]
     },
     "execution_count": 18,
     "metadata": {},
     "output_type": "execute_result"
    },
    {
     "data": {
      "image/png": "[encoded data removed]",
      "text/plain": [
       "<Figure size 640x480 with 1 Axes>"
      ]
     },
     "metadata": {},
     "output_type": "display_data"
    }
   ],
   "source": [
    "df[['Close', 'Prediccion']].plot()"
   ]
  }
 ],
 "metadata": {
  "kernelspec": {
   "display_name": "data_science_path",
   "language": "python",
   "name": "python3"
  },
  "language_info": {
   "codemirror_mode": {
    "name": "ipython",
    "version": 3
   },
   "file_extension": ".py",
   "mimetype": "text/x-python",
   "name": "python",
   "nbconvert_exporter": "python",
   "pygments_lexer": "ipython3",
   "version": "3.10.13"
  }
 },
 "nbformat": 4,
 "nbformat_minor": 2
}
